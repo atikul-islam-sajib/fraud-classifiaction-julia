{
 "cells": [
  {
   "cell_type": "code",
   "execution_count": 1,
   "metadata": {},
   "outputs": [],
   "source": [
    "# loading necessery packages #\n",
    "\n",
    "using CSV\n",
    "using DataFrames\n",
    "using Clustering\n",
    "using ElasticArrays\n",
    "using DataStructures\n",
    "using DecisionTree\n",
    "using MLDataUtils \n",
    "using FreqTables\n",
    "using PyPlot\n",
    "using StatsPlots\n"
   ]
  },
  {
   "cell_type": "markdown",
   "metadata": {},
   "source": [
    "# Data Import\n",
    "Read a csv input (a filename given as a String, or any other IO source), returning a CSV.File object. Opens the file and uses passed arguments to detect the number of columns and column types. The returned CSV.File object supports the Tables.jl interface and can iterate CSV.Rows. CSV.Row supports propertynames and getproperty to access individual row values. Note that duplicate column names will be detected and adjusted to ensure uniqueness (duplicate column name a will become a_1).\n",
    "\n",
    "CSV.read — Function:  CSV.read(fullpath::Union{AbstractString,IO}, sink=DataFrame; kwargs...) => typeof(sink)\n",
    "\n",
    "Parses a delimited file into a Julia structure (a DataFrame by default, but any valid Tables.jl sink function can be provided)."
   ]
  },
  {
   "cell_type": "code",
   "execution_count": 2,
   "metadata": {
    "scrolled": true
   },
   "outputs": [
    {
     "data": {
      "text/html": [
       "<table class=\"data-frame\"><thead><tr><th></th><th>step</th><th>amount</th><th>nameOrig</th><th>oldbalanceOrg</th><th>newbalanceOrig</th><th>nameDest</th><th>oldbalanceDest</th><th>newbalanceDest</th><th>isFraud</th><th>isFlaggedFraud</th><th>CASH_IN</th><th>CASH_OUT</th><th>DEBIT</th><th>PAYMENT</th><th>TRANSFER</th></tr><tr><th></th><th>Int64⍰</th><th>Float64⍰</th><th>String⍰</th><th>Float64⍰</th><th>Float64⍰</th><th>String⍰</th><th>Float64⍰</th><th>Float64⍰</th><th>Int64⍰</th><th>Int64⍰</th><th>Int64⍰</th><th>Int64⍰</th><th>Int64⍰</th><th>Int64⍰</th><th>Int64⍰</th></tr></thead><tbody><p>6,362,620 rows × 15 columns</p><tr><th>1</th><td>1</td><td>9839.64</td><td>C1231006815</td><td>170136.0</td><td>1.60296e5</td><td>M1979787155</td><td>0.0</td><td>0.0</td><td>0</td><td>0</td><td>0</td><td>0</td><td>0</td><td>1</td><td>0</td></tr><tr><th>2</th><td>1</td><td>1864.28</td><td>C1666544295</td><td>21249.0</td><td>19384.7</td><td>M2044282225</td><td>0.0</td><td>0.0</td><td>0</td><td>0</td><td>0</td><td>0</td><td>0</td><td>1</td><td>0</td></tr><tr><th>3</th><td>1</td><td>181.0</td><td>C1305486145</td><td>181.0</td><td>0.0</td><td>C553264065</td><td>0.0</td><td>0.0</td><td>1</td><td>0</td><td>0</td><td>0</td><td>0</td><td>0</td><td>1</td></tr><tr><th>4</th><td>1</td><td>181.0</td><td>C840083671</td><td>181.0</td><td>0.0</td><td>C38997010</td><td>21182.0</td><td>0.0</td><td>1</td><td>0</td><td>0</td><td>1</td><td>0</td><td>0</td><td>0</td></tr><tr><th>5</th><td>1</td><td>11668.1</td><td>C2048537720</td><td>41554.0</td><td>29885.9</td><td>M1230701703</td><td>0.0</td><td>0.0</td><td>0</td><td>0</td><td>0</td><td>0</td><td>0</td><td>1</td><td>0</td></tr><tr><th>6</th><td>1</td><td>7817.71</td><td>C90045638</td><td>53860.0</td><td>46042.3</td><td>M573487274</td><td>0.0</td><td>0.0</td><td>0</td><td>0</td><td>0</td><td>0</td><td>0</td><td>1</td><td>0</td></tr><tr><th>7</th><td>1</td><td>7107.77</td><td>C154988899</td><td>183195.0</td><td>1.76087e5</td><td>M408069119</td><td>0.0</td><td>0.0</td><td>0</td><td>0</td><td>0</td><td>0</td><td>0</td><td>1</td><td>0</td></tr><tr><th>8</th><td>1</td><td>7861.64</td><td>C1912850431</td><td>1.76087e5</td><td>1.68226e5</td><td>M633326333</td><td>0.0</td><td>0.0</td><td>0</td><td>0</td><td>0</td><td>0</td><td>0</td><td>1</td><td>0</td></tr><tr><th>9</th><td>1</td><td>4024.36</td><td>C1265012928</td><td>2671.0</td><td>0.0</td><td>M1176932104</td><td>0.0</td><td>0.0</td><td>0</td><td>0</td><td>0</td><td>0</td><td>0</td><td>1</td><td>0</td></tr><tr><th>10</th><td>1</td><td>5337.77</td><td>C712410124</td><td>41720.0</td><td>36382.2</td><td>C195600860</td><td>41898.0</td><td>40348.8</td><td>0</td><td>0</td><td>0</td><td>0</td><td>1</td><td>0</td><td>0</td></tr><tr><th>11</th><td>1</td><td>9644.94</td><td>C1900366749</td><td>4465.0</td><td>0.0</td><td>C997608398</td><td>10845.0</td><td>1.57982e5</td><td>0</td><td>0</td><td>0</td><td>0</td><td>1</td><td>0</td><td>0</td></tr><tr><th>12</th><td>1</td><td>3099.97</td><td>C249177573</td><td>20771.0</td><td>17671.0</td><td>M2096539129</td><td>0.0</td><td>0.0</td><td>0</td><td>0</td><td>0</td><td>0</td><td>0</td><td>1</td><td>0</td></tr><tr><th>13</th><td>1</td><td>2560.74</td><td>C1648232591</td><td>5070.0</td><td>2509.26</td><td>M972865270</td><td>0.0</td><td>0.0</td><td>0</td><td>0</td><td>0</td><td>0</td><td>0</td><td>1</td><td>0</td></tr><tr><th>14</th><td>1</td><td>11633.8</td><td>C1716932897</td><td>10127.0</td><td>0.0</td><td>M801569151</td><td>0.0</td><td>0.0</td><td>0</td><td>0</td><td>0</td><td>0</td><td>0</td><td>1</td><td>0</td></tr><tr><th>15</th><td>1</td><td>4098.78</td><td>C1026483832</td><td>503264.0</td><td>4.99165e5</td><td>M1635378213</td><td>0.0</td><td>0.0</td><td>0</td><td>0</td><td>0</td><td>0</td><td>0</td><td>1</td><td>0</td></tr><tr><th>16</th><td>1</td><td>2.29134e5</td><td>C905080434</td><td>15325.0</td><td>0.0</td><td>C476402209</td><td>5083.0</td><td>51513.4</td><td>0</td><td>0</td><td>0</td><td>1</td><td>0</td><td>0</td><td>0</td></tr><tr><th>17</th><td>1</td><td>1563.82</td><td>C761750706</td><td>450.0</td><td>0.0</td><td>M1731217984</td><td>0.0</td><td>0.0</td><td>0</td><td>0</td><td>0</td><td>0</td><td>0</td><td>1</td><td>0</td></tr><tr><th>18</th><td>1</td><td>1157.86</td><td>C1237762639</td><td>21156.0</td><td>19998.1</td><td>M1877062907</td><td>0.0</td><td>0.0</td><td>0</td><td>0</td><td>0</td><td>0</td><td>0</td><td>1</td><td>0</td></tr><tr><th>19</th><td>1</td><td>671.64</td><td>C2033524545</td><td>15123.0</td><td>14451.4</td><td>M473053293</td><td>0.0</td><td>0.0</td><td>0</td><td>0</td><td>0</td><td>0</td><td>0</td><td>1</td><td>0</td></tr><tr><th>20</th><td>1</td><td>2.1531e5</td><td>C1670993182</td><td>705.0</td><td>0.0</td><td>C1100439041</td><td>22425.0</td><td>0.0</td><td>0</td><td>0</td><td>0</td><td>0</td><td>0</td><td>0</td><td>1</td></tr><tr><th>21</th><td>1</td><td>1373.43</td><td>C20804602</td><td>13854.0</td><td>12480.6</td><td>M1344519051</td><td>0.0</td><td>0.0</td><td>0</td><td>0</td><td>0</td><td>0</td><td>0</td><td>1</td><td>0</td></tr><tr><th>22</th><td>1</td><td>9302.79</td><td>C1566511282</td><td>11299.0</td><td>1996.21</td><td>C1973538135</td><td>29832.0</td><td>16896.7</td><td>0</td><td>0</td><td>0</td><td>0</td><td>1</td><td>0</td><td>0</td></tr><tr><th>23</th><td>1</td><td>1065.41</td><td>C1959239586</td><td>1817.0</td><td>751.59</td><td>C515132998</td><td>10330.0</td><td>0.0</td><td>0</td><td>0</td><td>0</td><td>0</td><td>1</td><td>0</td><td>0</td></tr><tr><th>24</th><td>1</td><td>3876.41</td><td>C504336483</td><td>67852.0</td><td>63975.6</td><td>M1404932042</td><td>0.0</td><td>0.0</td><td>0</td><td>0</td><td>0</td><td>0</td><td>0</td><td>1</td><td>0</td></tr><tr><th>25</th><td>1</td><td>3.11686e5</td><td>C1984094095</td><td>10835.0</td><td>0.0</td><td>C932583850</td><td>6267.0</td><td>2.71917e6</td><td>0</td><td>0</td><td>0</td><td>0</td><td>0</td><td>0</td><td>1</td></tr><tr><th>26</th><td>1</td><td>6061.13</td><td>C1043358826</td><td>443.0</td><td>0.0</td><td>M1558079303</td><td>0.0</td><td>0.0</td><td>0</td><td>0</td><td>0</td><td>0</td><td>0</td><td>1</td><td>0</td></tr><tr><th>27</th><td>1</td><td>9478.39</td><td>C1671590089</td><td>116494.0</td><td>1.07016e5</td><td>M58488213</td><td>0.0</td><td>0.0</td><td>0</td><td>0</td><td>0</td><td>0</td><td>0</td><td>1</td><td>0</td></tr><tr><th>28</th><td>1</td><td>8009.09</td><td>C1053967012</td><td>10968.0</td><td>2958.91</td><td>M295304806</td><td>0.0</td><td>0.0</td><td>0</td><td>0</td><td>0</td><td>0</td><td>0</td><td>1</td><td>0</td></tr><tr><th>29</th><td>1</td><td>8901.99</td><td>C1632497828</td><td>2958.91</td><td>0.0</td><td>M33419717</td><td>0.0</td><td>0.0</td><td>0</td><td>0</td><td>0</td><td>0</td><td>0</td><td>1</td><td>0</td></tr><tr><th>30</th><td>1</td><td>9920.52</td><td>C764826684</td><td>0.0</td><td>0.0</td><td>M1940055334</td><td>0.0</td><td>0.0</td><td>0</td><td>0</td><td>0</td><td>0</td><td>0</td><td>1</td><td>0</td></tr><tr><th>&vellip;</th><td>&vellip;</td><td>&vellip;</td><td>&vellip;</td><td>&vellip;</td><td>&vellip;</td><td>&vellip;</td><td>&vellip;</td><td>&vellip;</td><td>&vellip;</td><td>&vellip;</td><td>&vellip;</td><td>&vellip;</td><td>&vellip;</td><td>&vellip;</td><td>&vellip;</td></tr></tbody></table>"
      ],
      "text/latex": [
       "\\begin{tabular}{r|ccccccccccccccc}\n",
       "\t& step & amount & nameOrig & oldbalanceOrg & newbalanceOrig & nameDest & oldbalanceDest & newbalanceDest & isFraud & isFlaggedFraud & CASH\\_IN & CASH\\_OUT & DEBIT & PAYMENT & TRANSFER\\\\\n",
       "\t\\hline\n",
       "\t& Int64⍰ & Float64⍰ & String⍰ & Float64⍰ & Float64⍰ & String⍰ & Float64⍰ & Float64⍰ & Int64⍰ & Int64⍰ & Int64⍰ & Int64⍰ & Int64⍰ & Int64⍰ & Int64⍰\\\\\n",
       "\t\\hline\n",
       "\t1 & 1 & 9839.64 & C1231006815 & 170136.0 & 1.60296e5 & M1979787155 & 0.0 & 0.0 & 0 & 0 & 0 & 0 & 0 & 1 & 0 \\\\\n",
       "\t2 & 1 & 1864.28 & C1666544295 & 21249.0 & 19384.7 & M2044282225 & 0.0 & 0.0 & 0 & 0 & 0 & 0 & 0 & 1 & 0 \\\\\n",
       "\t3 & 1 & 181.0 & C1305486145 & 181.0 & 0.0 & C553264065 & 0.0 & 0.0 & 1 & 0 & 0 & 0 & 0 & 0 & 1 \\\\\n",
       "\t4 & 1 & 181.0 & C840083671 & 181.0 & 0.0 & C38997010 & 21182.0 & 0.0 & 1 & 0 & 0 & 1 & 0 & 0 & 0 \\\\\n",
       "\t5 & 1 & 11668.1 & C2048537720 & 41554.0 & 29885.9 & M1230701703 & 0.0 & 0.0 & 0 & 0 & 0 & 0 & 0 & 1 & 0 \\\\\n",
       "\t6 & 1 & 7817.71 & C90045638 & 53860.0 & 46042.3 & M573487274 & 0.0 & 0.0 & 0 & 0 & 0 & 0 & 0 & 1 & 0 \\\\\n",
       "\t7 & 1 & 7107.77 & C154988899 & 183195.0 & 1.76087e5 & M408069119 & 0.0 & 0.0 & 0 & 0 & 0 & 0 & 0 & 1 & 0 \\\\\n",
       "\t8 & 1 & 7861.64 & C1912850431 & 1.76087e5 & 1.68226e5 & M633326333 & 0.0 & 0.0 & 0 & 0 & 0 & 0 & 0 & 1 & 0 \\\\\n",
       "\t9 & 1 & 4024.36 & C1265012928 & 2671.0 & 0.0 & M1176932104 & 0.0 & 0.0 & 0 & 0 & 0 & 0 & 0 & 1 & 0 \\\\\n",
       "\t10 & 1 & 5337.77 & C712410124 & 41720.0 & 36382.2 & C195600860 & 41898.0 & 40348.8 & 0 & 0 & 0 & 0 & 1 & 0 & 0 \\\\\n",
       "\t11 & 1 & 9644.94 & C1900366749 & 4465.0 & 0.0 & C997608398 & 10845.0 & 1.57982e5 & 0 & 0 & 0 & 0 & 1 & 0 & 0 \\\\\n",
       "\t12 & 1 & 3099.97 & C249177573 & 20771.0 & 17671.0 & M2096539129 & 0.0 & 0.0 & 0 & 0 & 0 & 0 & 0 & 1 & 0 \\\\\n",
       "\t13 & 1 & 2560.74 & C1648232591 & 5070.0 & 2509.26 & M972865270 & 0.0 & 0.0 & 0 & 0 & 0 & 0 & 0 & 1 & 0 \\\\\n",
       "\t14 & 1 & 11633.8 & C1716932897 & 10127.0 & 0.0 & M801569151 & 0.0 & 0.0 & 0 & 0 & 0 & 0 & 0 & 1 & 0 \\\\\n",
       "\t15 & 1 & 4098.78 & C1026483832 & 503264.0 & 4.99165e5 & M1635378213 & 0.0 & 0.0 & 0 & 0 & 0 & 0 & 0 & 1 & 0 \\\\\n",
       "\t16 & 1 & 2.29134e5 & C905080434 & 15325.0 & 0.0 & C476402209 & 5083.0 & 51513.4 & 0 & 0 & 0 & 1 & 0 & 0 & 0 \\\\\n",
       "\t17 & 1 & 1563.82 & C761750706 & 450.0 & 0.0 & M1731217984 & 0.0 & 0.0 & 0 & 0 & 0 & 0 & 0 & 1 & 0 \\\\\n",
       "\t18 & 1 & 1157.86 & C1237762639 & 21156.0 & 19998.1 & M1877062907 & 0.0 & 0.0 & 0 & 0 & 0 & 0 & 0 & 1 & 0 \\\\\n",
       "\t19 & 1 & 671.64 & C2033524545 & 15123.0 & 14451.4 & M473053293 & 0.0 & 0.0 & 0 & 0 & 0 & 0 & 0 & 1 & 0 \\\\\n",
       "\t20 & 1 & 2.1531e5 & C1670993182 & 705.0 & 0.0 & C1100439041 & 22425.0 & 0.0 & 0 & 0 & 0 & 0 & 0 & 0 & 1 \\\\\n",
       "\t21 & 1 & 1373.43 & C20804602 & 13854.0 & 12480.6 & M1344519051 & 0.0 & 0.0 & 0 & 0 & 0 & 0 & 0 & 1 & 0 \\\\\n",
       "\t22 & 1 & 9302.79 & C1566511282 & 11299.0 & 1996.21 & C1973538135 & 29832.0 & 16896.7 & 0 & 0 & 0 & 0 & 1 & 0 & 0 \\\\\n",
       "\t23 & 1 & 1065.41 & C1959239586 & 1817.0 & 751.59 & C515132998 & 10330.0 & 0.0 & 0 & 0 & 0 & 0 & 1 & 0 & 0 \\\\\n",
       "\t24 & 1 & 3876.41 & C504336483 & 67852.0 & 63975.6 & M1404932042 & 0.0 & 0.0 & 0 & 0 & 0 & 0 & 0 & 1 & 0 \\\\\n",
       "\t25 & 1 & 3.11686e5 & C1984094095 & 10835.0 & 0.0 & C932583850 & 6267.0 & 2.71917e6 & 0 & 0 & 0 & 0 & 0 & 0 & 1 \\\\\n",
       "\t26 & 1 & 6061.13 & C1043358826 & 443.0 & 0.0 & M1558079303 & 0.0 & 0.0 & 0 & 0 & 0 & 0 & 0 & 1 & 0 \\\\\n",
       "\t27 & 1 & 9478.39 & C1671590089 & 116494.0 & 1.07016e5 & M58488213 & 0.0 & 0.0 & 0 & 0 & 0 & 0 & 0 & 1 & 0 \\\\\n",
       "\t28 & 1 & 8009.09 & C1053967012 & 10968.0 & 2958.91 & M295304806 & 0.0 & 0.0 & 0 & 0 & 0 & 0 & 0 & 1 & 0 \\\\\n",
       "\t29 & 1 & 8901.99 & C1632497828 & 2958.91 & 0.0 & M33419717 & 0.0 & 0.0 & 0 & 0 & 0 & 0 & 0 & 1 & 0 \\\\\n",
       "\t30 & 1 & 9920.52 & C764826684 & 0.0 & 0.0 & M1940055334 & 0.0 & 0.0 & 0 & 0 & 0 & 0 & 0 & 1 & 0 \\\\\n",
       "\t$\\dots$ & $\\dots$ & $\\dots$ & $\\dots$ & $\\dots$ & $\\dots$ & $\\dots$ & $\\dots$ & $\\dots$ & $\\dots$ & $\\dots$ & $\\dots$ & $\\dots$ & $\\dots$ & $\\dots$ & $\\dots$ \\\\\n",
       "\\end{tabular}\n"
      ],
      "text/plain": [
       "6362620×15 DataFrame. Omitted printing of 10 columns\n",
       "│ Row     │ step   │ amount    │ nameOrig    │ oldbalanceOrg │ newbalanceOrig │\n",
       "│         │ \u001b[90mInt64⍰\u001b[39m │ \u001b[90mFloat64⍰\u001b[39m  │ \u001b[90mString⍰\u001b[39m     │ \u001b[90mFloat64⍰\u001b[39m      │ \u001b[90mFloat64⍰\u001b[39m       │\n",
       "├─────────┼────────┼───────────┼─────────────┼───────────────┼────────────────┤\n",
       "│ 1       │ 1      │ 9839.64   │ C1231006815 │ 170136.0      │ 1.60296e5      │\n",
       "│ 2       │ 1      │ 1864.28   │ C1666544295 │ 21249.0       │ 19384.7        │\n",
       "│ 3       │ 1      │ 181.0     │ C1305486145 │ 181.0         │ 0.0            │\n",
       "│ 4       │ 1      │ 181.0     │ C840083671  │ 181.0         │ 0.0            │\n",
       "│ 5       │ 1      │ 11668.1   │ C2048537720 │ 41554.0       │ 29885.9        │\n",
       "│ 6       │ 1      │ 7817.71   │ C90045638   │ 53860.0       │ 46042.3        │\n",
       "│ 7       │ 1      │ 7107.77   │ C154988899  │ 183195.0      │ 1.76087e5      │\n",
       "│ 8       │ 1      │ 7861.64   │ C1912850431 │ 1.76087e5     │ 1.68226e5      │\n",
       "│ 9       │ 1      │ 4024.36   │ C1265012928 │ 2671.0        │ 0.0            │\n",
       "│ 10      │ 1      │ 5337.77   │ C712410124  │ 41720.0       │ 36382.2        │\n",
       "⋮\n",
       "│ 6362610 │ 742    │ 2.58355e5 │ C1113162093 │ 2.58355e5     │ 0.0            │\n",
       "│ 6362611 │ 742    │ 63417.0   │ C778071008  │ 63417.0       │ 0.0            │\n",
       "│ 6362612 │ 742    │ 63417.0   │ C994950684  │ 63417.0       │ 0.0            │\n",
       "│ 6362613 │ 743    │ 1.25882e6 │ C1531301470 │ 1.25882e6     │ 0.0            │\n",
       "│ 6362614 │ 743    │ 1.25882e6 │ C1436118706 │ 1.25882e6     │ 0.0            │\n",
       "│ 6362615 │ 743    │ 3.39682e5 │ C2013999242 │ 3.39682e5     │ 0.0            │\n",
       "│ 6362616 │ 743    │ 3.39682e5 │ C786484425  │ 3.39682e5     │ 0.0            │\n",
       "│ 6362617 │ 743    │ 6.31141e6 │ C1529008245 │ 6.31141e6     │ 0.0            │\n",
       "│ 6362618 │ 743    │ 6.31141e6 │ C1162922333 │ 6.31141e6     │ 0.0            │\n",
       "│ 6362619 │ 743    │ 8.50003e5 │ C1685995037 │ 8.50003e5     │ 0.0            │\n",
       "│ 6362620 │ 743    │ 8.50003e5 │ C1280323807 │ 8.50003e5     │ 0.0            │"
      ]
     },
     "execution_count": 2,
     "metadata": {},
     "output_type": "execute_result"
    }
   ],
   "source": [
    "# reading dataset \n",
    "dt = CSV.read(\"fraudData.csv\")"
   ]
  },
  {
   "cell_type": "markdown",
   "metadata": {},
   "source": [
    "# Data Exploration\n",
    "\n",
    "In this section, we explore the data\n",
    "\n"
   ]
  },
  {
   "cell_type": "markdown",
   "metadata": {},
   "source": [
    "### Pring Size of dataset \n",
    "function size() returns the dimensionality of data, which shows that there are 6362620 Instances (or rows or records) and \n",
    "15 Features (or columns)."
   ]
  },
  {
   "cell_type": "code",
   "execution_count": 3,
   "metadata": {},
   "outputs": [
    {
     "name": "stdout",
     "output_type": "stream",
     "text": [
      "Number of Instances: 6362620\n",
      "Number of Features: 15\n"
     ]
    }
   ],
   "source": [
    "# size function returns the number of row and columns of the dataset\n",
    "row, col = size(dt)\n",
    "println(\"Number of Instances: \", row)\n",
    "println(\"Number of Features: \", col)"
   ]
  },
  {
   "cell_type": "markdown",
   "metadata": {},
   "source": [
    "### List of features in training data"
   ]
  },
  {
   "cell_type": "code",
   "execution_count": 4,
   "metadata": {
    "scrolled": true
   },
   "outputs": [
    {
     "data": {
      "text/plain": [
       "15-element Array{Symbol,1}:\n",
       " :step          \n",
       " :amount        \n",
       " :nameOrig      \n",
       " :oldbalanceOrg \n",
       " :newbalanceOrig\n",
       " :nameDest      \n",
       " :oldbalanceDest\n",
       " :newbalanceDest\n",
       " :isFraud       \n",
       " :isFlaggedFraud\n",
       " :CASH_IN       \n",
       " :CASH_OUT      \n",
       " :DEBIT         \n",
       " :PAYMENT       \n",
       " :TRANSFER      "
      ]
     },
     "execution_count": 4,
     "metadata": {},
     "output_type": "execute_result"
    }
   ],
   "source": [
    "names(dt)"
   ]
  },
  {
   "cell_type": "markdown",
   "metadata": {},
   "source": [
    "### Showing first 10 example and last 10 example"
   ]
  },
  {
   "cell_type": "code",
   "execution_count": 5,
   "metadata": {},
   "outputs": [
    {
     "data": {
      "text/html": [
       "<table class=\"data-frame\"><thead><tr><th></th><th>step</th><th>amount</th><th>nameOrig</th><th>oldbalanceOrg</th><th>newbalanceOrig</th><th>nameDest</th><th>oldbalanceDest</th><th>newbalanceDest</th><th>isFraud</th><th>isFlaggedFraud</th><th>CASH_IN</th><th>CASH_OUT</th><th>DEBIT</th><th>PAYMENT</th><th>TRANSFER</th></tr><tr><th></th><th>Int64⍰</th><th>Float64⍰</th><th>String⍰</th><th>Float64⍰</th><th>Float64⍰</th><th>String⍰</th><th>Float64⍰</th><th>Float64⍰</th><th>Int64⍰</th><th>Int64⍰</th><th>Int64⍰</th><th>Int64⍰</th><th>Int64⍰</th><th>Int64⍰</th><th>Int64⍰</th></tr></thead><tbody><p>10 rows × 15 columns</p><tr><th>1</th><td>1</td><td>9839.64</td><td>C1231006815</td><td>170136.0</td><td>1.60296e5</td><td>M1979787155</td><td>0.0</td><td>0.0</td><td>0</td><td>0</td><td>0</td><td>0</td><td>0</td><td>1</td><td>0</td></tr><tr><th>2</th><td>1</td><td>1864.28</td><td>C1666544295</td><td>21249.0</td><td>19384.7</td><td>M2044282225</td><td>0.0</td><td>0.0</td><td>0</td><td>0</td><td>0</td><td>0</td><td>0</td><td>1</td><td>0</td></tr><tr><th>3</th><td>1</td><td>181.0</td><td>C1305486145</td><td>181.0</td><td>0.0</td><td>C553264065</td><td>0.0</td><td>0.0</td><td>1</td><td>0</td><td>0</td><td>0</td><td>0</td><td>0</td><td>1</td></tr><tr><th>4</th><td>1</td><td>181.0</td><td>C840083671</td><td>181.0</td><td>0.0</td><td>C38997010</td><td>21182.0</td><td>0.0</td><td>1</td><td>0</td><td>0</td><td>1</td><td>0</td><td>0</td><td>0</td></tr><tr><th>5</th><td>1</td><td>11668.1</td><td>C2048537720</td><td>41554.0</td><td>29885.9</td><td>M1230701703</td><td>0.0</td><td>0.0</td><td>0</td><td>0</td><td>0</td><td>0</td><td>0</td><td>1</td><td>0</td></tr><tr><th>6</th><td>1</td><td>7817.71</td><td>C90045638</td><td>53860.0</td><td>46042.3</td><td>M573487274</td><td>0.0</td><td>0.0</td><td>0</td><td>0</td><td>0</td><td>0</td><td>0</td><td>1</td><td>0</td></tr><tr><th>7</th><td>1</td><td>7107.77</td><td>C154988899</td><td>183195.0</td><td>1.76087e5</td><td>M408069119</td><td>0.0</td><td>0.0</td><td>0</td><td>0</td><td>0</td><td>0</td><td>0</td><td>1</td><td>0</td></tr><tr><th>8</th><td>1</td><td>7861.64</td><td>C1912850431</td><td>1.76087e5</td><td>1.68226e5</td><td>M633326333</td><td>0.0</td><td>0.0</td><td>0</td><td>0</td><td>0</td><td>0</td><td>0</td><td>1</td><td>0</td></tr><tr><th>9</th><td>1</td><td>4024.36</td><td>C1265012928</td><td>2671.0</td><td>0.0</td><td>M1176932104</td><td>0.0</td><td>0.0</td><td>0</td><td>0</td><td>0</td><td>0</td><td>0</td><td>1</td><td>0</td></tr><tr><th>10</th><td>1</td><td>5337.77</td><td>C712410124</td><td>41720.0</td><td>36382.2</td><td>C195600860</td><td>41898.0</td><td>40348.8</td><td>0</td><td>0</td><td>0</td><td>0</td><td>1</td><td>0</td><td>0</td></tr></tbody></table>"
      ],
      "text/latex": [
       "\\begin{tabular}{r|ccccccccccccccc}\n",
       "\t& step & amount & nameOrig & oldbalanceOrg & newbalanceOrig & nameDest & oldbalanceDest & newbalanceDest & isFraud & isFlaggedFraud & CASH\\_IN & CASH\\_OUT & DEBIT & PAYMENT & TRANSFER\\\\\n",
       "\t\\hline\n",
       "\t& Int64⍰ & Float64⍰ & String⍰ & Float64⍰ & Float64⍰ & String⍰ & Float64⍰ & Float64⍰ & Int64⍰ & Int64⍰ & Int64⍰ & Int64⍰ & Int64⍰ & Int64⍰ & Int64⍰\\\\\n",
       "\t\\hline\n",
       "\t1 & 1 & 9839.64 & C1231006815 & 170136.0 & 1.60296e5 & M1979787155 & 0.0 & 0.0 & 0 & 0 & 0 & 0 & 0 & 1 & 0 \\\\\n",
       "\t2 & 1 & 1864.28 & C1666544295 & 21249.0 & 19384.7 & M2044282225 & 0.0 & 0.0 & 0 & 0 & 0 & 0 & 0 & 1 & 0 \\\\\n",
       "\t3 & 1 & 181.0 & C1305486145 & 181.0 & 0.0 & C553264065 & 0.0 & 0.0 & 1 & 0 & 0 & 0 & 0 & 0 & 1 \\\\\n",
       "\t4 & 1 & 181.0 & C840083671 & 181.0 & 0.0 & C38997010 & 21182.0 & 0.0 & 1 & 0 & 0 & 1 & 0 & 0 & 0 \\\\\n",
       "\t5 & 1 & 11668.1 & C2048537720 & 41554.0 & 29885.9 & M1230701703 & 0.0 & 0.0 & 0 & 0 & 0 & 0 & 0 & 1 & 0 \\\\\n",
       "\t6 & 1 & 7817.71 & C90045638 & 53860.0 & 46042.3 & M573487274 & 0.0 & 0.0 & 0 & 0 & 0 & 0 & 0 & 1 & 0 \\\\\n",
       "\t7 & 1 & 7107.77 & C154988899 & 183195.0 & 1.76087e5 & M408069119 & 0.0 & 0.0 & 0 & 0 & 0 & 0 & 0 & 1 & 0 \\\\\n",
       "\t8 & 1 & 7861.64 & C1912850431 & 1.76087e5 & 1.68226e5 & M633326333 & 0.0 & 0.0 & 0 & 0 & 0 & 0 & 0 & 1 & 0 \\\\\n",
       "\t9 & 1 & 4024.36 & C1265012928 & 2671.0 & 0.0 & M1176932104 & 0.0 & 0.0 & 0 & 0 & 0 & 0 & 0 & 1 & 0 \\\\\n",
       "\t10 & 1 & 5337.77 & C712410124 & 41720.0 & 36382.2 & C195600860 & 41898.0 & 40348.8 & 0 & 0 & 0 & 0 & 1 & 0 & 0 \\\\\n",
       "\\end{tabular}\n"
      ],
      "text/plain": [
       "10×15 DataFrame. Omitted printing of 10 columns\n",
       "│ Row │ step   │ amount   │ nameOrig    │ oldbalanceOrg │ newbalanceOrig │\n",
       "│     │ \u001b[90mInt64⍰\u001b[39m │ \u001b[90mFloat64⍰\u001b[39m │ \u001b[90mString⍰\u001b[39m     │ \u001b[90mFloat64⍰\u001b[39m      │ \u001b[90mFloat64⍰\u001b[39m       │\n",
       "├─────┼────────┼──────────┼─────────────┼───────────────┼────────────────┤\n",
       "│ 1   │ 1      │ 9839.64  │ C1231006815 │ 170136.0      │ 1.60296e5      │\n",
       "│ 2   │ 1      │ 1864.28  │ C1666544295 │ 21249.0       │ 19384.7        │\n",
       "│ 3   │ 1      │ 181.0    │ C1305486145 │ 181.0         │ 0.0            │\n",
       "│ 4   │ 1      │ 181.0    │ C840083671  │ 181.0         │ 0.0            │\n",
       "│ 5   │ 1      │ 11668.1  │ C2048537720 │ 41554.0       │ 29885.9        │\n",
       "│ 6   │ 1      │ 7817.71  │ C90045638   │ 53860.0       │ 46042.3        │\n",
       "│ 7   │ 1      │ 7107.77  │ C154988899  │ 183195.0      │ 1.76087e5      │\n",
       "│ 8   │ 1      │ 7861.64  │ C1912850431 │ 1.76087e5     │ 1.68226e5      │\n",
       "│ 9   │ 1      │ 4024.36  │ C1265012928 │ 2671.0        │ 0.0            │\n",
       "│ 10  │ 1      │ 5337.77  │ C712410124  │ 41720.0       │ 36382.2        │"
      ]
     },
     "execution_count": 5,
     "metadata": {},
     "output_type": "execute_result"
    }
   ],
   "source": [
    "# printing first 10 example\n",
    "\n",
    "first(dt,10)"
   ]
  },
  {
   "cell_type": "code",
   "execution_count": 6,
   "metadata": {},
   "outputs": [
    {
     "data": {
      "text/html": [
       "<table class=\"data-frame\"><thead><tr><th></th><th>step</th><th>amount</th><th>nameOrig</th><th>oldbalanceOrg</th><th>newbalanceOrig</th><th>nameDest</th><th>oldbalanceDest</th><th>newbalanceDest</th><th>isFraud</th><th>isFlaggedFraud</th><th>CASH_IN</th><th>CASH_OUT</th><th>DEBIT</th><th>PAYMENT</th><th>TRANSFER</th></tr><tr><th></th><th>Int64⍰</th><th>Float64⍰</th><th>String⍰</th><th>Float64⍰</th><th>Float64⍰</th><th>String⍰</th><th>Float64⍰</th><th>Float64⍰</th><th>Int64⍰</th><th>Int64⍰</th><th>Int64⍰</th><th>Int64⍰</th><th>Int64⍰</th><th>Int64⍰</th><th>Int64⍰</th></tr></thead><tbody><p>10 rows × 15 columns</p><tr><th>1</th><td>742</td><td>63417.0</td><td>C778071008</td><td>63417.0</td><td>0.0</td><td>C1812552860</td><td>0.0</td><td>0.0</td><td>1</td><td>0</td><td>0</td><td>0</td><td>0</td><td>0</td><td>1</td></tr><tr><th>2</th><td>742</td><td>63417.0</td><td>C994950684</td><td>63417.0</td><td>0.0</td><td>C1662241365</td><td>2.76433e5</td><td>3.3985e5</td><td>1</td><td>0</td><td>0</td><td>1</td><td>0</td><td>0</td><td>0</td></tr><tr><th>3</th><td>743</td><td>1.25882e6</td><td>C1531301470</td><td>1.25882e6</td><td>0.0</td><td>C1470998563</td><td>0.0</td><td>0.0</td><td>1</td><td>0</td><td>0</td><td>0</td><td>0</td><td>0</td><td>1</td></tr><tr><th>4</th><td>743</td><td>1.25882e6</td><td>C1436118706</td><td>1.25882e6</td><td>0.0</td><td>C1240760502</td><td>5.03465e5</td><td>1.76228e6</td><td>1</td><td>0</td><td>0</td><td>1</td><td>0</td><td>0</td><td>0</td></tr><tr><th>5</th><td>743</td><td>3.39682e5</td><td>C2013999242</td><td>3.39682e5</td><td>0.0</td><td>C1850423904</td><td>0.0</td><td>0.0</td><td>1</td><td>0</td><td>0</td><td>0</td><td>0</td><td>0</td><td>1</td></tr><tr><th>6</th><td>743</td><td>3.39682e5</td><td>C786484425</td><td>3.39682e5</td><td>0.0</td><td>C776919290</td><td>0.0</td><td>3.39682e5</td><td>1</td><td>0</td><td>0</td><td>1</td><td>0</td><td>0</td><td>0</td></tr><tr><th>7</th><td>743</td><td>6.31141e6</td><td>C1529008245</td><td>6.31141e6</td><td>0.0</td><td>C1881841831</td><td>0.0</td><td>0.0</td><td>1</td><td>0</td><td>0</td><td>0</td><td>0</td><td>0</td><td>1</td></tr><tr><th>8</th><td>743</td><td>6.31141e6</td><td>C1162922333</td><td>6.31141e6</td><td>0.0</td><td>C1365125890</td><td>68488.8</td><td>6.3799e6</td><td>1</td><td>0</td><td>0</td><td>1</td><td>0</td><td>0</td><td>0</td></tr><tr><th>9</th><td>743</td><td>8.50003e5</td><td>C1685995037</td><td>8.50003e5</td><td>0.0</td><td>C2080388513</td><td>0.0</td><td>0.0</td><td>1</td><td>0</td><td>0</td><td>0</td><td>0</td><td>0</td><td>1</td></tr><tr><th>10</th><td>743</td><td>8.50003e5</td><td>C1280323807</td><td>8.50003e5</td><td>0.0</td><td>C873221189</td><td>6.5101e6</td><td>7.3601e6</td><td>1</td><td>0</td><td>0</td><td>1</td><td>0</td><td>0</td><td>0</td></tr></tbody></table>"
      ],
      "text/latex": [
       "\\begin{tabular}{r|ccccccccccccccc}\n",
       "\t& step & amount & nameOrig & oldbalanceOrg & newbalanceOrig & nameDest & oldbalanceDest & newbalanceDest & isFraud & isFlaggedFraud & CASH\\_IN & CASH\\_OUT & DEBIT & PAYMENT & TRANSFER\\\\\n",
       "\t\\hline\n",
       "\t& Int64⍰ & Float64⍰ & String⍰ & Float64⍰ & Float64⍰ & String⍰ & Float64⍰ & Float64⍰ & Int64⍰ & Int64⍰ & Int64⍰ & Int64⍰ & Int64⍰ & Int64⍰ & Int64⍰\\\\\n",
       "\t\\hline\n",
       "\t1 & 742 & 63417.0 & C778071008 & 63417.0 & 0.0 & C1812552860 & 0.0 & 0.0 & 1 & 0 & 0 & 0 & 0 & 0 & 1 \\\\\n",
       "\t2 & 742 & 63417.0 & C994950684 & 63417.0 & 0.0 & C1662241365 & 2.76433e5 & 3.3985e5 & 1 & 0 & 0 & 1 & 0 & 0 & 0 \\\\\n",
       "\t3 & 743 & 1.25882e6 & C1531301470 & 1.25882e6 & 0.0 & C1470998563 & 0.0 & 0.0 & 1 & 0 & 0 & 0 & 0 & 0 & 1 \\\\\n",
       "\t4 & 743 & 1.25882e6 & C1436118706 & 1.25882e6 & 0.0 & C1240760502 & 5.03465e5 & 1.76228e6 & 1 & 0 & 0 & 1 & 0 & 0 & 0 \\\\\n",
       "\t5 & 743 & 3.39682e5 & C2013999242 & 3.39682e5 & 0.0 & C1850423904 & 0.0 & 0.0 & 1 & 0 & 0 & 0 & 0 & 0 & 1 \\\\\n",
       "\t6 & 743 & 3.39682e5 & C786484425 & 3.39682e5 & 0.0 & C776919290 & 0.0 & 3.39682e5 & 1 & 0 & 0 & 1 & 0 & 0 & 0 \\\\\n",
       "\t7 & 743 & 6.31141e6 & C1529008245 & 6.31141e6 & 0.0 & C1881841831 & 0.0 & 0.0 & 1 & 0 & 0 & 0 & 0 & 0 & 1 \\\\\n",
       "\t8 & 743 & 6.31141e6 & C1162922333 & 6.31141e6 & 0.0 & C1365125890 & 68488.8 & 6.3799e6 & 1 & 0 & 0 & 1 & 0 & 0 & 0 \\\\\n",
       "\t9 & 743 & 8.50003e5 & C1685995037 & 8.50003e5 & 0.0 & C2080388513 & 0.0 & 0.0 & 1 & 0 & 0 & 0 & 0 & 0 & 1 \\\\\n",
       "\t10 & 743 & 8.50003e5 & C1280323807 & 8.50003e5 & 0.0 & C873221189 & 6.5101e6 & 7.3601e6 & 1 & 0 & 0 & 1 & 0 & 0 & 0 \\\\\n",
       "\\end{tabular}\n"
      ],
      "text/plain": [
       "10×15 DataFrame. Omitted printing of 10 columns\n",
       "│ Row │ step   │ amount    │ nameOrig    │ oldbalanceOrg │ newbalanceOrig │\n",
       "│     │ \u001b[90mInt64⍰\u001b[39m │ \u001b[90mFloat64⍰\u001b[39m  │ \u001b[90mString⍰\u001b[39m     │ \u001b[90mFloat64⍰\u001b[39m      │ \u001b[90mFloat64⍰\u001b[39m       │\n",
       "├─────┼────────┼───────────┼─────────────┼───────────────┼────────────────┤\n",
       "│ 1   │ 742    │ 63417.0   │ C778071008  │ 63417.0       │ 0.0            │\n",
       "│ 2   │ 742    │ 63417.0   │ C994950684  │ 63417.0       │ 0.0            │\n",
       "│ 3   │ 743    │ 1.25882e6 │ C1531301470 │ 1.25882e6     │ 0.0            │\n",
       "│ 4   │ 743    │ 1.25882e6 │ C1436118706 │ 1.25882e6     │ 0.0            │\n",
       "│ 5   │ 743    │ 3.39682e5 │ C2013999242 │ 3.39682e5     │ 0.0            │\n",
       "│ 6   │ 743    │ 3.39682e5 │ C786484425  │ 3.39682e5     │ 0.0            │\n",
       "│ 7   │ 743    │ 6.31141e6 │ C1529008245 │ 6.31141e6     │ 0.0            │\n",
       "│ 8   │ 743    │ 6.31141e6 │ C1162922333 │ 6.31141e6     │ 0.0            │\n",
       "│ 9   │ 743    │ 8.50003e5 │ C1685995037 │ 8.50003e5     │ 0.0            │\n",
       "│ 10  │ 743    │ 8.50003e5 │ C1280323807 │ 8.50003e5     │ 0.0            │"
      ]
     },
     "execution_count": 6,
     "metadata": {},
     "output_type": "execute_result"
    }
   ],
   "source": [
    "# Printing last 10 examples\n",
    "\n",
    "last(dt, 10)"
   ]
  },
  {
   "cell_type": "markdown",
   "metadata": {},
   "source": [
    "## Distribution of every features in dataset."
   ]
  },
  {
   "cell_type": "code",
   "execution_count": 7,
   "metadata": {},
   "outputs": [
    {
     "name": "stdout",
     "output_type": "stream",
     "text": [
      "15×8 DataFrame\n",
      "│ Row │ variable       │ mean       │ min         │ median    │ max        │ nunique │ nmissing │ eltype   │\n",
      "│     │ \u001b[90mSymbol\u001b[39m         │ \u001b[90mUnion…\u001b[39m     │ \u001b[90mAny\u001b[39m         │ \u001b[90mUnion…\u001b[39m    │ \u001b[90mAny\u001b[39m        │ \u001b[90mUnion…\u001b[39m  │ \u001b[90mInt64\u001b[39m    │ \u001b[90mDataType\u001b[39m │\n",
      "├─────┼────────────────┼────────────┼─────────────┼───────────┼────────────┼─────────┼──────────┼──────────┤\n",
      "│ 1   │ step           │ 243.397    │ 1           │ 239.0     │ 743        │         │ 0        │ Int64    │\n",
      "│ 2   │ amount         │ 1.79862e5  │ 0.0         │ 74871.9   │ 9.24455e7  │         │ 0        │ Float64  │\n",
      "│ 3   │ nameOrig       │            │ C1000000639 │           │ C999999784 │ 6353307 │ 0        │ String   │\n",
      "│ 4   │ oldbalanceOrg  │ 8.33883e5  │ 0.0         │ 14208.0   │ 5.9585e7   │         │ 0        │ Float64  │\n",
      "│ 5   │ newbalanceOrig │ 8.55114e5  │ 0.0         │ 0.0       │ 4.9585e7   │         │ 0        │ Float64  │\n",
      "│ 6   │ nameDest       │            │ C1000004082 │           │ M999999784 │ 2722362 │ 0        │ String   │\n",
      "│ 7   │ oldbalanceDest │ 1.1007e6   │ 0.0         │ 1.32706e5 │ 3.56016e8  │         │ 0        │ Float64  │\n",
      "│ 8   │ newbalanceDest │ 1.225e6    │ 0.0         │ 2.14661e5 │ 3.56179e8  │         │ 0        │ Float64  │\n",
      "│ 9   │ isFraud        │ 0.00129082 │ 0           │ 0.0       │ 1          │         │ 0        │ Int64    │\n",
      "│ 10  │ isFlaggedFraud │ 2.51469e-6 │ 0           │ 0.0       │ 1          │         │ 0        │ Int64    │\n",
      "│ 11  │ CASH_IN        │ 0.219923   │ 0           │ 0.0       │ 1          │         │ 0        │ Int64    │\n",
      "│ 12  │ CASH_OUT       │ 0.351663   │ 0           │ 0.0       │ 1          │         │ 0        │ Int64    │\n",
      "│ 13  │ DEBIT          │ 0.00651178 │ 0           │ 0.0       │ 1          │         │ 0        │ Int64    │\n",
      "│ 14  │ PAYMENT        │ 0.338146   │ 0           │ 0.0       │ 1          │         │ 0        │ Int64    │\n",
      "│ 15  │ TRANSFER       │ 0.0837562  │ 0           │ 0.0       │ 1          │         │ 0        │ Int64    │\n"
     ]
    }
   ],
   "source": [
    "println(describe(dt))"
   ]
  },
  {
   "cell_type": "code",
   "execution_count": null,
   "metadata": {},
   "outputs": [],
   "source": []
  },
  {
   "cell_type": "markdown",
   "metadata": {},
   "source": [
    "## Histogram showing frequency distribution of non-fraud and fraud instances"
   ]
  },
  {
   "cell_type": "code",
   "execution_count": 8,
   "metadata": {
    "scrolled": false
   },
   "outputs": [
    {
     "data": {
      "image/png": "[encoded data removed]",
      "text/plain": [
       "Figure(PyObject <Figure size 640x480 with 1 Axes>)"
      ]
     },
     "metadata": {},
     "output_type": "display_data"
    },
    {
     "data": {
      "text/plain": [
       "PyObject Text(24.0, 0.5, 'Frequency')"
      ]
     },
     "execution_count": 8,
     "metadata": {},
     "output_type": "execute_result"
    }
   ],
   "source": [
    "h = PyPlot.plt.hist(dt[:isFraud], 2) \n",
    "plt.title(\"Histogram of isFraud\")\n",
    "plt.xlabel(\"Nonfraud, fraud\")\n",
    "plt.ylabel(\"Frequency\")\n"
   ]
  },
  {
   "cell_type": "markdown",
   "metadata": {},
   "source": [
    "## Remove unnecessary column\n",
    "As \"nameOrig\" and \"nameDest\" are not playing a vital role for a fraud transaction so we can delete these columns."
   ]
  },
  {
   "cell_type": "code",
   "execution_count": 9,
   "metadata": {
    "scrolled": false
   },
   "outputs": [
    {
     "data": {
      "text/html": [
       "<table class=\"data-frame\"><thead><tr><th></th><th>step</th><th>amount</th><th>oldbalanceOrg</th><th>newbalanceOrig</th><th>oldbalanceDest</th><th>newbalanceDest</th><th>isFraud</th><th>isFlaggedFraud</th><th>CASH_IN</th><th>CASH_OUT</th><th>DEBIT</th><th>PAYMENT</th><th>TRANSFER</th></tr><tr><th></th><th>Int64⍰</th><th>Float64⍰</th><th>Float64⍰</th><th>Float64⍰</th><th>Float64⍰</th><th>Float64⍰</th><th>Int64⍰</th><th>Int64⍰</th><th>Int64⍰</th><th>Int64⍰</th><th>Int64⍰</th><th>Int64⍰</th><th>Int64⍰</th></tr></thead><tbody><p>6,362,620 rows × 13 columns</p><tr><th>1</th><td>1</td><td>9839.64</td><td>170136.0</td><td>1.60296e5</td><td>0.0</td><td>0.0</td><td>0</td><td>0</td><td>0</td><td>0</td><td>0</td><td>1</td><td>0</td></tr><tr><th>2</th><td>1</td><td>1864.28</td><td>21249.0</td><td>19384.7</td><td>0.0</td><td>0.0</td><td>0</td><td>0</td><td>0</td><td>0</td><td>0</td><td>1</td><td>0</td></tr><tr><th>3</th><td>1</td><td>181.0</td><td>181.0</td><td>0.0</td><td>0.0</td><td>0.0</td><td>1</td><td>0</td><td>0</td><td>0</td><td>0</td><td>0</td><td>1</td></tr><tr><th>4</th><td>1</td><td>181.0</td><td>181.0</td><td>0.0</td><td>21182.0</td><td>0.0</td><td>1</td><td>0</td><td>0</td><td>1</td><td>0</td><td>0</td><td>0</td></tr><tr><th>5</th><td>1</td><td>11668.1</td><td>41554.0</td><td>29885.9</td><td>0.0</td><td>0.0</td><td>0</td><td>0</td><td>0</td><td>0</td><td>0</td><td>1</td><td>0</td></tr><tr><th>6</th><td>1</td><td>7817.71</td><td>53860.0</td><td>46042.3</td><td>0.0</td><td>0.0</td><td>0</td><td>0</td><td>0</td><td>0</td><td>0</td><td>1</td><td>0</td></tr><tr><th>7</th><td>1</td><td>7107.77</td><td>183195.0</td><td>1.76087e5</td><td>0.0</td><td>0.0</td><td>0</td><td>0</td><td>0</td><td>0</td><td>0</td><td>1</td><td>0</td></tr><tr><th>8</th><td>1</td><td>7861.64</td><td>1.76087e5</td><td>1.68226e5</td><td>0.0</td><td>0.0</td><td>0</td><td>0</td><td>0</td><td>0</td><td>0</td><td>1</td><td>0</td></tr><tr><th>9</th><td>1</td><td>4024.36</td><td>2671.0</td><td>0.0</td><td>0.0</td><td>0.0</td><td>0</td><td>0</td><td>0</td><td>0</td><td>0</td><td>1</td><td>0</td></tr><tr><th>10</th><td>1</td><td>5337.77</td><td>41720.0</td><td>36382.2</td><td>41898.0</td><td>40348.8</td><td>0</td><td>0</td><td>0</td><td>0</td><td>1</td><td>0</td><td>0</td></tr><tr><th>11</th><td>1</td><td>9644.94</td><td>4465.0</td><td>0.0</td><td>10845.0</td><td>1.57982e5</td><td>0</td><td>0</td><td>0</td><td>0</td><td>1</td><td>0</td><td>0</td></tr><tr><th>12</th><td>1</td><td>3099.97</td><td>20771.0</td><td>17671.0</td><td>0.0</td><td>0.0</td><td>0</td><td>0</td><td>0</td><td>0</td><td>0</td><td>1</td><td>0</td></tr><tr><th>13</th><td>1</td><td>2560.74</td><td>5070.0</td><td>2509.26</td><td>0.0</td><td>0.0</td><td>0</td><td>0</td><td>0</td><td>0</td><td>0</td><td>1</td><td>0</td></tr><tr><th>14</th><td>1</td><td>11633.8</td><td>10127.0</td><td>0.0</td><td>0.0</td><td>0.0</td><td>0</td><td>0</td><td>0</td><td>0</td><td>0</td><td>1</td><td>0</td></tr><tr><th>15</th><td>1</td><td>4098.78</td><td>503264.0</td><td>4.99165e5</td><td>0.0</td><td>0.0</td><td>0</td><td>0</td><td>0</td><td>0</td><td>0</td><td>1</td><td>0</td></tr><tr><th>16</th><td>1</td><td>2.29134e5</td><td>15325.0</td><td>0.0</td><td>5083.0</td><td>51513.4</td><td>0</td><td>0</td><td>0</td><td>1</td><td>0</td><td>0</td><td>0</td></tr><tr><th>17</th><td>1</td><td>1563.82</td><td>450.0</td><td>0.0</td><td>0.0</td><td>0.0</td><td>0</td><td>0</td><td>0</td><td>0</td><td>0</td><td>1</td><td>0</td></tr><tr><th>18</th><td>1</td><td>1157.86</td><td>21156.0</td><td>19998.1</td><td>0.0</td><td>0.0</td><td>0</td><td>0</td><td>0</td><td>0</td><td>0</td><td>1</td><td>0</td></tr><tr><th>19</th><td>1</td><td>671.64</td><td>15123.0</td><td>14451.4</td><td>0.0</td><td>0.0</td><td>0</td><td>0</td><td>0</td><td>0</td><td>0</td><td>1</td><td>0</td></tr><tr><th>20</th><td>1</td><td>2.1531e5</td><td>705.0</td><td>0.0</td><td>22425.0</td><td>0.0</td><td>0</td><td>0</td><td>0</td><td>0</td><td>0</td><td>0</td><td>1</td></tr><tr><th>21</th><td>1</td><td>1373.43</td><td>13854.0</td><td>12480.6</td><td>0.0</td><td>0.0</td><td>0</td><td>0</td><td>0</td><td>0</td><td>0</td><td>1</td><td>0</td></tr><tr><th>22</th><td>1</td><td>9302.79</td><td>11299.0</td><td>1996.21</td><td>29832.0</td><td>16896.7</td><td>0</td><td>0</td><td>0</td><td>0</td><td>1</td><td>0</td><td>0</td></tr><tr><th>23</th><td>1</td><td>1065.41</td><td>1817.0</td><td>751.59</td><td>10330.0</td><td>0.0</td><td>0</td><td>0</td><td>0</td><td>0</td><td>1</td><td>0</td><td>0</td></tr><tr><th>24</th><td>1</td><td>3876.41</td><td>67852.0</td><td>63975.6</td><td>0.0</td><td>0.0</td><td>0</td><td>0</td><td>0</td><td>0</td><td>0</td><td>1</td><td>0</td></tr><tr><th>25</th><td>1</td><td>3.11686e5</td><td>10835.0</td><td>0.0</td><td>6267.0</td><td>2.71917e6</td><td>0</td><td>0</td><td>0</td><td>0</td><td>0</td><td>0</td><td>1</td></tr><tr><th>26</th><td>1</td><td>6061.13</td><td>443.0</td><td>0.0</td><td>0.0</td><td>0.0</td><td>0</td><td>0</td><td>0</td><td>0</td><td>0</td><td>1</td><td>0</td></tr><tr><th>27</th><td>1</td><td>9478.39</td><td>116494.0</td><td>1.07016e5</td><td>0.0</td><td>0.0</td><td>0</td><td>0</td><td>0</td><td>0</td><td>0</td><td>1</td><td>0</td></tr><tr><th>28</th><td>1</td><td>8009.09</td><td>10968.0</td><td>2958.91</td><td>0.0</td><td>0.0</td><td>0</td><td>0</td><td>0</td><td>0</td><td>0</td><td>1</td><td>0</td></tr><tr><th>29</th><td>1</td><td>8901.99</td><td>2958.91</td><td>0.0</td><td>0.0</td><td>0.0</td><td>0</td><td>0</td><td>0</td><td>0</td><td>0</td><td>1</td><td>0</td></tr><tr><th>30</th><td>1</td><td>9920.52</td><td>0.0</td><td>0.0</td><td>0.0</td><td>0.0</td><td>0</td><td>0</td><td>0</td><td>0</td><td>0</td><td>1</td><td>0</td></tr><tr><th>&vellip;</th><td>&vellip;</td><td>&vellip;</td><td>&vellip;</td><td>&vellip;</td><td>&vellip;</td><td>&vellip;</td><td>&vellip;</td><td>&vellip;</td><td>&vellip;</td><td>&vellip;</td><td>&vellip;</td><td>&vellip;</td><td>&vellip;</td></tr></tbody></table>"
      ],
      "text/latex": [
       "\\begin{tabular}{r|ccccccccccccc}\n",
       "\t& step & amount & oldbalanceOrg & newbalanceOrig & oldbalanceDest & newbalanceDest & isFraud & isFlaggedFraud & CASH\\_IN & CASH\\_OUT & DEBIT & PAYMENT & TRANSFER\\\\\n",
       "\t\\hline\n",
       "\t& Int64⍰ & Float64⍰ & Float64⍰ & Float64⍰ & Float64⍰ & Float64⍰ & Int64⍰ & Int64⍰ & Int64⍰ & Int64⍰ & Int64⍰ & Int64⍰ & Int64⍰\\\\\n",
       "\t\\hline\n",
       "\t1 & 1 & 9839.64 & 170136.0 & 1.60296e5 & 0.0 & 0.0 & 0 & 0 & 0 & 0 & 0 & 1 & 0 \\\\\n",
       "\t2 & 1 & 1864.28 & 21249.0 & 19384.7 & 0.0 & 0.0 & 0 & 0 & 0 & 0 & 0 & 1 & 0 \\\\\n",
       "\t3 & 1 & 181.0 & 181.0 & 0.0 & 0.0 & 0.0 & 1 & 0 & 0 & 0 & 0 & 0 & 1 \\\\\n",
       "\t4 & 1 & 181.0 & 181.0 & 0.0 & 21182.0 & 0.0 & 1 & 0 & 0 & 1 & 0 & 0 & 0 \\\\\n",
       "\t5 & 1 & 11668.1 & 41554.0 & 29885.9 & 0.0 & 0.0 & 0 & 0 & 0 & 0 & 0 & 1 & 0 \\\\\n",
       "\t6 & 1 & 7817.71 & 53860.0 & 46042.3 & 0.0 & 0.0 & 0 & 0 & 0 & 0 & 0 & 1 & 0 \\\\\n",
       "\t7 & 1 & 7107.77 & 183195.0 & 1.76087e5 & 0.0 & 0.0 & 0 & 0 & 0 & 0 & 0 & 1 & 0 \\\\\n",
       "\t8 & 1 & 7861.64 & 1.76087e5 & 1.68226e5 & 0.0 & 0.0 & 0 & 0 & 0 & 0 & 0 & 1 & 0 \\\\\n",
       "\t9 & 1 & 4024.36 & 2671.0 & 0.0 & 0.0 & 0.0 & 0 & 0 & 0 & 0 & 0 & 1 & 0 \\\\\n",
       "\t10 & 1 & 5337.77 & 41720.0 & 36382.2 & 41898.0 & 40348.8 & 0 & 0 & 0 & 0 & 1 & 0 & 0 \\\\\n",
       "\t11 & 1 & 9644.94 & 4465.0 & 0.0 & 10845.0 & 1.57982e5 & 0 & 0 & 0 & 0 & 1 & 0 & 0 \\\\\n",
       "\t12 & 1 & 3099.97 & 20771.0 & 17671.0 & 0.0 & 0.0 & 0 & 0 & 0 & 0 & 0 & 1 & 0 \\\\\n",
       "\t13 & 1 & 2560.74 & 5070.0 & 2509.26 & 0.0 & 0.0 & 0 & 0 & 0 & 0 & 0 & 1 & 0 \\\\\n",
       "\t14 & 1 & 11633.8 & 10127.0 & 0.0 & 0.0 & 0.0 & 0 & 0 & 0 & 0 & 0 & 1 & 0 \\\\\n",
       "\t15 & 1 & 4098.78 & 503264.0 & 4.99165e5 & 0.0 & 0.0 & 0 & 0 & 0 & 0 & 0 & 1 & 0 \\\\\n",
       "\t16 & 1 & 2.29134e5 & 15325.0 & 0.0 & 5083.0 & 51513.4 & 0 & 0 & 0 & 1 & 0 & 0 & 0 \\\\\n",
       "\t17 & 1 & 1563.82 & 450.0 & 0.0 & 0.0 & 0.0 & 0 & 0 & 0 & 0 & 0 & 1 & 0 \\\\\n",
       "\t18 & 1 & 1157.86 & 21156.0 & 19998.1 & 0.0 & 0.0 & 0 & 0 & 0 & 0 & 0 & 1 & 0 \\\\\n",
       "\t19 & 1 & 671.64 & 15123.0 & 14451.4 & 0.0 & 0.0 & 0 & 0 & 0 & 0 & 0 & 1 & 0 \\\\\n",
       "\t20 & 1 & 2.1531e5 & 705.0 & 0.0 & 22425.0 & 0.0 & 0 & 0 & 0 & 0 & 0 & 0 & 1 \\\\\n",
       "\t21 & 1 & 1373.43 & 13854.0 & 12480.6 & 0.0 & 0.0 & 0 & 0 & 0 & 0 & 0 & 1 & 0 \\\\\n",
       "\t22 & 1 & 9302.79 & 11299.0 & 1996.21 & 29832.0 & 16896.7 & 0 & 0 & 0 & 0 & 1 & 0 & 0 \\\\\n",
       "\t23 & 1 & 1065.41 & 1817.0 & 751.59 & 10330.0 & 0.0 & 0 & 0 & 0 & 0 & 1 & 0 & 0 \\\\\n",
       "\t24 & 1 & 3876.41 & 67852.0 & 63975.6 & 0.0 & 0.0 & 0 & 0 & 0 & 0 & 0 & 1 & 0 \\\\\n",
       "\t25 & 1 & 3.11686e5 & 10835.0 & 0.0 & 6267.0 & 2.71917e6 & 0 & 0 & 0 & 0 & 0 & 0 & 1 \\\\\n",
       "\t26 & 1 & 6061.13 & 443.0 & 0.0 & 0.0 & 0.0 & 0 & 0 & 0 & 0 & 0 & 1 & 0 \\\\\n",
       "\t27 & 1 & 9478.39 & 116494.0 & 1.07016e5 & 0.0 & 0.0 & 0 & 0 & 0 & 0 & 0 & 1 & 0 \\\\\n",
       "\t28 & 1 & 8009.09 & 10968.0 & 2958.91 & 0.0 & 0.0 & 0 & 0 & 0 & 0 & 0 & 1 & 0 \\\\\n",
       "\t29 & 1 & 8901.99 & 2958.91 & 0.0 & 0.0 & 0.0 & 0 & 0 & 0 & 0 & 0 & 1 & 0 \\\\\n",
       "\t30 & 1 & 9920.52 & 0.0 & 0.0 & 0.0 & 0.0 & 0 & 0 & 0 & 0 & 0 & 1 & 0 \\\\\n",
       "\t$\\dots$ & $\\dots$ & $\\dots$ & $\\dots$ & $\\dots$ & $\\dots$ & $\\dots$ & $\\dots$ & $\\dots$ & $\\dots$ & $\\dots$ & $\\dots$ & $\\dots$ & $\\dots$ \\\\\n",
       "\\end{tabular}\n"
      ],
      "text/plain": [
       "6362620×13 DataFrame. Omitted printing of 9 columns\n",
       "│ Row     │ step   │ amount    │ oldbalanceOrg │ newbalanceOrig │\n",
       "│         │ \u001b[90mInt64⍰\u001b[39m │ \u001b[90mFloat64⍰\u001b[39m  │ \u001b[90mFloat64⍰\u001b[39m      │ \u001b[90mFloat64⍰\u001b[39m       │\n",
       "├─────────┼────────┼───────────┼───────────────┼────────────────┤\n",
       "│ 1       │ 1      │ 9839.64   │ 170136.0      │ 1.60296e5      │\n",
       "│ 2       │ 1      │ 1864.28   │ 21249.0       │ 19384.7        │\n",
       "│ 3       │ 1      │ 181.0     │ 181.0         │ 0.0            │\n",
       "│ 4       │ 1      │ 181.0     │ 181.0         │ 0.0            │\n",
       "│ 5       │ 1      │ 11668.1   │ 41554.0       │ 29885.9        │\n",
       "│ 6       │ 1      │ 7817.71   │ 53860.0       │ 46042.3        │\n",
       "│ 7       │ 1      │ 7107.77   │ 183195.0      │ 1.76087e5      │\n",
       "│ 8       │ 1      │ 7861.64   │ 1.76087e5     │ 1.68226e5      │\n",
       "│ 9       │ 1      │ 4024.36   │ 2671.0        │ 0.0            │\n",
       "│ 10      │ 1      │ 5337.77   │ 41720.0       │ 36382.2        │\n",
       "⋮\n",
       "│ 6362610 │ 742    │ 2.58355e5 │ 2.58355e5     │ 0.0            │\n",
       "│ 6362611 │ 742    │ 63417.0   │ 63417.0       │ 0.0            │\n",
       "│ 6362612 │ 742    │ 63417.0   │ 63417.0       │ 0.0            │\n",
       "│ 6362613 │ 743    │ 1.25882e6 │ 1.25882e6     │ 0.0            │\n",
       "│ 6362614 │ 743    │ 1.25882e6 │ 1.25882e6     │ 0.0            │\n",
       "│ 6362615 │ 743    │ 3.39682e5 │ 3.39682e5     │ 0.0            │\n",
       "│ 6362616 │ 743    │ 3.39682e5 │ 3.39682e5     │ 0.0            │\n",
       "│ 6362617 │ 743    │ 6.31141e6 │ 6.31141e6     │ 0.0            │\n",
       "│ 6362618 │ 743    │ 6.31141e6 │ 6.31141e6     │ 0.0            │\n",
       "│ 6362619 │ 743    │ 8.50003e5 │ 8.50003e5     │ 0.0            │\n",
       "│ 6362620 │ 743    │ 8.50003e5 │ 8.50003e5     │ 0.0            │"
      ]
     },
     "execution_count": 9,
     "metadata": {},
     "output_type": "execute_result"
    }
   ],
   "source": [
    "# Deleting String Type Feature 'nameOrig'\n",
    "# Deleting String Type Feature 'nameDest'\n",
    "\n",
    "dt = deletecols!(dt, :nameOrig)\n",
    "dt = deletecols!(dt, :nameDest)"
   ]
  },
  {
   "cell_type": "markdown",
   "metadata": {},
   "source": [
    "## Freqency distribution of isFraud column variables\n",
    "0 represents non-fraudulant transaction \n",
    "1 represents fraud transaction\n"
   ]
  },
  {
   "cell_type": "code",
   "execution_count": 10,
   "metadata": {},
   "outputs": [
    {
     "data": {
      "text/plain": [
       "2-element Named Array{Int64,1}\n",
       "Dim1  │ \n",
       "──────┼────────\n",
       "0     │ 6354407\n",
       "1     │    8213"
      ]
     },
     "execution_count": 10,
     "metadata": {},
     "output_type": "execute_result"
    }
   ],
   "source": [
    "frequency_isFraud = freqtable(dt[:isFraud])"
   ]
  },
  {
   "cell_type": "code",
   "execution_count": 11,
   "metadata": {},
   "outputs": [
    {
     "data": {
      "text/plain": [
       "2-element Named Array{Float64,1}\n",
       "Dim1  │ \n",
       "──────┼───────────\n",
       "0     │   0.998709\n",
       "1     │ 0.00129082"
      ]
     },
     "execution_count": 11,
     "metadata": {},
     "output_type": "execute_result"
    }
   ],
   "source": [
    "# Ration of non-fraud and fraud \n",
    "ratio = prop(frequency_isFraud)"
   ]
  },
  {
   "cell_type": "code",
   "execution_count": 12,
   "metadata": {},
   "outputs": [
    {
     "data": {
      "text/html": [
       "<table class=\"data-frame\"><thead><tr><th></th><th>step</th><th>amount</th><th>oldbalanceOrg</th><th>newbalanceOrig</th><th>oldbalanceDest</th><th>newbalanceDest</th><th>isFraud</th><th>isFlaggedFraud</th><th>CASH_IN</th><th>CASH_OUT</th><th>DEBIT</th><th>PAYMENT</th><th>TRANSFER</th></tr><tr><th></th><th>Int64⍰</th><th>Float64⍰</th><th>Float64⍰</th><th>Float64⍰</th><th>Float64⍰</th><th>Float64⍰</th><th>Int64⍰</th><th>Int64⍰</th><th>Int64⍰</th><th>Int64⍰</th><th>Int64⍰</th><th>Int64⍰</th><th>Int64⍰</th></tr></thead><tbody><p>5 rows × 13 columns</p><tr><th>1</th><td>1</td><td>9839.64</td><td>170136.0</td><td>1.60296e5</td><td>0.0</td><td>0.0</td><td>0</td><td>0</td><td>0</td><td>0</td><td>0</td><td>1</td><td>0</td></tr><tr><th>2</th><td>1</td><td>1864.28</td><td>21249.0</td><td>19384.7</td><td>0.0</td><td>0.0</td><td>0</td><td>0</td><td>0</td><td>0</td><td>0</td><td>1</td><td>0</td></tr><tr><th>3</th><td>1</td><td>181.0</td><td>181.0</td><td>0.0</td><td>0.0</td><td>0.0</td><td>1</td><td>0</td><td>0</td><td>0</td><td>0</td><td>0</td><td>1</td></tr><tr><th>4</th><td>1</td><td>181.0</td><td>181.0</td><td>0.0</td><td>21182.0</td><td>0.0</td><td>1</td><td>0</td><td>0</td><td>1</td><td>0</td><td>0</td><td>0</td></tr><tr><th>5</th><td>1</td><td>11668.1</td><td>41554.0</td><td>29885.9</td><td>0.0</td><td>0.0</td><td>0</td><td>0</td><td>0</td><td>0</td><td>0</td><td>1</td><td>0</td></tr></tbody></table>"
      ],
      "text/latex": [
       "\\begin{tabular}{r|ccccccccccccc}\n",
       "\t& step & amount & oldbalanceOrg & newbalanceOrig & oldbalanceDest & newbalanceDest & isFraud & isFlaggedFraud & CASH\\_IN & CASH\\_OUT & DEBIT & PAYMENT & TRANSFER\\\\\n",
       "\t\\hline\n",
       "\t& Int64⍰ & Float64⍰ & Float64⍰ & Float64⍰ & Float64⍰ & Float64⍰ & Int64⍰ & Int64⍰ & Int64⍰ & Int64⍰ & Int64⍰ & Int64⍰ & Int64⍰\\\\\n",
       "\t\\hline\n",
       "\t1 & 1 & 9839.64 & 170136.0 & 1.60296e5 & 0.0 & 0.0 & 0 & 0 & 0 & 0 & 0 & 1 & 0 \\\\\n",
       "\t2 & 1 & 1864.28 & 21249.0 & 19384.7 & 0.0 & 0.0 & 0 & 0 & 0 & 0 & 0 & 1 & 0 \\\\\n",
       "\t3 & 1 & 181.0 & 181.0 & 0.0 & 0.0 & 0.0 & 1 & 0 & 0 & 0 & 0 & 0 & 1 \\\\\n",
       "\t4 & 1 & 181.0 & 181.0 & 0.0 & 21182.0 & 0.0 & 1 & 0 & 0 & 1 & 0 & 0 & 0 \\\\\n",
       "\t5 & 1 & 11668.1 & 41554.0 & 29885.9 & 0.0 & 0.0 & 0 & 0 & 0 & 0 & 0 & 1 & 0 \\\\\n",
       "\\end{tabular}\n"
      ],
      "text/plain": [
       "5×13 DataFrame. Omitted printing of 8 columns\n",
       "│ Row │ step   │ amount   │ oldbalanceOrg │ newbalanceOrig │ oldbalanceDest │\n",
       "│     │ \u001b[90mInt64⍰\u001b[39m │ \u001b[90mFloat64⍰\u001b[39m │ \u001b[90mFloat64⍰\u001b[39m      │ \u001b[90mFloat64⍰\u001b[39m       │ \u001b[90mFloat64⍰\u001b[39m       │\n",
       "├─────┼────────┼──────────┼───────────────┼────────────────┼────────────────┤\n",
       "│ 1   │ 1      │ 9839.64  │ 170136.0      │ 1.60296e5      │ 0.0            │\n",
       "│ 2   │ 1      │ 1864.28  │ 21249.0       │ 19384.7        │ 0.0            │\n",
       "│ 3   │ 1      │ 181.0    │ 181.0         │ 0.0            │ 0.0            │\n",
       "│ 4   │ 1      │ 181.0    │ 181.0         │ 0.0            │ 21182.0        │\n",
       "│ 5   │ 1      │ 11668.1  │ 41554.0       │ 29885.9        │ 0.0            │"
      ]
     },
     "execution_count": 12,
     "metadata": {},
     "output_type": "execute_result"
    }
   ],
   "source": [
    "first(dt, 5)"
   ]
  },
  {
   "cell_type": "code",
   "execution_count": null,
   "metadata": {},
   "outputs": [],
   "source": []
  },
  {
   "cell_type": "code",
   "execution_count": 13,
   "metadata": {},
   "outputs": [
    {
     "data": {
      "text/plain": [
       "MersenneTwister(UInt32[0x000004d2], Random.DSFMT.DSFMT_state(Int32[-1393240018, 1073611148, 45497681, 1072875908, 436273599, 1073674613, -2043716458, 1073445557, -254908435, 1072827086  …  -599655111, 1073144102, 367655457, 1072985259, -1278750689, 1018350124, -597141475, 249849711, 382, 0]), [0.0, 0.0, 0.0, 0.0, 0.0, 0.0, 0.0, 0.0, 0.0, 0.0  …  0.0, 0.0, 0.0, 0.0, 0.0, 0.0, 0.0, 0.0, 0.0, 0.0], UInt128[0x00000000000000000000000000000000, 0x00000000000000000000000000000000, 0x00000000000000000000000000000000, 0x00000000000000000000000000000000, 0x00000000000000000000000000000000, 0x00000000000000000000000000000000, 0x00000000000000000000000000000000, 0x00000000000000000000000000000000, 0x00000000000000000000000000000000, 0x00000000000000000000000000000000  …  0x00000000000000000000000000000000, 0x00000000000000000000000000000000, 0x00000000000000000000000000000000, 0x00000000000000000000000000000000, 0x00000000000000000000000000000000, 0x00000000000000000000000000000000, 0x00000000000000000000000000000000, 0x00000000000000000000000000000000, 0x00000000000000000000000000000000, 0x00000000000000000000000000000000], 1002, 0)"
      ]
     },
     "execution_count": 13,
     "metadata": {},
     "output_type": "execute_result"
    }
   ],
   "source": [
    "# Setting Random Seed \n",
    "using Random\n",
    "Random.seed!(1234)"
   ]
  },
  {
   "cell_type": "markdown",
   "metadata": {},
   "source": [
    "# Spliting the dataset\n",
    "We spliting the dataset using the Class column ( \"isFraud\" ).\n",
    "\n",
    "In \"isFraud\" there is two class value \"0\" & \"1\". We split the data into two part, those are\n",
    "                        \n",
    "                        1. minorityData (class value \"1\")\n",
    "                        2. majorityData (class value \"0\")"
   ]
  },
  {
   "cell_type": "code",
   "execution_count": 14,
   "metadata": {},
   "outputs": [
    {
     "data": {
      "text/html": [
       "<table class=\"data-frame\"><thead><tr><th></th><th>step</th><th>amount</th><th>oldbalanceOrg</th><th>newbalanceOrig</th><th>oldbalanceDest</th><th>newbalanceDest</th><th>isFraud</th><th>isFlaggedFraud</th><th>CASH_IN</th><th>CASH_OUT</th><th>DEBIT</th><th>PAYMENT</th><th>TRANSFER</th></tr><tr><th></th><th>Int64⍰</th><th>Float64⍰</th><th>Float64⍰</th><th>Float64⍰</th><th>Float64⍰</th><th>Float64⍰</th><th>Int64⍰</th><th>Int64⍰</th><th>Int64⍰</th><th>Int64⍰</th><th>Int64⍰</th><th>Int64⍰</th><th>Int64⍰</th></tr></thead><tbody><p>6,354,407 rows × 13 columns</p><tr><th>1</th><td>1</td><td>9839.64</td><td>170136.0</td><td>1.60296e5</td><td>0.0</td><td>0.0</td><td>0</td><td>0</td><td>0</td><td>0</td><td>0</td><td>1</td><td>0</td></tr><tr><th>2</th><td>1</td><td>1864.28</td><td>21249.0</td><td>19384.7</td><td>0.0</td><td>0.0</td><td>0</td><td>0</td><td>0</td><td>0</td><td>0</td><td>1</td><td>0</td></tr><tr><th>3</th><td>1</td><td>11668.1</td><td>41554.0</td><td>29885.9</td><td>0.0</td><td>0.0</td><td>0</td><td>0</td><td>0</td><td>0</td><td>0</td><td>1</td><td>0</td></tr><tr><th>4</th><td>1</td><td>7817.71</td><td>53860.0</td><td>46042.3</td><td>0.0</td><td>0.0</td><td>0</td><td>0</td><td>0</td><td>0</td><td>0</td><td>1</td><td>0</td></tr><tr><th>5</th><td>1</td><td>7107.77</td><td>183195.0</td><td>1.76087e5</td><td>0.0</td><td>0.0</td><td>0</td><td>0</td><td>0</td><td>0</td><td>0</td><td>1</td><td>0</td></tr><tr><th>6</th><td>1</td><td>7861.64</td><td>1.76087e5</td><td>1.68226e5</td><td>0.0</td><td>0.0</td><td>0</td><td>0</td><td>0</td><td>0</td><td>0</td><td>1</td><td>0</td></tr><tr><th>7</th><td>1</td><td>4024.36</td><td>2671.0</td><td>0.0</td><td>0.0</td><td>0.0</td><td>0</td><td>0</td><td>0</td><td>0</td><td>0</td><td>1</td><td>0</td></tr><tr><th>8</th><td>1</td><td>5337.77</td><td>41720.0</td><td>36382.2</td><td>41898.0</td><td>40348.8</td><td>0</td><td>0</td><td>0</td><td>0</td><td>1</td><td>0</td><td>0</td></tr><tr><th>9</th><td>1</td><td>9644.94</td><td>4465.0</td><td>0.0</td><td>10845.0</td><td>1.57982e5</td><td>0</td><td>0</td><td>0</td><td>0</td><td>1</td><td>0</td><td>0</td></tr><tr><th>10</th><td>1</td><td>3099.97</td><td>20771.0</td><td>17671.0</td><td>0.0</td><td>0.0</td><td>0</td><td>0</td><td>0</td><td>0</td><td>0</td><td>1</td><td>0</td></tr><tr><th>11</th><td>1</td><td>2560.74</td><td>5070.0</td><td>2509.26</td><td>0.0</td><td>0.0</td><td>0</td><td>0</td><td>0</td><td>0</td><td>0</td><td>1</td><td>0</td></tr><tr><th>12</th><td>1</td><td>11633.8</td><td>10127.0</td><td>0.0</td><td>0.0</td><td>0.0</td><td>0</td><td>0</td><td>0</td><td>0</td><td>0</td><td>1</td><td>0</td></tr><tr><th>13</th><td>1</td><td>4098.78</td><td>503264.0</td><td>4.99165e5</td><td>0.0</td><td>0.0</td><td>0</td><td>0</td><td>0</td><td>0</td><td>0</td><td>1</td><td>0</td></tr><tr><th>14</th><td>1</td><td>2.29134e5</td><td>15325.0</td><td>0.0</td><td>5083.0</td><td>51513.4</td><td>0</td><td>0</td><td>0</td><td>1</td><td>0</td><td>0</td><td>0</td></tr><tr><th>15</th><td>1</td><td>1563.82</td><td>450.0</td><td>0.0</td><td>0.0</td><td>0.0</td><td>0</td><td>0</td><td>0</td><td>0</td><td>0</td><td>1</td><td>0</td></tr><tr><th>16</th><td>1</td><td>1157.86</td><td>21156.0</td><td>19998.1</td><td>0.0</td><td>0.0</td><td>0</td><td>0</td><td>0</td><td>0</td><td>0</td><td>1</td><td>0</td></tr><tr><th>17</th><td>1</td><td>671.64</td><td>15123.0</td><td>14451.4</td><td>0.0</td><td>0.0</td><td>0</td><td>0</td><td>0</td><td>0</td><td>0</td><td>1</td><td>0</td></tr><tr><th>18</th><td>1</td><td>2.1531e5</td><td>705.0</td><td>0.0</td><td>22425.0</td><td>0.0</td><td>0</td><td>0</td><td>0</td><td>0</td><td>0</td><td>0</td><td>1</td></tr><tr><th>19</th><td>1</td><td>1373.43</td><td>13854.0</td><td>12480.6</td><td>0.0</td><td>0.0</td><td>0</td><td>0</td><td>0</td><td>0</td><td>0</td><td>1</td><td>0</td></tr><tr><th>20</th><td>1</td><td>9302.79</td><td>11299.0</td><td>1996.21</td><td>29832.0</td><td>16896.7</td><td>0</td><td>0</td><td>0</td><td>0</td><td>1</td><td>0</td><td>0</td></tr><tr><th>21</th><td>1</td><td>1065.41</td><td>1817.0</td><td>751.59</td><td>10330.0</td><td>0.0</td><td>0</td><td>0</td><td>0</td><td>0</td><td>1</td><td>0</td><td>0</td></tr><tr><th>22</th><td>1</td><td>3876.41</td><td>67852.0</td><td>63975.6</td><td>0.0</td><td>0.0</td><td>0</td><td>0</td><td>0</td><td>0</td><td>0</td><td>1</td><td>0</td></tr><tr><th>23</th><td>1</td><td>3.11686e5</td><td>10835.0</td><td>0.0</td><td>6267.0</td><td>2.71917e6</td><td>0</td><td>0</td><td>0</td><td>0</td><td>0</td><td>0</td><td>1</td></tr><tr><th>24</th><td>1</td><td>6061.13</td><td>443.0</td><td>0.0</td><td>0.0</td><td>0.0</td><td>0</td><td>0</td><td>0</td><td>0</td><td>0</td><td>1</td><td>0</td></tr><tr><th>25</th><td>1</td><td>9478.39</td><td>116494.0</td><td>1.07016e5</td><td>0.0</td><td>0.0</td><td>0</td><td>0</td><td>0</td><td>0</td><td>0</td><td>1</td><td>0</td></tr><tr><th>26</th><td>1</td><td>8009.09</td><td>10968.0</td><td>2958.91</td><td>0.0</td><td>0.0</td><td>0</td><td>0</td><td>0</td><td>0</td><td>0</td><td>1</td><td>0</td></tr><tr><th>27</th><td>1</td><td>8901.99</td><td>2958.91</td><td>0.0</td><td>0.0</td><td>0.0</td><td>0</td><td>0</td><td>0</td><td>0</td><td>0</td><td>1</td><td>0</td></tr><tr><th>28</th><td>1</td><td>9920.52</td><td>0.0</td><td>0.0</td><td>0.0</td><td>0.0</td><td>0</td><td>0</td><td>0</td><td>0</td><td>0</td><td>1</td><td>0</td></tr><tr><th>29</th><td>1</td><td>3448.92</td><td>0.0</td><td>0.0</td><td>0.0</td><td>0.0</td><td>0</td><td>0</td><td>0</td><td>0</td><td>0</td><td>1</td><td>0</td></tr><tr><th>30</th><td>1</td><td>4206.84</td><td>0.0</td><td>0.0</td><td>0.0</td><td>0.0</td><td>0</td><td>0</td><td>0</td><td>0</td><td>0</td><td>1</td><td>0</td></tr><tr><th>&vellip;</th><td>&vellip;</td><td>&vellip;</td><td>&vellip;</td><td>&vellip;</td><td>&vellip;</td><td>&vellip;</td><td>&vellip;</td><td>&vellip;</td><td>&vellip;</td><td>&vellip;</td><td>&vellip;</td><td>&vellip;</td><td>&vellip;</td></tr></tbody></table>"
      ],
      "text/latex": [
       "\\begin{tabular}{r|ccccccccccccc}\n",
       "\t& step & amount & oldbalanceOrg & newbalanceOrig & oldbalanceDest & newbalanceDest & isFraud & isFlaggedFraud & CASH\\_IN & CASH\\_OUT & DEBIT & PAYMENT & TRANSFER\\\\\n",
       "\t\\hline\n",
       "\t& Int64⍰ & Float64⍰ & Float64⍰ & Float64⍰ & Float64⍰ & Float64⍰ & Int64⍰ & Int64⍰ & Int64⍰ & Int64⍰ & Int64⍰ & Int64⍰ & Int64⍰\\\\\n",
       "\t\\hline\n",
       "\t1 & 1 & 9839.64 & 170136.0 & 1.60296e5 & 0.0 & 0.0 & 0 & 0 & 0 & 0 & 0 & 1 & 0 \\\\\n",
       "\t2 & 1 & 1864.28 & 21249.0 & 19384.7 & 0.0 & 0.0 & 0 & 0 & 0 & 0 & 0 & 1 & 0 \\\\\n",
       "\t3 & 1 & 11668.1 & 41554.0 & 29885.9 & 0.0 & 0.0 & 0 & 0 & 0 & 0 & 0 & 1 & 0 \\\\\n",
       "\t4 & 1 & 7817.71 & 53860.0 & 46042.3 & 0.0 & 0.0 & 0 & 0 & 0 & 0 & 0 & 1 & 0 \\\\\n",
       "\t5 & 1 & 7107.77 & 183195.0 & 1.76087e5 & 0.0 & 0.0 & 0 & 0 & 0 & 0 & 0 & 1 & 0 \\\\\n",
       "\t6 & 1 & 7861.64 & 1.76087e5 & 1.68226e5 & 0.0 & 0.0 & 0 & 0 & 0 & 0 & 0 & 1 & 0 \\\\\n",
       "\t7 & 1 & 4024.36 & 2671.0 & 0.0 & 0.0 & 0.0 & 0 & 0 & 0 & 0 & 0 & 1 & 0 \\\\\n",
       "\t8 & 1 & 5337.77 & 41720.0 & 36382.2 & 41898.0 & 40348.8 & 0 & 0 & 0 & 0 & 1 & 0 & 0 \\\\\n",
       "\t9 & 1 & 9644.94 & 4465.0 & 0.0 & 10845.0 & 1.57982e5 & 0 & 0 & 0 & 0 & 1 & 0 & 0 \\\\\n",
       "\t10 & 1 & 3099.97 & 20771.0 & 17671.0 & 0.0 & 0.0 & 0 & 0 & 0 & 0 & 0 & 1 & 0 \\\\\n",
       "\t11 & 1 & 2560.74 & 5070.0 & 2509.26 & 0.0 & 0.0 & 0 & 0 & 0 & 0 & 0 & 1 & 0 \\\\\n",
       "\t12 & 1 & 11633.8 & 10127.0 & 0.0 & 0.0 & 0.0 & 0 & 0 & 0 & 0 & 0 & 1 & 0 \\\\\n",
       "\t13 & 1 & 4098.78 & 503264.0 & 4.99165e5 & 0.0 & 0.0 & 0 & 0 & 0 & 0 & 0 & 1 & 0 \\\\\n",
       "\t14 & 1 & 2.29134e5 & 15325.0 & 0.0 & 5083.0 & 51513.4 & 0 & 0 & 0 & 1 & 0 & 0 & 0 \\\\\n",
       "\t15 & 1 & 1563.82 & 450.0 & 0.0 & 0.0 & 0.0 & 0 & 0 & 0 & 0 & 0 & 1 & 0 \\\\\n",
       "\t16 & 1 & 1157.86 & 21156.0 & 19998.1 & 0.0 & 0.0 & 0 & 0 & 0 & 0 & 0 & 1 & 0 \\\\\n",
       "\t17 & 1 & 671.64 & 15123.0 & 14451.4 & 0.0 & 0.0 & 0 & 0 & 0 & 0 & 0 & 1 & 0 \\\\\n",
       "\t18 & 1 & 2.1531e5 & 705.0 & 0.0 & 22425.0 & 0.0 & 0 & 0 & 0 & 0 & 0 & 0 & 1 \\\\\n",
       "\t19 & 1 & 1373.43 & 13854.0 & 12480.6 & 0.0 & 0.0 & 0 & 0 & 0 & 0 & 0 & 1 & 0 \\\\\n",
       "\t20 & 1 & 9302.79 & 11299.0 & 1996.21 & 29832.0 & 16896.7 & 0 & 0 & 0 & 0 & 1 & 0 & 0 \\\\\n",
       "\t21 & 1 & 1065.41 & 1817.0 & 751.59 & 10330.0 & 0.0 & 0 & 0 & 0 & 0 & 1 & 0 & 0 \\\\\n",
       "\t22 & 1 & 3876.41 & 67852.0 & 63975.6 & 0.0 & 0.0 & 0 & 0 & 0 & 0 & 0 & 1 & 0 \\\\\n",
       "\t23 & 1 & 3.11686e5 & 10835.0 & 0.0 & 6267.0 & 2.71917e6 & 0 & 0 & 0 & 0 & 0 & 0 & 1 \\\\\n",
       "\t24 & 1 & 6061.13 & 443.0 & 0.0 & 0.0 & 0.0 & 0 & 0 & 0 & 0 & 0 & 1 & 0 \\\\\n",
       "\t25 & 1 & 9478.39 & 116494.0 & 1.07016e5 & 0.0 & 0.0 & 0 & 0 & 0 & 0 & 0 & 1 & 0 \\\\\n",
       "\t26 & 1 & 8009.09 & 10968.0 & 2958.91 & 0.0 & 0.0 & 0 & 0 & 0 & 0 & 0 & 1 & 0 \\\\\n",
       "\t27 & 1 & 8901.99 & 2958.91 & 0.0 & 0.0 & 0.0 & 0 & 0 & 0 & 0 & 0 & 1 & 0 \\\\\n",
       "\t28 & 1 & 9920.52 & 0.0 & 0.0 & 0.0 & 0.0 & 0 & 0 & 0 & 0 & 0 & 1 & 0 \\\\\n",
       "\t29 & 1 & 3448.92 & 0.0 & 0.0 & 0.0 & 0.0 & 0 & 0 & 0 & 0 & 0 & 1 & 0 \\\\\n",
       "\t30 & 1 & 4206.84 & 0.0 & 0.0 & 0.0 & 0.0 & 0 & 0 & 0 & 0 & 0 & 1 & 0 \\\\\n",
       "\t$\\dots$ & $\\dots$ & $\\dots$ & $\\dots$ & $\\dots$ & $\\dots$ & $\\dots$ & $\\dots$ & $\\dots$ & $\\dots$ & $\\dots$ & $\\dots$ & $\\dots$ & $\\dots$ \\\\\n",
       "\\end{tabular}\n"
      ],
      "text/plain": [
       "6354407×13 DataFrame. Omitted printing of 9 columns\n",
       "│ Row     │ step   │ amount    │ oldbalanceOrg │ newbalanceOrig │\n",
       "│         │ \u001b[90mInt64⍰\u001b[39m │ \u001b[90mFloat64⍰\u001b[39m  │ \u001b[90mFloat64⍰\u001b[39m      │ \u001b[90mFloat64⍰\u001b[39m       │\n",
       "├─────────┼────────┼───────────┼───────────────┼────────────────┤\n",
       "│ 1       │ 1      │ 9839.64   │ 170136.0      │ 1.60296e5      │\n",
       "│ 2       │ 1      │ 1864.28   │ 21249.0       │ 19384.7        │\n",
       "│ 3       │ 1      │ 11668.1   │ 41554.0       │ 29885.9        │\n",
       "│ 4       │ 1      │ 7817.71   │ 53860.0       │ 46042.3        │\n",
       "│ 5       │ 1      │ 7107.77   │ 183195.0      │ 1.76087e5      │\n",
       "│ 6       │ 1      │ 7861.64   │ 1.76087e5     │ 1.68226e5      │\n",
       "│ 7       │ 1      │ 4024.36   │ 2671.0        │ 0.0            │\n",
       "│ 8       │ 1      │ 5337.77   │ 41720.0       │ 36382.2        │\n",
       "│ 9       │ 1      │ 9644.94   │ 4465.0        │ 0.0            │\n",
       "│ 10      │ 1      │ 3099.97   │ 20771.0       │ 17671.0        │\n",
       "⋮\n",
       "│ 6354397 │ 718    │ 1.11964e5 │ 4514.0        │ 0.0            │\n",
       "│ 6354398 │ 718    │ 17841.2   │ 10182.0       │ 0.0            │\n",
       "│ 6354399 │ 718    │ 96239.7   │ 101281.0      │ 1.97521e5      │\n",
       "│ 6354400 │ 718    │ 1022.91   │ 12.0          │ 0.0            │\n",
       "│ 6354401 │ 718    │ 3.17177e5 │ 170.0         │ 0.0            │\n",
       "│ 6354402 │ 718    │ 4109.57   │ 5521.0        │ 1411.43        │\n",
       "│ 6354403 │ 718    │ 8634.29   │ 518802.0      │ 5.10168e5      │\n",
       "│ 6354404 │ 718    │ 1.59188e5 │ 3859.0        │ 0.0            │\n",
       "│ 6354405 │ 718    │ 1.86274e5 │ 168046.0      │ 0.0            │\n",
       "│ 6354406 │ 718    │ 82096.4   │ 13492.0       │ 0.0            │\n",
       "│ 6354407 │ 718    │ 1864.24   │ 20426.0       │ 18561.8        │"
      ]
     },
     "execution_count": 14,
     "metadata": {},
     "output_type": "execute_result"
    }
   ],
   "source": [
    "#= \n",
    "Split dataset to minorityData where isFraud = 1\n",
    "Split dataset to minorityData where isFraud = 0\n",
    "=#\n",
    "minorityData = dt[dt[:, 7] .== 1, :]\n",
    "majorityData = dt[dt[:, 7] .== 0, :]"
   ]
  },
  {
   "cell_type": "code",
   "execution_count": 15,
   "metadata": {},
   "outputs": [
    {
     "name": "stdout",
     "output_type": "stream",
     "text": [
      "Instances of Minority Data: 8213\n",
      "Features of Minority Data: 13\n"
     ]
    }
   ],
   "source": [
    "# printing size of minorityData\n",
    "\n",
    "println(\"Instances of Minority Data: \", nrow(minorityData))\n",
    "println(\"Features of Minority Data: \", ncol(minorityData))"
   ]
  },
  {
   "cell_type": "code",
   "execution_count": 16,
   "metadata": {},
   "outputs": [
    {
     "name": "stdout",
     "output_type": "stream",
     "text": [
      "Instances of Majority Data: 6354407\n",
      "Features of Majority Data: 13\n"
     ]
    }
   ],
   "source": [
    "# printing size of majorityData\n",
    "println(\"Instances of Majority Data: \", nrow(majorityData))\n",
    "println(\"Features of Majority Data: \", ncol(majorityData))"
   ]
  },
  {
   "cell_type": "code",
   "execution_count": 17,
   "metadata": {},
   "outputs": [
    {
     "data": {
      "text/plain": [
       "split_MinorityData (generic function with 1 method)"
      ]
     },
     "execution_count": 17,
     "metadata": {},
     "output_type": "execute_result"
    }
   ],
   "source": [
    "# This function splits minority data in given ratio\n",
    "function split_MinorityData(min_data, ratio)\n",
    "    minority_mat = convert(Array, min_data[1:13])\n",
    "    min_trainShuf = shuffleobs(transpose(minority_mat))\n",
    "    (min_train, min_test) = splitobs(min_trainShuf, at =ratio)\n",
    "    min_train = Array(transpose(min_train))\n",
    "    min_test = Array(transpose(min_test))\n",
    "    return min_train, min_test\n",
    "end "
   ]
  },
  {
   "cell_type": "markdown",
   "metadata": {},
   "source": [
    "# Split MinorityData\n",
    "For bulid a independent test data we split the MinorityData into 70% and 30%.\n",
    "\n",
    "We keep 70% for train and 30% for test dataset."
   ]
  },
  {
   "cell_type": "code",
   "execution_count": 18,
   "metadata": {},
   "outputs": [
    {
     "name": "stderr",
     "output_type": "stream",
     "text": [
      "┌ Warning: `convert(::Type{Array}, df::AbstractDataFrame)` is deprecated, use `convert(Matrix, df)` instead.\n",
      "│   caller = split_MinorityData(::DataFrame, ::Float64) at In[17]:3\n",
      "└ @ Main ./In[17]:3\n"
     ]
    },
    {
     "name": "stdout",
     "output_type": "stream",
     "text": [
      "(5749, 13)\n",
      "(2464, 13)\n"
     ]
    }
   ],
   "source": [
    "# Split minorityData for train an test \n",
    "min_train, min_test = split_MinorityData(minorityData, .70)\n",
    "println(size(min_train))\n",
    "println(size(min_test))\n"
   ]
  },
  {
   "cell_type": "code",
   "execution_count": 19,
   "metadata": {},
   "outputs": [
    {
     "data": {
      "text/plain": [
       "5749×13 Array{Union{Missing, Float64},2}:\n",
       " 326.0       4.24963e5       4.24963e5  …  1.0  0.0  0.0  0.0  0.0  0.0  1.0\n",
       " 728.0       6.3224e6        6.3224e6      1.0  0.0  0.0  0.0  0.0  0.0  1.0\n",
       " 641.0    2205.55         2205.55          1.0  0.0  0.0  0.0  0.0  0.0  1.0\n",
       " 434.0   32671.9         32671.9           1.0  0.0  0.0  0.0  0.0  0.0  1.0\n",
       " 531.0       8.34204e5       8.34204e5     1.0  0.0  0.0  1.0  0.0  0.0  0.0\n",
       " 631.0       2.39161e6       2.39161e6  …  1.0  0.0  0.0  1.0  0.0  0.0  0.0\n",
       " 373.0       4.29468e6       4.29468e6     1.0  0.0  0.0  0.0  0.0  0.0  1.0\n",
       " 143.0       1.82275e6       1.82275e6     1.0  0.0  0.0  1.0  0.0  0.0  0.0\n",
       " 291.0       2.32491e6       2.32491e6     1.0  0.0  0.0  1.0  0.0  0.0  0.0\n",
       " 612.0       1.02319e6       1.02319e6     1.0  0.0  0.0  0.0  0.0  0.0  1.0\n",
       " 324.0       3.62837e5       3.62837e5  …  1.0  0.0  0.0  1.0  0.0  0.0  0.0\n",
       " 365.0   31315.5         31315.5           1.0  0.0  0.0  1.0  0.0  0.0  0.0\n",
       " 496.0   30172.0         30172.0           1.0  0.0  0.0  1.0  0.0  0.0  0.0\n",
       "   ⋮                                    ⋱                      ⋮            \n",
       " 319.0       4.89534e6       4.89534e6     1.0  0.0  0.0  0.0  0.0  0.0  1.0\n",
       "  97.0    5624.02         5624.02          1.0  0.0  0.0  0.0  0.0  0.0  1.0\n",
       " 303.0       4.4701e5        4.4701e5      1.0  0.0  0.0  0.0  0.0  0.0  1.0\n",
       " 133.0       2.12131e5       2.12131e5  …  1.0  0.0  0.0  1.0  0.0  0.0  0.0\n",
       " 261.0       1.96562e5       1.96562e5     1.0  0.0  0.0  1.0  0.0  0.0  0.0\n",
       " 643.0       4.2226e6        4.2226e6      1.0  0.0  0.0  1.0  0.0  0.0  0.0\n",
       " 232.0       5.70135e5       5.70135e5     1.0  0.0  0.0  1.0  0.0  0.0  0.0\n",
       " 148.0       3.7331e6        3.7331e6      1.0  0.0  0.0  0.0  0.0  0.0  1.0\n",
       "  59.0   44733.5         44733.5        …  1.0  0.0  0.0  1.0  0.0  0.0  0.0\n",
       " 608.0  388172.0        388172.0           1.0  0.0  0.0  0.0  0.0  0.0  1.0\n",
       " 674.0       9.32923e5       9.32923e5     1.0  0.0  0.0  1.0  0.0  0.0  0.0\n",
       " 351.0       1.78344e5       1.78344e5     1.0  0.0  0.0  0.0  0.0  0.0  1.0"
      ]
     },
     "execution_count": 19,
     "metadata": {},
     "output_type": "execute_result"
    }
   ],
   "source": [
    "min_train"
   ]
  },
  {
   "cell_type": "code",
   "execution_count": null,
   "metadata": {},
   "outputs": [],
   "source": []
  },
  {
   "cell_type": "code",
   "execution_count": null,
   "metadata": {},
   "outputs": [],
   "source": []
  },
  {
   "cell_type": "code",
   "execution_count": null,
   "metadata": {
    "scrolled": true
   },
   "outputs": [],
   "source": []
  },
  {
   "cell_type": "code",
   "execution_count": null,
   "metadata": {},
   "outputs": [],
   "source": []
  },
  {
   "cell_type": "code",
   "execution_count": 20,
   "metadata": {},
   "outputs": [
    {
     "data": {
      "text/plain": [
       "6354407×13 Array{Float64,2}:\n",
       "   1.0   9839.64       170136.0        …  0.0  0.0  0.0  0.0  0.0  1.0  0.0\n",
       "   1.0   1864.28        21249.0           0.0  0.0  0.0  0.0  0.0  1.0  0.0\n",
       "   1.0  11668.1         41554.0           0.0  0.0  0.0  0.0  0.0  1.0  0.0\n",
       "   1.0   7817.71        53860.0           0.0  0.0  0.0  0.0  0.0  1.0  0.0\n",
       "   1.0   7107.77       183195.0           0.0  0.0  0.0  0.0  0.0  1.0  0.0\n",
       "   1.0   7861.64            1.76087e5  …  0.0  0.0  0.0  0.0  0.0  1.0  0.0\n",
       "   1.0   4024.36         2671.0           0.0  0.0  0.0  0.0  0.0  1.0  0.0\n",
       "   1.0   5337.77        41720.0           0.0  0.0  0.0  0.0  1.0  0.0  0.0\n",
       "   1.0   9644.94         4465.0           0.0  0.0  0.0  0.0  1.0  0.0  0.0\n",
       "   1.0   3099.97        20771.0           0.0  0.0  0.0  0.0  0.0  1.0  0.0\n",
       "   1.0   2560.74         5070.0        …  0.0  0.0  0.0  0.0  0.0  1.0  0.0\n",
       "   1.0  11633.8         10127.0           0.0  0.0  0.0  0.0  0.0  1.0  0.0\n",
       "   1.0   4098.78       503264.0           0.0  0.0  0.0  0.0  0.0  1.0  0.0\n",
       "   ⋮                                   ⋱                      ⋮            \n",
       " 718.0   8178.01        11742.0        …  0.0  0.0  0.0  0.0  0.0  1.0  0.0\n",
       " 718.0      1.11964e5    4514.0           0.0  0.0  0.0  1.0  0.0  0.0  0.0\n",
       " 718.0  17841.2         10182.0           0.0  0.0  0.0  0.0  0.0  1.0  0.0\n",
       " 718.0  96239.7        101281.0           0.0  0.0  1.0  0.0  0.0  0.0  0.0\n",
       " 718.0   1022.91           12.0           0.0  0.0  0.0  0.0  0.0  1.0  0.0\n",
       " 718.0      3.17177e5     170.0        …  0.0  0.0  0.0  1.0  0.0  0.0  0.0\n",
       " 718.0   4109.57         5521.0           0.0  0.0  0.0  0.0  0.0  1.0  0.0\n",
       " 718.0   8634.29       518802.0           0.0  0.0  0.0  0.0  0.0  1.0  0.0\n",
       " 718.0      1.59188e5    3859.0           0.0  0.0  0.0  1.0  0.0  0.0  0.0\n",
       " 718.0      1.86274e5  168046.0           0.0  0.0  0.0  1.0  0.0  0.0  0.0\n",
       " 718.0  82096.4         13492.0        …  0.0  0.0  0.0  0.0  0.0  0.0  1.0\n",
       " 718.0   1864.24        20426.0           0.0  0.0  0.0  0.0  1.0  0.0  0.0"
      ]
     },
     "execution_count": 20,
     "metadata": {},
     "output_type": "execute_result"
    }
   ],
   "source": [
    "maj_mat = convert(Matrix{Float64}, majorityData[1:13])"
   ]
  },
  {
   "cell_type": "code",
   "execution_count": 21,
   "metadata": {},
   "outputs": [
    {
     "data": {
      "text/plain": [
       "13×6354407 Array{Float64,2}:\n",
       "      1.0            1.0       1.0      1.0   …    718.0     718.0     \n",
       "   9839.64        1864.28  11668.1   7817.71     82096.4    1864.24    \n",
       " 170136.0        21249.0   41554.0  53860.0      13492.0   20426.0     \n",
       "      1.60296e5  19384.7   29885.9  46042.3          0.0   18561.8     \n",
       "      0.0            0.0       0.0      0.0          0.0  188746.0     \n",
       "      0.0            0.0       0.0      0.0   …  82096.4       1.9061e5\n",
       "      0.0            0.0       0.0      0.0          0.0       0.0     \n",
       "      0.0            0.0       0.0      0.0          0.0       0.0     \n",
       "      0.0            0.0       0.0      0.0          0.0       0.0     \n",
       "      0.0            0.0       0.0      0.0          0.0       0.0     \n",
       "      0.0            0.0       0.0      0.0   …      0.0       1.0     \n",
       "      1.0            1.0       1.0      1.0          0.0       0.0     \n",
       "      0.0            0.0       0.0      0.0          1.0       0.0     "
      ]
     },
     "execution_count": 21,
     "metadata": {},
     "output_type": "execute_result"
    }
   ],
   "source": [
    "# converting DataFrame to Matrix and fliping dimension \n",
    "# because Clustering.jl package takes in this form\n",
    "\n",
    "majorityData_mat = permutedims(maj_mat, [2, 1])"
   ]
  },
  {
   "cell_type": "code",
   "execution_count": null,
   "metadata": {},
   "outputs": [],
   "source": []
  },
  {
   "cell_type": "markdown",
   "metadata": {},
   "source": [
    "# Clustering\n",
    "Running k-means clustering using k = 5 and max iteration 1000."
   ]
  },
  {
   "cell_type": "code",
   "execution_count": 22,
   "metadata": {
    "scrolled": false
   },
   "outputs": [
    {
     "name": "stdout",
     "output_type": "stream",
     "text": [
      "  Iters               objv        objv-change | affected \n",
      "-------------------------------------------------------------\n",
      "      0       7.931844e+19\n",
      "      1       7.097583e+19      -8.342615e+18 |        5\n",
      "      2       6.989430e+19      -1.081531e+18 |        5\n",
      "      3       6.941902e+19      -4.752734e+17 |        5\n",
      "      4       6.912213e+19      -2.968918e+17 |        5\n",
      "      5       6.889818e+19      -2.239522e+17 |        5\n",
      "      6       6.869452e+19      -2.036567e+17 |        5\n",
      "      7       6.850030e+19      -1.942245e+17 |        5\n",
      "      8       6.830870e+19      -1.915946e+17 |        5\n",
      "      9       6.811035e+19      -1.983489e+17 |        5\n",
      "     10       6.792287e+19      -1.874876e+17 |        5\n",
      "     11       6.774288e+19      -1.799825e+17 |        5\n",
      "     12       6.757774e+19      -1.651443e+17 |        5\n",
      "     13       6.742832e+19      -1.494185e+17 |        5\n",
      "     14       6.730127e+19      -1.270530e+17 |        5\n",
      "     15       6.719190e+19      -1.093663e+17 |        5\n",
      "     16       6.710050e+19      -9.140463e+16 |        5\n",
      "     17       6.703486e+19      -6.563702e+16 |        5\n",
      "     18       6.698259e+19      -5.226961e+16 |        5\n",
      "     19       6.693656e+19      -4.603483e+16 |        5\n",
      "     20       6.689922e+19      -3.733421e+16 |        5\n",
      "     21       6.687130e+19      -2.792617e+16 |        5\n",
      "     22       6.684943e+19      -2.186492e+16 |        5\n",
      "     23       6.683319e+19      -1.624229e+16 |        5\n",
      "     24       6.681967e+19      -1.351972e+16 |        5\n",
      "     25       6.681053e+19      -9.141223e+15 |        5\n",
      "     26       6.680178e+19      -8.747182e+15 |        5\n",
      "     27       6.679651e+19      -5.274502e+15 |        5\n",
      "     28       6.679389e+19      -2.616778e+15 |        5\n",
      "     29       6.679202e+19      -1.872041e+15 |        5\n",
      "     30       6.679099e+19      -1.024141e+15 |        5\n",
      "     31       6.679043e+19      -5.638048e+14 |        5\n",
      "     32       6.679000e+19      -4.263360e+14 |        5\n",
      "     33       6.678981e+19      -1.910829e+14 |        4\n",
      "     34       6.678973e+19      -8.581677e+13 |        4\n",
      "     35       6.678965e+19      -7.092037e+13 |        5\n",
      "     36       6.678961e+19      -4.849664e+13 |        5\n",
      "     37       6.678957e+19      -3.895685e+13 |        5\n",
      "     38       6.678952e+19      -5.147563e+13 |        5\n",
      "     39       6.678949e+19      -2.467469e+13 |        4\n",
      "     40       6.678948e+19      -9.349956e+12 |        4\n",
      "     41       6.678947e+19      -8.678394e+12 |        4\n",
      "     42       6.678947e+19      -1.974778e+12 |        4\n",
      "     43       6.678947e+19      -9.096706e+11 |        4\n",
      "     44       6.678947e+19      -5.294806e+11 |        4\n",
      "     45       6.678947e+19      -2.289899e+11 |        3\n",
      "     46       6.678947e+19      -1.260516e+11 |        3\n",
      "     47       6.678947e+19      -8.561486e+10 |        3\n",
      "     48       6.678947e+19      -6.629869e+10 |        3\n",
      "     49       6.678947e+19      -2.214570e+11 |        4\n",
      "     50       6.678947e+19      -1.821142e+11 |        3\n",
      "     51       6.678947e+19      -1.981672e+11 |        4\n",
      "     52       6.678947e+19      -2.187288e+11 |        4\n",
      "     53       6.678947e+19      -8.856284e+10 |        2\n",
      "     54       6.678947e+19      -2.816212e+10 |        2\n",
      "     55       6.678947e+19      -1.596413e+10 |        2\n",
      "     56       6.678947e+19      -2.683658e+09 |        2\n",
      "     57       6.678947e+19      -9.992520e+08 |        2\n",
      "     58       6.678947e+19      -6.763315e+08 |        2\n",
      "     59       6.678947e+19      -7.487078e+08 |        2\n",
      "     60       6.678947e+19      -2.747761e+08 |        2\n",
      "     61       6.678947e+19      -1.954120e+08 |        2\n",
      "     62       6.678947e+19      -2.621604e+08 |        0\n",
      "     63       6.678947e+19       0.000000e+00 |        0\n",
      "K-means converged with 63 iterations (objv = 6.678946789396542e19)\n"
     ]
    },
    {
     "data": {
      "text/plain": [
       "KmeansResult{Array{Float64,2},Float64,Int64}([242.808 237.652 … 249.015 290.237; 1.41196e5 1.60333e5 … 5.06892e5 2.18474e6; … ; 0.383817 0.000285857 … 0.0 0.0; 0.0743748 4.76429e-5 … 0.239177 0.33019], [1, 1, 1, 1, 1, 1, 1, 1, 1, 1  …  1, 1, 1, 1, 1, 1, 1, 1, 1, 1], [5.69408e11, 6.7804e11, 6.60296e11, 6.47895e11, 5.64048e11, 5.66883e11, 6.97648e11, 5.78064e11, 5.34149e11, 6.78846e11  …  6.90104e11, 3.8873e11, 6.99904e11, 2.09735e11, 6.95314e11, 6.57836e11, 5.26504e11, 4.06876e11, 5.91948e11, 3.62782e11], [5605297, 293853, 1702, 423866, 29689], [5605297, 293853, 1702, 423866, 29689], 6.678946789396542e19, 63, true)"
      ]
     },
     "execution_count": 22,
     "metadata": {},
     "output_type": "execute_result"
    }
   ],
   "source": [
    "# running kmeans clustering using k = 5\n",
    "k = 5\n",
    "\n",
    "result = kmeans(majorityData_mat, k; maxiter = 1000, display = :iter)"
   ]
  },
  {
   "cell_type": "code",
   "execution_count": 23,
   "metadata": {},
   "outputs": [
    {
     "data": {
      "text/plain": [
       "(13, 6354407)"
      ]
     },
     "execution_count": 23,
     "metadata": {},
     "output_type": "execute_result"
    }
   ],
   "source": [
    "size(majorityData_mat)"
   ]
  },
  {
   "cell_type": "code",
   "execution_count": 24,
   "metadata": {},
   "outputs": [
    {
     "data": {
      "text/plain": [
       "13×5 Array{Float64,2}:\n",
       "    242.808       237.652        358.147       249.015       290.237     \n",
       "      1.41196e5     1.60333e5      8.26173e6     5.06892e5     2.18474e6 \n",
       "      2.69041e5     1.19105e7      9.88878e5     5.87292e5     1.12874e6 \n",
       "      2.84482e5     1.20707e7      1.01859e6     6.16509e5     1.16197e6 \n",
       " 465413.0           1.53007e6      1.12168e8     6.97442e6     2.67222e7 \n",
       "      5.57081e5     1.38626e6      1.21477e8     7.47361e6     2.9612e7  \n",
       "      0.0           0.0            0.0           0.0           0.0       \n",
       "      0.0           0.0            0.0           0.0           0.0       \n",
       "      0.176635      0.999585       0.23443       0.253207      0.260602  \n",
       "      0.35848       8.16735e-5     0.331375      0.498967      0.401226  \n",
       "      0.00669242    0.0            0.00940071    0.00864896    0.00798275\n",
       "      0.383817      0.000285857    0.0           0.0           0.0       \n",
       "      0.0743748     4.76429e-5     0.424794      0.239177      0.33019   "
      ]
     },
     "execution_count": 24,
     "metadata": {},
     "output_type": "execute_result"
    }
   ],
   "source": [
    "M = result.centers  \n",
    "\n",
    "#dmat = pairwise( SqEuclidean(), majorityData_mat) ## Equivalent to pairwise(distance, data_matrix, data_matrix)\n",
    "#dmat = convert(Array{T} where T <: AbstractFloat, dmat) \n",
    "#size(dmat)\n"
   ]
  },
  {
   "cell_type": "markdown",
   "metadata": {},
   "source": [
    "# View the size of the each Cluster"
   ]
  },
  {
   "cell_type": "code",
   "execution_count": 25,
   "metadata": {},
   "outputs": [
    {
     "data": {
      "text/plain": [
       "5-element Array{Int64,1}:\n",
       " 5605297\n",
       "  293853\n",
       "    1702\n",
       "  423866\n",
       "   29689"
      ]
     },
     "execution_count": 25,
     "metadata": {},
     "output_type": "execute_result"
    }
   ],
   "source": [
    "# size of each cluster out of k\n",
    "\n",
    "c = counts(result) "
   ]
  },
  {
   "cell_type": "markdown",
   "metadata": {},
   "source": [
    "## Clusters that only contines more than or equal 8213 instances"
   ]
  },
  {
   "cell_type": "code",
   "execution_count": 26,
   "metadata": {},
   "outputs": [
    {
     "name": "stdout",
     "output_type": "stream",
     "text": [
      "1th Cluster Contains: 5605297\n",
      "2th Cluster Contains: 293853\n",
      "4th Cluster Contains: 423866\n",
      "5th Cluster Contains: 29689\n",
      "Usable Cluster: 4\n",
      "Any[1, 2, 4, 5]\n"
     ]
    }
   ],
   "source": [
    "# we need clusters that only contines more than or equal 8213 instances\n",
    "\n",
    "global j = 1\n",
    "global cluster_list = []\n",
    "global clusterNumber = 0\n",
    "for i in c\n",
    "    if i >= 8213\n",
    "        println(j, \"th Cluster Contains: \", i)\n",
    "        clusterNumber = clusterNumber + 1 \n",
    "        push!(cluster_list, j)\n",
    "    end\n",
    "    j = j + 1\n",
    "end\n",
    "println(\"Usable Cluster: \", clusterNumber)\n",
    "println(cluster_list)"
   ]
  },
  {
   "cell_type": "code",
   "execution_count": 27,
   "metadata": {},
   "outputs": [
    {
     "data": {
      "text/plain": [
       "6354407-element Array{Int64,1}:\n",
       " 1\n",
       " 1\n",
       " 1\n",
       " 1\n",
       " 1\n",
       " 1\n",
       " 1\n",
       " 1\n",
       " 1\n",
       " 1\n",
       " 1\n",
       " 1\n",
       " 1\n",
       " ⋮\n",
       " 1\n",
       " 1\n",
       " 1\n",
       " 1\n",
       " 1\n",
       " 1\n",
       " 1\n",
       " 1\n",
       " 1\n",
       " 1\n",
       " 1\n",
       " 1"
      ]
     },
     "execution_count": 27,
     "metadata": {},
     "output_type": "execute_result"
    }
   ],
   "source": [
    "# obtain the resultant assignments\n",
    "# a[i] indicates which cluster the i-th sample is assigned to\n",
    "\n",
    "cluster_no = assignments(result)"
   ]
  },
  {
   "cell_type": "code",
   "execution_count": 28,
   "metadata": {},
   "outputs": [
    {
     "name": "stdout",
     "output_type": "stream",
     "text": [
      "6354407\n"
     ]
    }
   ],
   "source": [
    "# Number of row and column in features Matrix\n",
    "global majority_sz = 6354407\n",
    "row, col = size(majorityData_mat)\n",
    "println(col)"
   ]
  },
  {
   "cell_type": "code",
   "execution_count": 29,
   "metadata": {},
   "outputs": [
    {
     "data": {
      "text/plain": [
       "collectMinority (generic function with 1 method)"
      ]
     },
     "execution_count": 29,
     "metadata": {},
     "output_type": "execute_result"
    }
   ],
   "source": [
    "# This function returns minoity instances in elastic array [ just a helper function ]\n",
    "function collectMinority(min)\n",
    "    \n",
    "    row, col = size(min)\n",
    "    \n",
    "    temp = ElasticArray{Float64}(undef, 13, 0)\n",
    "    \n",
    "    for i = 1 : row\n",
    "        r = min[i, :]\n",
    "        append!(temp, r)    \n",
    "    end\n",
    "    return temp\n",
    "    #return reshape(temp, row, col)\n",
    "end"
   ]
  },
  {
   "cell_type": "code",
   "execution_count": 30,
   "metadata": {},
   "outputs": [
    {
     "data": {
      "text/plain": [
       "collectClusteredData (generic function with 1 method)"
      ]
     },
     "execution_count": 30,
     "metadata": {},
     "output_type": "execute_result"
    }
   ],
   "source": [
    "# It's a helper function that takes cluster number as parameter \n",
    "# and returns all the instances belongs to this cluster\n",
    "\n",
    "function collectClusteredData(cl_no)\n",
    "    \n",
    "    temp = ElasticArray{Float64}(undef, 13, 0)\n",
    "    \n",
    "    for i = 1 : majority_sz\n",
    "        if cluster_no[i] == cl_no\n",
    "            append!(temp, majorityData_mat[:, i])\n",
    "        end\n",
    "    end\n",
    "    \n",
    "    return temp\n",
    "end"
   ]
  },
  {
   "cell_type": "code",
   "execution_count": 31,
   "metadata": {},
   "outputs": [
    {
     "data": {
      "text/plain": [
       "getElem (generic function with 1 method)"
      ]
     },
     "execution_count": 31,
     "metadata": {},
     "output_type": "execute_result"
    }
   ],
   "source": [
    "# It's a helper function that returns cluster member of a perticular cluster\n",
    "\n",
    "function getElem(cluster, i)\n",
    "    st_idx = (i - 1) * 13 + 1\n",
    "    en_idx = st_idx + 13 - 1\n",
    "    return cluster[st_idx : en_idx]\n",
    "end"
   ]
  },
  {
   "cell_type": "code",
   "execution_count": 32,
   "metadata": {},
   "outputs": [
    {
     "data": {
      "text/plain": [
       "randSample (generic function with 1 method)"
      ]
     },
     "execution_count": 32,
     "metadata": {},
     "output_type": "execute_result"
    }
   ],
   "source": [
    "# this function takes cluster number and sample size as parameter \n",
    "# and returns n-random sample from that cluster \n",
    "\n",
    "function randSample(cluster, sample_sz)\n",
    "    row, col = size(cluster)\n",
    "    idxs = rand(1:col, sample_sz)\n",
    "    \n",
    "    rnd_sample = ElasticArray{Float64}(undef, 13, 0)\n",
    "    \n",
    "    for i = 1 : sample_sz\n",
    "        sample = getElem(cluster, idxs[i])\n",
    "        append!(rnd_sample, sample)\n",
    "    end\n",
    "        \n",
    "    return  rnd_sample#reshape(rnd_sample,sample_sz, row)\n",
    "end"
   ]
  },
  {
   "cell_type": "code",
   "execution_count": null,
   "metadata": {},
   "outputs": [],
   "source": []
  },
  {
   "cell_type": "code",
   "execution_count": 33,
   "metadata": {},
   "outputs": [
    {
     "data": {
      "text/plain": [
       "mergeMajorityMinority (generic function with 1 method)"
      ]
     },
     "execution_count": 33,
     "metadata": {},
     "output_type": "execute_result"
    }
   ],
   "source": [
    "# This function merge both minoirty and majority sub data in given sample size\n",
    "function mergeMajorityMinority(majority, minority, sample_sz)\n",
    "    return hcat(majority, minority)\n",
    "end"
   ]
  },
  {
   "cell_type": "code",
   "execution_count": 34,
   "metadata": {},
   "outputs": [
    {
     "name": "stdout",
     "output_type": "stream",
     "text": [
      "Any[1, 2, 4, 5]\n"
     ]
    }
   ],
   "source": [
    "# cluster_list array has the usable cluster indexes \n",
    "println(cluster_list)"
   ]
  },
  {
   "cell_type": "markdown",
   "metadata": {},
   "source": [
    "## Collecting cluster members "
   ]
  },
  {
   "cell_type": "code",
   "execution_count": 35,
   "metadata": {},
   "outputs": [
    {
     "data": {
      "text/plain": [
       "13×29689 ElasticArray{Float64,2,1}:\n",
       " 1.0        1.0             1.0        …  718.0         718.0      \n",
       " 3.49506e5  2.22711e5  227478.0             1.73137e5     1.39144e5\n",
       " 7.33024e6  2.41907e6   25743.8            95.0        7075.0      \n",
       " 7.67974e6  2.64178e6       0.0             0.0           0.0      \n",
       " 1.7001e7   1.66515e7       1.64288e7       2.96365e7     4.90402e7\n",
       " 1.91692e7  1.91692e7       1.91692e7  …    2.98096e7     4.91793e7\n",
       " 0.0        0.0             0.0             0.0           0.0      \n",
       " 0.0        0.0             0.0             0.0           0.0      \n",
       " 1.0        1.0             0.0             0.0           0.0      \n",
       " 0.0        0.0             1.0             0.0           0.0      \n",
       " 0.0        0.0             0.0        …    0.0           0.0      \n",
       " 0.0        0.0             0.0             0.0           0.0      \n",
       " 0.0        0.0             0.0             1.0           1.0      "
      ]
     },
     "execution_count": 35,
     "metadata": {},
     "output_type": "execute_result"
    }
   ],
   "source": [
    "# Usable clusters, decided in the previousStep\n",
    "\n",
    "c1 = collectClusteredData(cluster_list[1])\n",
    "c2 = collectClusteredData(cluster_list[2])\n",
    "c3 = collectClusteredData(cluster_list[3])\n",
    "c4 = collectClusteredData(cluster_list[4])\n"
   ]
  },
  {
   "cell_type": "code",
   "execution_count": 36,
   "metadata": {
    "scrolled": true
   },
   "outputs": [
    {
     "data": {
      "text/plain": [
       "13×2464 ElasticArray{Float64,2,1}:\n",
       "   496.0    530.0          184.0  646.0    …  259.0          74.0      \n",
       " 30172.0  19577.0        73486.8    1.0e7       1.95037e6     2.45142e6\n",
       " 30172.0  19577.0        73486.8    1.0e7       1.95037e6     2.45142e6\n",
       "     0.0      0.0            0.0    0.0         0.0           0.0      \n",
       "     0.0      7.62609e5      0.0    0.0         3.3131e5   4870.65     \n",
       "     0.0      7.82186e5      0.0    1.0e7  …    2.28168e6     2.45629e6\n",
       "     1.0      1.0            1.0    1.0         1.0           1.0      \n",
       "     0.0      0.0            0.0    0.0         0.0           0.0      \n",
       "     0.0      0.0            0.0    0.0         0.0           0.0      \n",
       "     0.0      1.0            0.0    1.0         1.0           1.0      \n",
       "     0.0      0.0            0.0    0.0    …    0.0           0.0      \n",
       "     0.0      0.0            0.0    0.0         0.0           0.0      \n",
       "     1.0      0.0            1.0    0.0         0.0           0.0      "
      ]
     },
     "execution_count": 36,
     "metadata": {},
     "output_type": "execute_result"
    }
   ],
   "source": [
    "# min_train and min_test are converted to elastic array. \n",
    "min_trains =  collectMinority(min_train)\n",
    "min_tests =  collectMinority(min_test)"
   ]
  },
  {
   "cell_type": "code",
   "execution_count": 37,
   "metadata": {},
   "outputs": [
    {
     "name": "stdout",
     "output_type": "stream",
     "text": [
      "Size of minority_train: (5749, 13)Size of minority_test: (2464, 13)"
     ]
    }
   ],
   "source": [
    "print(\"Size of minority_train: \", size(min_train))\n",
    "print(\"Size of minority_test: \", size(min_test))\n"
   ]
  },
  {
   "cell_type": "code",
   "execution_count": null,
   "metadata": {},
   "outputs": [],
   "source": []
  },
  {
   "cell_type": "code",
   "execution_count": 38,
   "metadata": {},
   "outputs": [
    {
     "data": {
      "text/plain": [
       "renameDf (generic function with 1 method)"
      ]
     },
     "execution_count": 38,
     "metadata": {},
     "output_type": "execute_result"
    }
   ],
   "source": [
    "# This function rename given dataframe\n",
    "function renameDf(df)\n",
    " \n",
    "col_name = [:step,          \n",
    " :amount,        \n",
    " :oldbalanceOrg, \n",
    " :newbalanceOrig,\n",
    " :oldbalanceDest,\n",
    " :newbalanceDest,\n",
    " :isFraud,       \n",
    " :isFlaggedFraud,\n",
    " :CASH_IN,       \n",
    " :CASH_OUT,      \n",
    " :DEBIT,         \n",
    " :PAYMENT,       \n",
    " :TRANSFER]\n",
    " return names!(df, col_name)\n",
    "    \n",
    "end"
   ]
  },
  {
   "cell_type": "code",
   "execution_count": 39,
   "metadata": {},
   "outputs": [
    {
     "data": {
      "text/plain": [
       "PrepareSampledDataset (generic function with 1 method)"
      ]
     },
     "execution_count": 39,
     "metadata": {},
     "output_type": "execute_result"
    }
   ],
   "source": [
    "function PrepareSampledDataset(cluster, minority_sample, sample_sz)\n",
    "\n",
    "    picked_sample = randSample(cluster, sample_sz)\n",
    "    temp_dataset  = mergeMajorityMinority(picked_sample, minority_sample, sample_sz)\n",
    "    \n",
    "    features_sz, msamples_sz = size(temp_dataset)\n",
    "    \n",
    "    to_dataframe   = convert(DataFrame, temp_dataset)\n",
    "    transposed_mat = permutedims(convert(Matrix{Float64}, to_dataframe[1:msamples_sz]), [2, 1])\n",
    "\n",
    "    \n",
    "    to_dataframe   = convert(DataFrame, transposed_mat)\n",
    "    #df = to_dataframe.sample(frac=1).reset_index(drop=True)\n",
    "    dataframe_shuffle = to_dataframe[StatsBase.sample(1:size(to_dataframe,1), size(to_dataframe,1), replace=false),:]\n",
    "    \n",
    "    return renameDf(dataframe_shuffle)\n",
    "    \n",
    "end"
   ]
  },
  {
   "cell_type": "markdown",
   "metadata": {},
   "source": [
    "## Declare sample size of majority sample for train and test"
   ]
  },
  {
   "cell_type": "code",
   "execution_count": 40,
   "metadata": {},
   "outputs": [
    {
     "data": {
      "text/plain": [
       "5749"
      ]
     },
     "execution_count": 40,
     "metadata": {},
     "output_type": "execute_result"
    }
   ],
   "source": [
    "majority_sample_train = 8623\n",
    "majority_sample_test = 5749\n"
   ]
  },
  {
   "cell_type": "markdown",
   "metadata": {},
   "source": [
    "# Merging Cluster data, minoirty sub data for creating samples for train and test"
   ]
  },
  {
   "cell_type": "code",
   "execution_count": 41,
   "metadata": {},
   "outputs": [
    {
     "data": {
      "text/html": [
       "<table class=\"data-frame\"><thead><tr><th></th><th>step</th><th>amount</th><th>oldbalanceOrg</th><th>newbalanceOrig</th><th>oldbalanceDest</th><th>newbalanceDest</th><th>isFraud</th><th>isFlaggedFraud</th><th>CASH_IN</th><th>CASH_OUT</th><th>DEBIT</th><th>PAYMENT</th><th>TRANSFER</th></tr><tr><th></th><th>Float64</th><th>Float64</th><th>Float64</th><th>Float64</th><th>Float64</th><th>Float64</th><th>Float64</th><th>Float64</th><th>Float64</th><th>Float64</th><th>Float64</th><th>Float64</th><th>Float64</th></tr></thead><tbody><p>14,372 rows × 13 columns</p><tr><th>1</th><td>69.0</td><td>2.96025e6</td><td>2.96025e6</td><td>0.0</td><td>0.0</td><td>0.0</td><td>1.0</td><td>0.0</td><td>0.0</td><td>0.0</td><td>0.0</td><td>0.0</td><td>1.0</td></tr><tr><th>2</th><td>274.0</td><td>3.14112e5</td><td>0.0</td><td>0.0</td><td>4.11372e6</td><td>4.42783e6</td><td>0.0</td><td>0.0</td><td>0.0</td><td>1.0</td><td>0.0</td><td>0.0</td><td>0.0</td></tr><tr><th>3</th><td>652.0</td><td>80397.9</td><td>80397.9</td><td>0.0</td><td>0.0</td><td>0.0</td><td>1.0</td><td>0.0</td><td>0.0</td><td>0.0</td><td>0.0</td><td>0.0</td><td>1.0</td></tr><tr><th>4</th><td>380.0</td><td>2.27907e5</td><td>0.0</td><td>0.0</td><td>3.88945e6</td><td>4.11736e6</td><td>0.0</td><td>0.0</td><td>0.0</td><td>1.0</td><td>0.0</td><td>0.0</td><td>0.0</td></tr><tr><th>5</th><td>230.0</td><td>2.14692e5</td><td>0.0</td><td>0.0</td><td>1.17875e7</td><td>1.20022e7</td><td>0.0</td><td>0.0</td><td>0.0</td><td>1.0</td><td>0.0</td><td>0.0</td><td>0.0</td></tr><tr><th>6</th><td>402.0</td><td>1.27156e5</td><td>1.27156e5</td><td>0.0</td><td>0.0</td><td>0.0</td><td>1.0</td><td>0.0</td><td>0.0</td><td>0.0</td><td>0.0</td><td>0.0</td><td>1.0</td></tr><tr><th>7</th><td>520.0</td><td>1.45918e6</td><td>1.45918e6</td><td>0.0</td><td>1.1206e6</td><td>2.57978e6</td><td>1.0</td><td>0.0</td><td>0.0</td><td>1.0</td><td>0.0</td><td>0.0</td><td>0.0</td></tr><tr><th>8</th><td>333.0</td><td>5735.9</td><td>7215.0</td><td>1479.1</td><td>1.35661e7</td><td>1.35718e7</td><td>0.0</td><td>0.0</td><td>0.0</td><td>1.0</td><td>0.0</td><td>0.0</td><td>0.0</td></tr><tr><th>9</th><td>651.0</td><td>1.30777e5</td><td>1.30777e5</td><td>0.0</td><td>0.0</td><td>1.30777e5</td><td>1.0</td><td>0.0</td><td>0.0</td><td>1.0</td><td>0.0</td><td>0.0</td><td>0.0</td></tr><tr><th>10</th><td>233.0</td><td>1.7555e6</td><td>0.0</td><td>0.0</td><td>4.49912e6</td><td>6.25462e6</td><td>0.0</td><td>0.0</td><td>0.0</td><td>0.0</td><td>0.0</td><td>0.0</td><td>1.0</td></tr><tr><th>11</th><td>326.0</td><td>3.87374e5</td><td>0.0</td><td>0.0</td><td>6.45928e6</td><td>6.84665e6</td><td>0.0</td><td>0.0</td><td>0.0</td><td>1.0</td><td>0.0</td><td>0.0</td><td>0.0</td></tr><tr><th>12</th><td>133.0</td><td>69573.7</td><td>0.0</td><td>0.0</td><td>6.94273e6</td><td>9.99489e6</td><td>0.0</td><td>0.0</td><td>0.0</td><td>1.0</td><td>0.0</td><td>0.0</td><td>0.0</td></tr><tr><th>13</th><td>16.0</td><td>31074.0</td><td>31074.0</td><td>0.0</td><td>0.0</td><td>0.0</td><td>1.0</td><td>0.0</td><td>0.0</td><td>0.0</td><td>0.0</td><td>0.0</td><td>1.0</td></tr><tr><th>14</th><td>12.0</td><td>1.49669e5</td><td>0.0</td><td>0.0</td><td>44170.1</td><td>1.93839e5</td><td>1.0</td><td>0.0</td><td>0.0</td><td>1.0</td><td>0.0</td><td>0.0</td><td>0.0</td></tr><tr><th>15</th><td>257.0</td><td>1.43537e6</td><td>229804.0</td><td>0.0</td><td>1.03321e7</td><td>1.17675e7</td><td>0.0</td><td>0.0</td><td>0.0</td><td>0.0</td><td>0.0</td><td>0.0</td><td>1.0</td></tr><tr><th>16</th><td>388.0</td><td>2.36388e5</td><td>2.36388e5</td><td>0.0</td><td>0.0</td><td>0.0</td><td>1.0</td><td>0.0</td><td>0.0</td><td>0.0</td><td>0.0</td><td>0.0</td><td>1.0</td></tr><tr><th>17</th><td>235.0</td><td>1.70557e5</td><td>0.0</td><td>0.0</td><td>5.46753e6</td><td>5.63809e6</td><td>0.0</td><td>0.0</td><td>0.0</td><td>1.0</td><td>0.0</td><td>0.0</td><td>0.0</td></tr><tr><th>18</th><td>640.0</td><td>46974.0</td><td>46974.0</td><td>0.0</td><td>0.0</td><td>46974.0</td><td>1.0</td><td>0.0</td><td>0.0</td><td>1.0</td><td>0.0</td><td>0.0</td><td>0.0</td></tr><tr><th>19</th><td>250.0</td><td>54109.5</td><td>1.59228e6</td><td>1.64639e6</td><td>4.71455e6</td><td>4.66044e6</td><td>0.0</td><td>0.0</td><td>1.0</td><td>0.0</td><td>0.0</td><td>0.0</td><td>0.0</td></tr><tr><th>20</th><td>296.0</td><td>2.61875e5</td><td>2.61875e5</td><td>0.0</td><td>0.0</td><td>2.61875e5</td><td>1.0</td><td>0.0</td><td>0.0</td><td>1.0</td><td>0.0</td><td>0.0</td><td>0.0</td></tr><tr><th>21</th><td>307.0</td><td>1.44173e5</td><td>0.0</td><td>0.0</td><td>1.2517e7</td><td>1.26612e7</td><td>0.0</td><td>0.0</td><td>0.0</td><td>1.0</td><td>0.0</td><td>0.0</td><td>0.0</td></tr><tr><th>22</th><td>74.0</td><td>85637.1</td><td>85637.1</td><td>0.0</td><td>0.0</td><td>0.0</td><td>1.0</td><td>0.0</td><td>0.0</td><td>0.0</td><td>0.0</td><td>0.0</td><td>1.0</td></tr><tr><th>23</th><td>715.0</td><td>2.12028e5</td><td>2.12028e5</td><td>0.0</td><td>0.0</td><td>0.0</td><td>1.0</td><td>0.0</td><td>0.0</td><td>0.0</td><td>0.0</td><td>0.0</td><td>1.0</td></tr><tr><th>24</th><td>279.0</td><td>1.89778e5</td><td>3.15086e5</td><td>1.25307e5</td><td>7.04858e6</td><td>7.23836e6</td><td>0.0</td><td>0.0</td><td>0.0</td><td>1.0</td><td>0.0</td><td>0.0</td><td>0.0</td></tr><tr><th>25</th><td>544.0</td><td>4.12668e5</td><td>4.12668e5</td><td>0.0</td><td>1.44505e6</td><td>1.85772e6</td><td>1.0</td><td>0.0</td><td>0.0</td><td>1.0</td><td>0.0</td><td>0.0</td><td>0.0</td></tr><tr><th>26</th><td>192.0</td><td>8783.42</td><td>8783.42</td><td>0.0</td><td>0.0</td><td>0.0</td><td>1.0</td><td>0.0</td><td>0.0</td><td>0.0</td><td>0.0</td><td>0.0</td><td>1.0</td></tr><tr><th>27</th><td>326.0</td><td>8.01264e6</td><td>74163.7</td><td>0.0</td><td>1.12537e7</td><td>1.92664e7</td><td>0.0</td><td>0.0</td><td>0.0</td><td>0.0</td><td>0.0</td><td>0.0</td><td>1.0</td></tr><tr><th>28</th><td>137.0</td><td>5.22166e5</td><td>159156.0</td><td>6.81322e5</td><td>5.16213e6</td><td>4.63996e6</td><td>0.0</td><td>0.0</td><td>1.0</td><td>0.0</td><td>0.0</td><td>0.0</td><td>0.0</td></tr><tr><th>29</th><td>358.0</td><td>64781.2</td><td>0.0</td><td>0.0</td><td>1.54892e7</td><td>1.55539e7</td><td>0.0</td><td>0.0</td><td>0.0</td><td>1.0</td><td>0.0</td><td>0.0</td><td>0.0</td></tr><tr><th>30</th><td>380.0</td><td>2.22672e5</td><td>46251.0</td><td>2.68923e5</td><td>6.43914e6</td><td>6.21646e6</td><td>0.0</td><td>0.0</td><td>1.0</td><td>0.0</td><td>0.0</td><td>0.0</td><td>0.0</td></tr><tr><th>&vellip;</th><td>&vellip;</td><td>&vellip;</td><td>&vellip;</td><td>&vellip;</td><td>&vellip;</td><td>&vellip;</td><td>&vellip;</td><td>&vellip;</td><td>&vellip;</td><td>&vellip;</td><td>&vellip;</td><td>&vellip;</td><td>&vellip;</td></tr></tbody></table>"
      ],
      "text/latex": [
       "\\begin{tabular}{r|ccccccccccccc}\n",
       "\t& step & amount & oldbalanceOrg & newbalanceOrig & oldbalanceDest & newbalanceDest & isFraud & isFlaggedFraud & CASH\\_IN & CASH\\_OUT & DEBIT & PAYMENT & TRANSFER\\\\\n",
       "\t\\hline\n",
       "\t& Float64 & Float64 & Float64 & Float64 & Float64 & Float64 & Float64 & Float64 & Float64 & Float64 & Float64 & Float64 & Float64\\\\\n",
       "\t\\hline\n",
       "\t1 & 69.0 & 2.96025e6 & 2.96025e6 & 0.0 & 0.0 & 0.0 & 1.0 & 0.0 & 0.0 & 0.0 & 0.0 & 0.0 & 1.0 \\\\\n",
       "\t2 & 274.0 & 3.14112e5 & 0.0 & 0.0 & 4.11372e6 & 4.42783e6 & 0.0 & 0.0 & 0.0 & 1.0 & 0.0 & 0.0 & 0.0 \\\\\n",
       "\t3 & 652.0 & 80397.9 & 80397.9 & 0.0 & 0.0 & 0.0 & 1.0 & 0.0 & 0.0 & 0.0 & 0.0 & 0.0 & 1.0 \\\\\n",
       "\t4 & 380.0 & 2.27907e5 & 0.0 & 0.0 & 3.88945e6 & 4.11736e6 & 0.0 & 0.0 & 0.0 & 1.0 & 0.0 & 0.0 & 0.0 \\\\\n",
       "\t5 & 230.0 & 2.14692e5 & 0.0 & 0.0 & 1.17875e7 & 1.20022e7 & 0.0 & 0.0 & 0.0 & 1.0 & 0.0 & 0.0 & 0.0 \\\\\n",
       "\t6 & 402.0 & 1.27156e5 & 1.27156e5 & 0.0 & 0.0 & 0.0 & 1.0 & 0.0 & 0.0 & 0.0 & 0.0 & 0.0 & 1.0 \\\\\n",
       "\t7 & 520.0 & 1.45918e6 & 1.45918e6 & 0.0 & 1.1206e6 & 2.57978e6 & 1.0 & 0.0 & 0.0 & 1.0 & 0.0 & 0.0 & 0.0 \\\\\n",
       "\t8 & 333.0 & 5735.9 & 7215.0 & 1479.1 & 1.35661e7 & 1.35718e7 & 0.0 & 0.0 & 0.0 & 1.0 & 0.0 & 0.0 & 0.0 \\\\\n",
       "\t9 & 651.0 & 1.30777e5 & 1.30777e5 & 0.0 & 0.0 & 1.30777e5 & 1.0 & 0.0 & 0.0 & 1.0 & 0.0 & 0.0 & 0.0 \\\\\n",
       "\t10 & 233.0 & 1.7555e6 & 0.0 & 0.0 & 4.49912e6 & 6.25462e6 & 0.0 & 0.0 & 0.0 & 0.0 & 0.0 & 0.0 & 1.0 \\\\\n",
       "\t11 & 326.0 & 3.87374e5 & 0.0 & 0.0 & 6.45928e6 & 6.84665e6 & 0.0 & 0.0 & 0.0 & 1.0 & 0.0 & 0.0 & 0.0 \\\\\n",
       "\t12 & 133.0 & 69573.7 & 0.0 & 0.0 & 6.94273e6 & 9.99489e6 & 0.0 & 0.0 & 0.0 & 1.0 & 0.0 & 0.0 & 0.0 \\\\\n",
       "\t13 & 16.0 & 31074.0 & 31074.0 & 0.0 & 0.0 & 0.0 & 1.0 & 0.0 & 0.0 & 0.0 & 0.0 & 0.0 & 1.0 \\\\\n",
       "\t14 & 12.0 & 1.49669e5 & 0.0 & 0.0 & 44170.1 & 1.93839e5 & 1.0 & 0.0 & 0.0 & 1.0 & 0.0 & 0.0 & 0.0 \\\\\n",
       "\t15 & 257.0 & 1.43537e6 & 229804.0 & 0.0 & 1.03321e7 & 1.17675e7 & 0.0 & 0.0 & 0.0 & 0.0 & 0.0 & 0.0 & 1.0 \\\\\n",
       "\t16 & 388.0 & 2.36388e5 & 2.36388e5 & 0.0 & 0.0 & 0.0 & 1.0 & 0.0 & 0.0 & 0.0 & 0.0 & 0.0 & 1.0 \\\\\n",
       "\t17 & 235.0 & 1.70557e5 & 0.0 & 0.0 & 5.46753e6 & 5.63809e6 & 0.0 & 0.0 & 0.0 & 1.0 & 0.0 & 0.0 & 0.0 \\\\\n",
       "\t18 & 640.0 & 46974.0 & 46974.0 & 0.0 & 0.0 & 46974.0 & 1.0 & 0.0 & 0.0 & 1.0 & 0.0 & 0.0 & 0.0 \\\\\n",
       "\t19 & 250.0 & 54109.5 & 1.59228e6 & 1.64639e6 & 4.71455e6 & 4.66044e6 & 0.0 & 0.0 & 1.0 & 0.0 & 0.0 & 0.0 & 0.0 \\\\\n",
       "\t20 & 296.0 & 2.61875e5 & 2.61875e5 & 0.0 & 0.0 & 2.61875e5 & 1.0 & 0.0 & 0.0 & 1.0 & 0.0 & 0.0 & 0.0 \\\\\n",
       "\t21 & 307.0 & 1.44173e5 & 0.0 & 0.0 & 1.2517e7 & 1.26612e7 & 0.0 & 0.0 & 0.0 & 1.0 & 0.0 & 0.0 & 0.0 \\\\\n",
       "\t22 & 74.0 & 85637.1 & 85637.1 & 0.0 & 0.0 & 0.0 & 1.0 & 0.0 & 0.0 & 0.0 & 0.0 & 0.0 & 1.0 \\\\\n",
       "\t23 & 715.0 & 2.12028e5 & 2.12028e5 & 0.0 & 0.0 & 0.0 & 1.0 & 0.0 & 0.0 & 0.0 & 0.0 & 0.0 & 1.0 \\\\\n",
       "\t24 & 279.0 & 1.89778e5 & 3.15086e5 & 1.25307e5 & 7.04858e6 & 7.23836e6 & 0.0 & 0.0 & 0.0 & 1.0 & 0.0 & 0.0 & 0.0 \\\\\n",
       "\t25 & 544.0 & 4.12668e5 & 4.12668e5 & 0.0 & 1.44505e6 & 1.85772e6 & 1.0 & 0.0 & 0.0 & 1.0 & 0.0 & 0.0 & 0.0 \\\\\n",
       "\t26 & 192.0 & 8783.42 & 8783.42 & 0.0 & 0.0 & 0.0 & 1.0 & 0.0 & 0.0 & 0.0 & 0.0 & 0.0 & 1.0 \\\\\n",
       "\t27 & 326.0 & 8.01264e6 & 74163.7 & 0.0 & 1.12537e7 & 1.92664e7 & 0.0 & 0.0 & 0.0 & 0.0 & 0.0 & 0.0 & 1.0 \\\\\n",
       "\t28 & 137.0 & 5.22166e5 & 159156.0 & 6.81322e5 & 5.16213e6 & 4.63996e6 & 0.0 & 0.0 & 1.0 & 0.0 & 0.0 & 0.0 & 0.0 \\\\\n",
       "\t29 & 358.0 & 64781.2 & 0.0 & 0.0 & 1.54892e7 & 1.55539e7 & 0.0 & 0.0 & 0.0 & 1.0 & 0.0 & 0.0 & 0.0 \\\\\n",
       "\t30 & 380.0 & 2.22672e5 & 46251.0 & 2.68923e5 & 6.43914e6 & 6.21646e6 & 0.0 & 0.0 & 1.0 & 0.0 & 0.0 & 0.0 & 0.0 \\\\\n",
       "\t$\\dots$ & $\\dots$ & $\\dots$ & $\\dots$ & $\\dots$ & $\\dots$ & $\\dots$ & $\\dots$ & $\\dots$ & $\\dots$ & $\\dots$ & $\\dots$ & $\\dots$ & $\\dots$ \\\\\n",
       "\\end{tabular}\n"
      ],
      "text/plain": [
       "14372×13 DataFrame. Omitted printing of 9 columns\n",
       "│ Row   │ step    │ amount    │ oldbalanceOrg │ newbalanceOrig │\n",
       "│       │ \u001b[90mFloat64\u001b[39m │ \u001b[90mFloat64\u001b[39m   │ \u001b[90mFloat64\u001b[39m       │ \u001b[90mFloat64\u001b[39m        │\n",
       "├───────┼─────────┼───────────┼───────────────┼────────────────┤\n",
       "│ 1     │ 69.0    │ 2.96025e6 │ 2.96025e6     │ 0.0            │\n",
       "│ 2     │ 274.0   │ 3.14112e5 │ 0.0           │ 0.0            │\n",
       "│ 3     │ 652.0   │ 80397.9   │ 80397.9       │ 0.0            │\n",
       "│ 4     │ 380.0   │ 2.27907e5 │ 0.0           │ 0.0            │\n",
       "│ 5     │ 230.0   │ 2.14692e5 │ 0.0           │ 0.0            │\n",
       "│ 6     │ 402.0   │ 1.27156e5 │ 1.27156e5     │ 0.0            │\n",
       "│ 7     │ 520.0   │ 1.45918e6 │ 1.45918e6     │ 0.0            │\n",
       "│ 8     │ 333.0   │ 5735.9    │ 7215.0        │ 1479.1         │\n",
       "│ 9     │ 651.0   │ 1.30777e5 │ 1.30777e5     │ 0.0            │\n",
       "│ 10    │ 233.0   │ 1.7555e6  │ 0.0           │ 0.0            │\n",
       "⋮\n",
       "│ 14362 │ 375.0   │ 1.18463e5 │ 1.18463e5     │ 0.0            │\n",
       "│ 14363 │ 323.0   │ 33270.8   │ 20109.0       │ 53379.8        │\n",
       "│ 14364 │ 396.0   │ 1.22006e5 │ 21285.0       │ 0.0            │\n",
       "│ 14365 │ 18.0    │ 126133.0  │ 0.0           │ 0.0            │\n",
       "│ 14366 │ 300.0   │ 17850.5   │ 2.26812e6     │ 2.28597e6      │\n",
       "│ 14367 │ 163.0   │ 3.23473e5 │ 5.00678e6     │ 5.33026e6      │\n",
       "│ 14368 │ 322.0   │ 303531.0  │ 1.00427e6     │ 1.3078e6       │\n",
       "│ 14369 │ 396.0   │ 2.44488e5 │ 107843.0      │ 3.52331e5      │\n",
       "│ 14370 │ 573.0   │ 4.3814e5  │ 4.3814e5      │ 0.0            │\n",
       "│ 14371 │ 548.0   │ 33372.9   │ 0.0           │ 0.0            │\n",
       "│ 14372 │ 150.0   │ 1.47171e5 │ 1.47171e5     │ 0.0            │"
      ]
     },
     "execution_count": 41,
     "metadata": {},
     "output_type": "execute_result"
    }
   ],
   "source": [
    "# 7 sample for training\n",
    "\n",
    "using StatsBase\n",
    "\n",
    "sample1_c1 = PrepareSampledDataset(c1, min_trains, majority_sample_train)\n",
    "sample2_c1 = PrepareSampledDataset(c1, min_trains, majority_sample_train)\n",
    "sample3_c1 = PrepareSampledDataset(c1, min_trains, majority_sample_train)\n",
    "\n",
    "\n",
    "sample1_c2 = PrepareSampledDataset(c2, min_trains, majority_sample_train)\n",
    "sample2_c2 = PrepareSampledDataset(c2, min_trains, majority_sample_train)\n",
    "\n",
    "sample1_c3 = PrepareSampledDataset(c3, min_trains, majority_sample_train)\n",
    "sample2_c3 = PrepareSampledDataset(c3, min_trains, majority_sample_train)\n"
   ]
  },
  {
   "cell_type": "code",
   "execution_count": 42,
   "metadata": {
    "scrolled": true
   },
   "outputs": [
    {
     "data": {
      "text/html": [
       "<table class=\"data-frame\"><thead><tr><th></th><th>step</th><th>amount</th><th>oldbalanceOrg</th><th>newbalanceOrig</th><th>oldbalanceDest</th><th>newbalanceDest</th><th>isFraud</th><th>isFlaggedFraud</th><th>CASH_IN</th><th>CASH_OUT</th><th>DEBIT</th><th>PAYMENT</th><th>TRANSFER</th></tr><tr><th></th><th>Float64</th><th>Float64</th><th>Float64</th><th>Float64</th><th>Float64</th><th>Float64</th><th>Float64</th><th>Float64</th><th>Float64</th><th>Float64</th><th>Float64</th><th>Float64</th><th>Float64</th></tr></thead><tbody><p>8,213 rows × 13 columns</p><tr><th>1</th><td>324.0</td><td>3.60408e6</td><td>0.0</td><td>0.0</td><td>1.90715e7</td><td>2.26756e7</td><td>0.0</td><td>0.0</td><td>0.0</td><td>0.0</td><td>0.0</td><td>0.0</td><td>1.0</td></tr><tr><th>2</th><td>297.0</td><td>1.00385e7</td><td>0.0</td><td>0.0</td><td>1.48123e7</td><td>2.48508e7</td><td>0.0</td><td>0.0</td><td>0.0</td><td>0.0</td><td>0.0</td><td>0.0</td><td>1.0</td></tr><tr><th>3</th><td>164.0</td><td>48899.4</td><td>5.9452e5</td><td>6.43419e5</td><td>2.06202e7</td><td>2.05713e7</td><td>0.0</td><td>0.0</td><td>1.0</td><td>0.0</td><td>0.0</td><td>0.0</td><td>0.0</td></tr><tr><th>4</th><td>228.0</td><td>63463.8</td><td>0.0</td><td>0.0</td><td>2.04009e7</td><td>2.04644e7</td><td>0.0</td><td>0.0</td><td>0.0</td><td>1.0</td><td>0.0</td><td>0.0</td><td>0.0</td></tr><tr><th>5</th><td>372.0</td><td>2.16955e5</td><td>51689.0</td><td>0.0</td><td>3.38761e7</td><td>3.40931e7</td><td>0.0</td><td>0.0</td><td>0.0</td><td>1.0</td><td>0.0</td><td>0.0</td><td>0.0</td></tr><tr><th>6</th><td>148.0</td><td>3.94886e5</td><td>3.94886e5</td><td>0.0</td><td>0.0</td><td>0.0</td><td>1.0</td><td>0.0</td><td>0.0</td><td>0.0</td><td>0.0</td><td>0.0</td><td>1.0</td></tr><tr><th>7</th><td>397.0</td><td>3.43814e5</td><td>7.46364e6</td><td>7.80745e6</td><td>1.80353e7</td><td>1.76915e7</td><td>0.0</td><td>0.0</td><td>1.0</td><td>0.0</td><td>0.0</td><td>0.0</td><td>0.0</td></tr><tr><th>8</th><td>359.0</td><td>86974.3</td><td>2.0978e7</td><td>2.10649e7</td><td>5.56062e7</td><td>5.55192e7</td><td>0.0</td><td>0.0</td><td>1.0</td><td>0.0</td><td>0.0</td><td>0.0</td><td>0.0</td></tr><tr><th>9</th><td>371.0</td><td>7.98773e6</td><td>0.0</td><td>0.0</td><td>3.10661e7</td><td>3.90538e7</td><td>0.0</td><td>0.0</td><td>0.0</td><td>0.0</td><td>0.0</td><td>0.0</td><td>1.0</td></tr><tr><th>10</th><td>304.0</td><td>4.73295e5</td><td>3.36654e6</td><td>3.83984e6</td><td>1.81947e7</td><td>1.77214e7</td><td>0.0</td><td>0.0</td><td>1.0</td><td>0.0</td><td>0.0</td><td>0.0</td><td>0.0</td></tr><tr><th>11</th><td>569.0</td><td>1.77991e5</td><td>0.0</td><td>0.0</td><td>1.78874e7</td><td>1.80654e7</td><td>0.0</td><td>0.0</td><td>0.0</td><td>0.0</td><td>0.0</td><td>0.0</td><td>1.0</td></tr><tr><th>12</th><td>43.0</td><td>6305.71</td><td>5.13931e5</td><td>5.20237e5</td><td>1.88137e7</td><td>1.88012e7</td><td>0.0</td><td>0.0</td><td>1.0</td><td>0.0</td><td>0.0</td><td>0.0</td><td>0.0</td></tr><tr><th>13</th><td>524.0</td><td>91911.4</td><td>0.0</td><td>0.0</td><td>4.53971e7</td><td>4.5489e7</td><td>0.0</td><td>0.0</td><td>0.0</td><td>1.0</td><td>0.0</td><td>0.0</td><td>0.0</td></tr><tr><th>14</th><td>308.0</td><td>3.42536e5</td><td>2.53545e5</td><td>5.96081e5</td><td>2.94772e7</td><td>2.91347e7</td><td>0.0</td><td>0.0</td><td>1.0</td><td>0.0</td><td>0.0</td><td>0.0</td><td>0.0</td></tr><tr><th>15</th><td>304.0</td><td>1.0e7</td><td>0.0</td><td>0.0</td><td>1.06027e7</td><td>3.05019e7</td><td>0.0</td><td>0.0</td><td>0.0</td><td>0.0</td><td>0.0</td><td>0.0</td><td>1.0</td></tr><tr><th>16</th><td>522.0</td><td>1.78131e5</td><td>1.65483e7</td><td>1.67264e7</td><td>2.18782e7</td><td>2.17e7</td><td>0.0</td><td>0.0</td><td>1.0</td><td>0.0</td><td>0.0</td><td>0.0</td><td>0.0</td></tr><tr><th>17</th><td>402.0</td><td>34473.5</td><td>1.65267e7</td><td>1.65612e7</td><td>5.04361e7</td><td>5.04017e7</td><td>0.0</td><td>0.0</td><td>1.0</td><td>0.0</td><td>0.0</td><td>0.0</td><td>0.0</td></tr><tr><th>18</th><td>357.0</td><td>178002.0</td><td>0.0</td><td>0.0</td><td>2.24875e7</td><td>2.26655e7</td><td>0.0</td><td>0.0</td><td>0.0</td><td>1.0</td><td>0.0</td><td>0.0</td><td>0.0</td></tr><tr><th>19</th><td>303.0</td><td>2.07501e7</td><td>34596.6</td><td>0.0</td><td>2.92139e7</td><td>4.9964e7</td><td>0.0</td><td>0.0</td><td>0.0</td><td>0.0</td><td>0.0</td><td>0.0</td><td>1.0</td></tr><tr><th>20</th><td>308.0</td><td>1.40711e5</td><td>20985.0</td><td>0.0</td><td>4.39965e7</td><td>4.41372e7</td><td>0.0</td><td>0.0</td><td>0.0</td><td>1.0</td><td>0.0</td><td>0.0</td><td>0.0</td></tr><tr><th>21</th><td>307.0</td><td>102782.0</td><td>0.0</td><td>0.0</td><td>1.89146e7</td><td>1.90174e7</td><td>0.0</td><td>0.0</td><td>0.0</td><td>1.0</td><td>0.0</td><td>0.0</td><td>0.0</td></tr><tr><th>22</th><td>491.0</td><td>1.26503e6</td><td>1.26503e6</td><td>0.0</td><td>0.0</td><td>0.0</td><td>1.0</td><td>0.0</td><td>0.0</td><td>0.0</td><td>0.0</td><td>0.0</td><td>1.0</td></tr><tr><th>23</th><td>304.0</td><td>1.46191e7</td><td>0.0</td><td>0.0</td><td>3.03413e7</td><td>4.49604e7</td><td>0.0</td><td>0.0</td><td>0.0</td><td>0.0</td><td>0.0</td><td>0.0</td><td>1.0</td></tr><tr><th>24</th><td>323.0</td><td>87034.4</td><td>2.63771e6</td><td>2.72474e6</td><td>1.99828e7</td><td>1.98958e7</td><td>0.0</td><td>0.0</td><td>1.0</td><td>0.0</td><td>0.0</td><td>0.0</td><td>0.0</td></tr><tr><th>25</th><td>396.0</td><td>26359.9</td><td>1.05288e7</td><td>1.05551e7</td><td>2.2359e7</td><td>2.23327e7</td><td>0.0</td><td>0.0</td><td>1.0</td><td>0.0</td><td>0.0</td><td>0.0</td><td>0.0</td></tr><tr><th>26</th><td>161.0</td><td>1.74818e5</td><td>7.92805e5</td><td>9.67623e5</td><td>1.85517e7</td><td>1.83769e7</td><td>0.0</td><td>0.0</td><td>1.0</td><td>0.0</td><td>0.0</td><td>0.0</td><td>0.0</td></tr><tr><th>27</th><td>345.0</td><td>2.50516e5</td><td>0.0</td><td>0.0</td><td>1.86527e7</td><td>1.89032e7</td><td>0.0</td><td>0.0</td><td>0.0</td><td>1.0</td><td>0.0</td><td>0.0</td><td>0.0</td></tr><tr><th>28</th><td>380.0</td><td>2.46753e5</td><td>5.29739e6</td><td>5.54414e6</td><td>3.1439e7</td><td>3.11923e7</td><td>0.0</td><td>0.0</td><td>1.0</td><td>0.0</td><td>0.0</td><td>0.0</td><td>0.0</td></tr><tr><th>29</th><td>644.0</td><td>9.55467e5</td><td>1.29089e5</td><td>0.0</td><td>2.114e7</td><td>2.20955e7</td><td>0.0</td><td>0.0</td><td>0.0</td><td>0.0</td><td>0.0</td><td>0.0</td><td>1.0</td></tr><tr><th>30</th><td>375.0</td><td>23294.1</td><td>0.0</td><td>0.0</td><td>5.812e7</td><td>5.81433e7</td><td>0.0</td><td>0.0</td><td>0.0</td><td>1.0</td><td>0.0</td><td>0.0</td><td>0.0</td></tr><tr><th>&vellip;</th><td>&vellip;</td><td>&vellip;</td><td>&vellip;</td><td>&vellip;</td><td>&vellip;</td><td>&vellip;</td><td>&vellip;</td><td>&vellip;</td><td>&vellip;</td><td>&vellip;</td><td>&vellip;</td><td>&vellip;</td><td>&vellip;</td></tr></tbody></table>"
      ],
      "text/latex": [
       "\\begin{tabular}{r|ccccccccccccc}\n",
       "\t& step & amount & oldbalanceOrg & newbalanceOrig & oldbalanceDest & newbalanceDest & isFraud & isFlaggedFraud & CASH\\_IN & CASH\\_OUT & DEBIT & PAYMENT & TRANSFER\\\\\n",
       "\t\\hline\n",
       "\t& Float64 & Float64 & Float64 & Float64 & Float64 & Float64 & Float64 & Float64 & Float64 & Float64 & Float64 & Float64 & Float64\\\\\n",
       "\t\\hline\n",
       "\t1 & 324.0 & 3.60408e6 & 0.0 & 0.0 & 1.90715e7 & 2.26756e7 & 0.0 & 0.0 & 0.0 & 0.0 & 0.0 & 0.0 & 1.0 \\\\\n",
       "\t2 & 297.0 & 1.00385e7 & 0.0 & 0.0 & 1.48123e7 & 2.48508e7 & 0.0 & 0.0 & 0.0 & 0.0 & 0.0 & 0.0 & 1.0 \\\\\n",
       "\t3 & 164.0 & 48899.4 & 5.9452e5 & 6.43419e5 & 2.06202e7 & 2.05713e7 & 0.0 & 0.0 & 1.0 & 0.0 & 0.0 & 0.0 & 0.0 \\\\\n",
       "\t4 & 228.0 & 63463.8 & 0.0 & 0.0 & 2.04009e7 & 2.04644e7 & 0.0 & 0.0 & 0.0 & 1.0 & 0.0 & 0.0 & 0.0 \\\\\n",
       "\t5 & 372.0 & 2.16955e5 & 51689.0 & 0.0 & 3.38761e7 & 3.40931e7 & 0.0 & 0.0 & 0.0 & 1.0 & 0.0 & 0.0 & 0.0 \\\\\n",
       "\t6 & 148.0 & 3.94886e5 & 3.94886e5 & 0.0 & 0.0 & 0.0 & 1.0 & 0.0 & 0.0 & 0.0 & 0.0 & 0.0 & 1.0 \\\\\n",
       "\t7 & 397.0 & 3.43814e5 & 7.46364e6 & 7.80745e6 & 1.80353e7 & 1.76915e7 & 0.0 & 0.0 & 1.0 & 0.0 & 0.0 & 0.0 & 0.0 \\\\\n",
       "\t8 & 359.0 & 86974.3 & 2.0978e7 & 2.10649e7 & 5.56062e7 & 5.55192e7 & 0.0 & 0.0 & 1.0 & 0.0 & 0.0 & 0.0 & 0.0 \\\\\n",
       "\t9 & 371.0 & 7.98773e6 & 0.0 & 0.0 & 3.10661e7 & 3.90538e7 & 0.0 & 0.0 & 0.0 & 0.0 & 0.0 & 0.0 & 1.0 \\\\\n",
       "\t10 & 304.0 & 4.73295e5 & 3.36654e6 & 3.83984e6 & 1.81947e7 & 1.77214e7 & 0.0 & 0.0 & 1.0 & 0.0 & 0.0 & 0.0 & 0.0 \\\\\n",
       "\t11 & 569.0 & 1.77991e5 & 0.0 & 0.0 & 1.78874e7 & 1.80654e7 & 0.0 & 0.0 & 0.0 & 0.0 & 0.0 & 0.0 & 1.0 \\\\\n",
       "\t12 & 43.0 & 6305.71 & 5.13931e5 & 5.20237e5 & 1.88137e7 & 1.88012e7 & 0.0 & 0.0 & 1.0 & 0.0 & 0.0 & 0.0 & 0.0 \\\\\n",
       "\t13 & 524.0 & 91911.4 & 0.0 & 0.0 & 4.53971e7 & 4.5489e7 & 0.0 & 0.0 & 0.0 & 1.0 & 0.0 & 0.0 & 0.0 \\\\\n",
       "\t14 & 308.0 & 3.42536e5 & 2.53545e5 & 5.96081e5 & 2.94772e7 & 2.91347e7 & 0.0 & 0.0 & 1.0 & 0.0 & 0.0 & 0.0 & 0.0 \\\\\n",
       "\t15 & 304.0 & 1.0e7 & 0.0 & 0.0 & 1.06027e7 & 3.05019e7 & 0.0 & 0.0 & 0.0 & 0.0 & 0.0 & 0.0 & 1.0 \\\\\n",
       "\t16 & 522.0 & 1.78131e5 & 1.65483e7 & 1.67264e7 & 2.18782e7 & 2.17e7 & 0.0 & 0.0 & 1.0 & 0.0 & 0.0 & 0.0 & 0.0 \\\\\n",
       "\t17 & 402.0 & 34473.5 & 1.65267e7 & 1.65612e7 & 5.04361e7 & 5.04017e7 & 0.0 & 0.0 & 1.0 & 0.0 & 0.0 & 0.0 & 0.0 \\\\\n",
       "\t18 & 357.0 & 178002.0 & 0.0 & 0.0 & 2.24875e7 & 2.26655e7 & 0.0 & 0.0 & 0.0 & 1.0 & 0.0 & 0.0 & 0.0 \\\\\n",
       "\t19 & 303.0 & 2.07501e7 & 34596.6 & 0.0 & 2.92139e7 & 4.9964e7 & 0.0 & 0.0 & 0.0 & 0.0 & 0.0 & 0.0 & 1.0 \\\\\n",
       "\t20 & 308.0 & 1.40711e5 & 20985.0 & 0.0 & 4.39965e7 & 4.41372e7 & 0.0 & 0.0 & 0.0 & 1.0 & 0.0 & 0.0 & 0.0 \\\\\n",
       "\t21 & 307.0 & 102782.0 & 0.0 & 0.0 & 1.89146e7 & 1.90174e7 & 0.0 & 0.0 & 0.0 & 1.0 & 0.0 & 0.0 & 0.0 \\\\\n",
       "\t22 & 491.0 & 1.26503e6 & 1.26503e6 & 0.0 & 0.0 & 0.0 & 1.0 & 0.0 & 0.0 & 0.0 & 0.0 & 0.0 & 1.0 \\\\\n",
       "\t23 & 304.0 & 1.46191e7 & 0.0 & 0.0 & 3.03413e7 & 4.49604e7 & 0.0 & 0.0 & 0.0 & 0.0 & 0.0 & 0.0 & 1.0 \\\\\n",
       "\t24 & 323.0 & 87034.4 & 2.63771e6 & 2.72474e6 & 1.99828e7 & 1.98958e7 & 0.0 & 0.0 & 1.0 & 0.0 & 0.0 & 0.0 & 0.0 \\\\\n",
       "\t25 & 396.0 & 26359.9 & 1.05288e7 & 1.05551e7 & 2.2359e7 & 2.23327e7 & 0.0 & 0.0 & 1.0 & 0.0 & 0.0 & 0.0 & 0.0 \\\\\n",
       "\t26 & 161.0 & 1.74818e5 & 7.92805e5 & 9.67623e5 & 1.85517e7 & 1.83769e7 & 0.0 & 0.0 & 1.0 & 0.0 & 0.0 & 0.0 & 0.0 \\\\\n",
       "\t27 & 345.0 & 2.50516e5 & 0.0 & 0.0 & 1.86527e7 & 1.89032e7 & 0.0 & 0.0 & 0.0 & 1.0 & 0.0 & 0.0 & 0.0 \\\\\n",
       "\t28 & 380.0 & 2.46753e5 & 5.29739e6 & 5.54414e6 & 3.1439e7 & 3.11923e7 & 0.0 & 0.0 & 1.0 & 0.0 & 0.0 & 0.0 & 0.0 \\\\\n",
       "\t29 & 644.0 & 9.55467e5 & 1.29089e5 & 0.0 & 2.114e7 & 2.20955e7 & 0.0 & 0.0 & 0.0 & 0.0 & 0.0 & 0.0 & 1.0 \\\\\n",
       "\t30 & 375.0 & 23294.1 & 0.0 & 0.0 & 5.812e7 & 5.81433e7 & 0.0 & 0.0 & 0.0 & 1.0 & 0.0 & 0.0 & 0.0 \\\\\n",
       "\t$\\dots$ & $\\dots$ & $\\dots$ & $\\dots$ & $\\dots$ & $\\dots$ & $\\dots$ & $\\dots$ & $\\dots$ & $\\dots$ & $\\dots$ & $\\dots$ & $\\dots$ & $\\dots$ \\\\\n",
       "\\end{tabular}\n"
      ],
      "text/plain": [
       "8213×13 DataFrame. Omitted printing of 8 columns\n",
       "│ Row  │ step    │ amount    │ oldbalanceOrg │ newbalanceOrig │ oldbalanceDest │\n",
       "│      │ \u001b[90mFloat64\u001b[39m │ \u001b[90mFloat64\u001b[39m   │ \u001b[90mFloat64\u001b[39m       │ \u001b[90mFloat64\u001b[39m        │ \u001b[90mFloat64\u001b[39m        │\n",
       "├──────┼─────────┼───────────┼───────────────┼────────────────┼────────────────┤\n",
       "│ 1    │ 324.0   │ 3.60408e6 │ 0.0           │ 0.0            │ 1.90715e7      │\n",
       "│ 2    │ 297.0   │ 1.00385e7 │ 0.0           │ 0.0            │ 1.48123e7      │\n",
       "│ 3    │ 164.0   │ 48899.4   │ 5.9452e5      │ 6.43419e5      │ 2.06202e7      │\n",
       "│ 4    │ 228.0   │ 63463.8   │ 0.0           │ 0.0            │ 2.04009e7      │\n",
       "│ 5    │ 372.0   │ 2.16955e5 │ 51689.0       │ 0.0            │ 3.38761e7      │\n",
       "│ 6    │ 148.0   │ 3.94886e5 │ 3.94886e5     │ 0.0            │ 0.0            │\n",
       "│ 7    │ 397.0   │ 3.43814e5 │ 7.46364e6     │ 7.80745e6      │ 1.80353e7      │\n",
       "│ 8    │ 359.0   │ 86974.3   │ 2.0978e7      │ 2.10649e7      │ 5.56062e7      │\n",
       "│ 9    │ 371.0   │ 7.98773e6 │ 0.0           │ 0.0            │ 3.10661e7      │\n",
       "│ 10   │ 304.0   │ 4.73295e5 │ 3.36654e6     │ 3.83984e6      │ 1.81947e7      │\n",
       "⋮\n",
       "│ 8203 │ 554.0   │ 9.42186e6 │ 9.42186e6     │ 0.0            │ 0.0            │\n",
       "│ 8204 │ 304.0   │ 1.39968e7 │ 0.0           │ 0.0            │ 3.28976e7      │\n",
       "│ 8205 │ 394.0   │ 5.49504e5 │ 0.0           │ 0.0            │ 2.16882e7      │\n",
       "│ 8206 │ 354.0   │ 2.08688e5 │ 0.0           │ 0.0            │ 2.00974e7      │\n",
       "│ 8207 │ 408.0   │ 5.6711e6  │ 0.0           │ 0.0            │ 1.57094e7      │\n",
       "│ 8208 │ 304.0   │ 7.7123e5  │ 0.0           │ 0.0            │ 2.04101e7      │\n",
       "│ 8209 │ 666.0   │ 1.45945e5 │ 1.45945e5     │ 0.0            │ 0.0            │\n",
       "│ 8210 │ 211.0   │ 9.66964e5 │ 0.0           │ 0.0            │ 2.24609e7      │\n",
       "│ 8211 │ 327.0   │ 2.84791e6 │ 0.0           │ 0.0            │ 1.70201e7      │\n",
       "│ 8212 │ 205.0   │ 1.50015e5 │ 0.0           │ 0.0            │ 3.12374e7      │\n",
       "│ 8213 │ 600.0   │ 5.40155e5 │ 5.40155e5     │ 0.0            │ 5.33833e5      │"
      ]
     },
     "execution_count": 42,
     "metadata": {},
     "output_type": "execute_result"
    }
   ],
   "source": [
    "# sample for test\n",
    "sample1_c4_test = PrepareSampledDataset(c4, min_tests, majority_sample_test)"
   ]
  },
  {
   "cell_type": "markdown",
   "metadata": {},
   "source": [
    "## Writing all the created samples for train and test as csv using CSV.write function "
   ]
  },
  {
   "cell_type": "code",
   "execution_count": 43,
   "metadata": {},
   "outputs": [
    {
     "data": {
      "text/plain": [
       "\"sample2_c3.csv\""
      ]
     },
     "execution_count": 43,
     "metadata": {},
     "output_type": "execute_result"
    }
   ],
   "source": [
    "CSV.write(\"sample1_c1.csv\", sample1_c1)\n",
    "CSV.write(\"sample2_c1.csv\", sample2_c1)\n",
    "CSV.write(\"sample3_c1.csv\", sample3_c1)\n",
    "\n",
    "CSV.write(\"sample1_c2.csv\", sample1_c2)\n",
    "CSV.write(\"sample2_c2.csv\", sample2_c2)\n",
    "\n",
    "CSV.write(\"sample1_c3.csv\", sample1_c3)\n",
    "CSV.write(\"sample2_c3.csv\", sample2_c3)"
   ]
  },
  {
   "cell_type": "code",
   "execution_count": 44,
   "metadata": {},
   "outputs": [
    {
     "data": {
      "text/plain": [
       "\"sample1_c4_test.csv\""
      ]
     },
     "execution_count": 44,
     "metadata": {},
     "output_type": "execute_result"
    }
   ],
   "source": [
    "CSV.write(\"sample1_c4_test.csv\", sample1_c4_test)"
   ]
  },
  {
   "cell_type": "code",
   "execution_count": null,
   "metadata": {},
   "outputs": [],
   "source": []
  },
  {
   "cell_type": "markdown",
   "metadata": {},
   "source": [
    "# ScikitLearn\n",
    "#### ScikitLearn.jl provides a uniform interface for training and using models, as well as a set of tools for chaining (pipelines), evaluating, and tuning model hyperparameters.\n",
    "\n",
    "To install ScikitLearn.jl, type ]add ScikitLearn at the REPL.\n",
    "\n",
    "To import Python models (optional), ScikitLearn.jl requires the scikit-learn Python library, which will be installed automatically when needed. Most of the examples use PyPlot.jl\n"
   ]
  },
  {
   "cell_type": "code",
   "execution_count": 45,
   "metadata": {},
   "outputs": [
    {
     "name": "stderr",
     "output_type": "stream",
     "text": [
      "┌ Info: Installing Julia nodeps kernelspec in /home/tarik/.local/share/jupyter/kernels/julia-nodeps-1.1\n",
      "└ @ IJulia /home/tarik/.julia/packages/IJulia/4UizY/deps/kspec.jl:72\n"
     ]
    },
    {
     "data": {
      "text/plain": [
       "\"/home/tarik/.local/share/jupyter/kernels/julia-nodeps-1.1\""
      ]
     },
     "execution_count": 45,
     "metadata": {},
     "output_type": "execute_result"
    }
   ],
   "source": [
    "IJulia.installkernel(\"Julia nodeps\", \"--depwarn=no\")\n"
   ]
  },
  {
   "cell_type": "code",
   "execution_count": 46,
   "metadata": {
    "scrolled": true
   },
   "outputs": [
    {
     "name": "stderr",
     "output_type": "stream",
     "text": [
      "┌ Info: Recompiling stale cache file /home/tarik/.julia/compiled/v1.1/ScikitLearn/tbUuI.ji for ScikitLearn [3646fa90-6ef7-5e7e-9f22-8aca16db6324]\n",
      "└ @ Base loading.jl:1184\n",
      "┌ Warning: `getindex(o::PyObject, s::Symbol)` is deprecated in favor of dot overloading (`getproperty`) so elements should now be accessed as e.g. `o.s` instead of `o[:s]`.\n",
      "│   caller = import_sklearn() at Skcore.jl:120\n",
      "└ @ ScikitLearn.Skcore /home/tarik/.julia/packages/ScikitLearn/HK6Vs/src/Skcore.jl:120\n",
      "┌ Warning: `getindex(o::PyObject, s::Symbol)` is deprecated in favor of dot overloading (`getproperty`) so elements should now be accessed as e.g. `o.s` instead of `o[:s]`.\n",
      "│   caller = top-level scope at Skcore.jl:158\n",
      "└ @ Core /home/tarik/.julia/packages/ScikitLearn/HK6Vs/src/Skcore.jl:158\n",
      "┌ Warning: `getindex(o::PyObject, s::Symbol)` is deprecated in favor of dot overloading (`getproperty`) so elements should now be accessed as e.g. `o.s` instead of `o[:s]`.\n",
      "│   caller = top-level scope at Skcore.jl:158\n",
      "└ @ Core /home/tarik/.julia/packages/ScikitLearn/HK6Vs/src/Skcore.jl:158\n",
      "┌ Warning: `getindex(o::PyObject, s::Symbol)` is deprecated in favor of dot overloading (`getproperty`) so elements should now be accessed as e.g. `o.s` instead of `o[:s]`.\n",
      "│   caller = top-level scope at Skcore.jl:158\n",
      "└ @ Core /home/tarik/.julia/packages/ScikitLearn/HK6Vs/src/Skcore.jl:158\n",
      "┌ Warning: `getindex(o::PyObject, s::Symbol)` is deprecated in favor of dot overloading (`getproperty`) so elements should now be accessed as e.g. `o.s` instead of `o[:s]`.\n",
      "│   caller = top-level scope at Skcore.jl:158\n",
      "└ @ Core /home/tarik/.julia/packages/ScikitLearn/HK6Vs/src/Skcore.jl:158\n",
      "┌ Warning: `getindex(o::PyObject, s::Symbol)` is deprecated in favor of dot overloading (`getproperty`) so elements should now be accessed as e.g. `o.s` instead of `o[:s]`.\n",
      "│   caller = top-level scope at Skcore.jl:158\n",
      "└ @ Core /home/tarik/.julia/packages/ScikitLearn/HK6Vs/src/Skcore.jl:158\n",
      "┌ Warning: `getindex(o::PyObject, s::Symbol)` is deprecated in favor of dot overloading (`getproperty`) so elements should now be accessed as e.g. `o.s` instead of `o[:s]`.\n",
      "│   caller = top-level scope at Skcore.jl:158\n",
      "└ @ Core /home/tarik/.julia/packages/ScikitLearn/HK6Vs/src/Skcore.jl:158\n",
      "┌ Warning: `getindex(o::PyObject, s::Symbol)` is deprecated in favor of dot overloading (`getproperty`) so elements should now be accessed as e.g. `o.s` instead of `o[:s]`.\n",
      "│   caller = top-level scope at Skcore.jl:158\n",
      "└ @ Core /home/tarik/.julia/packages/ScikitLearn/HK6Vs/src/Skcore.jl:158\n"
     ]
    },
    {
     "data": {
      "text/plain": [
       "PyObject <function recall_score at 0x7fb3bde23840>"
      ]
     },
     "execution_count": 46,
     "metadata": {},
     "output_type": "execute_result"
    }
   ],
   "source": [
    " using ScikitLearn: fit!, predict, @sk_import, fit_transform! \n",
    " import ScikitLearn: CrossValidation \n",
    " @sk_import metrics: accuracy_score \n",
    " @sk_import ensemble: RandomForestClassifier \n",
    " @sk_import metrics: (confusion_matrix, f1_score, classification_report, precision_score, recall_score)\n"
   ]
  },
  {
   "cell_type": "markdown",
   "metadata": {},
   "source": [
    "# Import the train and test sample "
   ]
  },
  {
   "cell_type": "code",
   "execution_count": 47,
   "metadata": {
    "scrolled": false
   },
   "outputs": [
    {
     "data": {
      "text/html": [
       "<table class=\"data-frame\"><thead><tr><th></th><th>step</th><th>amount</th><th>oldbalanceOrg</th><th>newbalanceOrig</th><th>oldbalanceDest</th><th>newbalanceDest</th><th>isFraud</th><th>isFlaggedFraud</th><th>CASH_IN</th><th>CASH_OUT</th><th>DEBIT</th><th>PAYMENT</th><th>TRANSFER</th></tr><tr><th></th><th>Float64⍰</th><th>Float64⍰</th><th>Float64⍰</th><th>Float64⍰</th><th>Float64⍰</th><th>Float64⍰</th><th>Float64⍰</th><th>Float64⍰</th><th>Float64⍰</th><th>Float64⍰</th><th>Float64⍰</th><th>Float64⍰</th><th>Float64⍰</th></tr></thead><tbody><p>8,213 rows × 13 columns</p><tr><th>1</th><td>324.0</td><td>3.60408e6</td><td>0.0</td><td>0.0</td><td>1.90715e7</td><td>2.26756e7</td><td>0.0</td><td>0.0</td><td>0.0</td><td>0.0</td><td>0.0</td><td>0.0</td><td>1.0</td></tr><tr><th>2</th><td>297.0</td><td>1.00385e7</td><td>0.0</td><td>0.0</td><td>1.48123e7</td><td>2.48508e7</td><td>0.0</td><td>0.0</td><td>0.0</td><td>0.0</td><td>0.0</td><td>0.0</td><td>1.0</td></tr><tr><th>3</th><td>164.0</td><td>48899.4</td><td>5.9452e5</td><td>6.43419e5</td><td>2.06202e7</td><td>2.05713e7</td><td>0.0</td><td>0.0</td><td>1.0</td><td>0.0</td><td>0.0</td><td>0.0</td><td>0.0</td></tr><tr><th>4</th><td>228.0</td><td>63463.8</td><td>0.0</td><td>0.0</td><td>2.04009e7</td><td>2.04644e7</td><td>0.0</td><td>0.0</td><td>0.0</td><td>1.0</td><td>0.0</td><td>0.0</td><td>0.0</td></tr><tr><th>5</th><td>372.0</td><td>2.16955e5</td><td>51689.0</td><td>0.0</td><td>3.38761e7</td><td>3.40931e7</td><td>0.0</td><td>0.0</td><td>0.0</td><td>1.0</td><td>0.0</td><td>0.0</td><td>0.0</td></tr><tr><th>6</th><td>148.0</td><td>3.94886e5</td><td>3.94886e5</td><td>0.0</td><td>0.0</td><td>0.0</td><td>1.0</td><td>0.0</td><td>0.0</td><td>0.0</td><td>0.0</td><td>0.0</td><td>1.0</td></tr><tr><th>7</th><td>397.0</td><td>3.43814e5</td><td>7.46364e6</td><td>7.80745e6</td><td>1.80353e7</td><td>1.76915e7</td><td>0.0</td><td>0.0</td><td>1.0</td><td>0.0</td><td>0.0</td><td>0.0</td><td>0.0</td></tr><tr><th>8</th><td>359.0</td><td>86974.3</td><td>2.0978e7</td><td>2.10649e7</td><td>5.56062e7</td><td>5.55192e7</td><td>0.0</td><td>0.0</td><td>1.0</td><td>0.0</td><td>0.0</td><td>0.0</td><td>0.0</td></tr><tr><th>9</th><td>371.0</td><td>7.98773e6</td><td>0.0</td><td>0.0</td><td>3.10661e7</td><td>3.90538e7</td><td>0.0</td><td>0.0</td><td>0.0</td><td>0.0</td><td>0.0</td><td>0.0</td><td>1.0</td></tr><tr><th>10</th><td>304.0</td><td>4.73295e5</td><td>3.36654e6</td><td>3.83984e6</td><td>1.81947e7</td><td>1.77214e7</td><td>0.0</td><td>0.0</td><td>1.0</td><td>0.0</td><td>0.0</td><td>0.0</td><td>0.0</td></tr><tr><th>11</th><td>569.0</td><td>1.77991e5</td><td>0.0</td><td>0.0</td><td>1.78874e7</td><td>1.80654e7</td><td>0.0</td><td>0.0</td><td>0.0</td><td>0.0</td><td>0.0</td><td>0.0</td><td>1.0</td></tr><tr><th>12</th><td>43.0</td><td>6305.71</td><td>5.13931e5</td><td>5.20237e5</td><td>1.88137e7</td><td>1.88012e7</td><td>0.0</td><td>0.0</td><td>1.0</td><td>0.0</td><td>0.0</td><td>0.0</td><td>0.0</td></tr><tr><th>13</th><td>524.0</td><td>91911.4</td><td>0.0</td><td>0.0</td><td>4.53971e7</td><td>4.5489e7</td><td>0.0</td><td>0.0</td><td>0.0</td><td>1.0</td><td>0.0</td><td>0.0</td><td>0.0</td></tr><tr><th>14</th><td>308.0</td><td>3.42536e5</td><td>2.53545e5</td><td>5.96081e5</td><td>2.94772e7</td><td>2.91347e7</td><td>0.0</td><td>0.0</td><td>1.0</td><td>0.0</td><td>0.0</td><td>0.0</td><td>0.0</td></tr><tr><th>15</th><td>304.0</td><td>1.0e7</td><td>0.0</td><td>0.0</td><td>1.06027e7</td><td>3.05019e7</td><td>0.0</td><td>0.0</td><td>0.0</td><td>0.0</td><td>0.0</td><td>0.0</td><td>1.0</td></tr><tr><th>16</th><td>522.0</td><td>1.78131e5</td><td>1.65483e7</td><td>1.67264e7</td><td>2.18782e7</td><td>2.17e7</td><td>0.0</td><td>0.0</td><td>1.0</td><td>0.0</td><td>0.0</td><td>0.0</td><td>0.0</td></tr><tr><th>17</th><td>402.0</td><td>34473.5</td><td>1.65267e7</td><td>1.65612e7</td><td>5.04361e7</td><td>5.04017e7</td><td>0.0</td><td>0.0</td><td>1.0</td><td>0.0</td><td>0.0</td><td>0.0</td><td>0.0</td></tr><tr><th>18</th><td>357.0</td><td>178002.0</td><td>0.0</td><td>0.0</td><td>2.24875e7</td><td>2.26655e7</td><td>0.0</td><td>0.0</td><td>0.0</td><td>1.0</td><td>0.0</td><td>0.0</td><td>0.0</td></tr><tr><th>19</th><td>303.0</td><td>2.07501e7</td><td>34596.6</td><td>0.0</td><td>2.92139e7</td><td>4.9964e7</td><td>0.0</td><td>0.0</td><td>0.0</td><td>0.0</td><td>0.0</td><td>0.0</td><td>1.0</td></tr><tr><th>20</th><td>308.0</td><td>1.40711e5</td><td>20985.0</td><td>0.0</td><td>4.39965e7</td><td>4.41372e7</td><td>0.0</td><td>0.0</td><td>0.0</td><td>1.0</td><td>0.0</td><td>0.0</td><td>0.0</td></tr><tr><th>21</th><td>307.0</td><td>102782.0</td><td>0.0</td><td>0.0</td><td>1.89146e7</td><td>1.90174e7</td><td>0.0</td><td>0.0</td><td>0.0</td><td>1.0</td><td>0.0</td><td>0.0</td><td>0.0</td></tr><tr><th>22</th><td>491.0</td><td>1.26503e6</td><td>1.26503e6</td><td>0.0</td><td>0.0</td><td>0.0</td><td>1.0</td><td>0.0</td><td>0.0</td><td>0.0</td><td>0.0</td><td>0.0</td><td>1.0</td></tr><tr><th>23</th><td>304.0</td><td>1.46191e7</td><td>0.0</td><td>0.0</td><td>3.03413e7</td><td>4.49604e7</td><td>0.0</td><td>0.0</td><td>0.0</td><td>0.0</td><td>0.0</td><td>0.0</td><td>1.0</td></tr><tr><th>24</th><td>323.0</td><td>87034.4</td><td>2.63771e6</td><td>2.72474e6</td><td>1.99828e7</td><td>1.98958e7</td><td>0.0</td><td>0.0</td><td>1.0</td><td>0.0</td><td>0.0</td><td>0.0</td><td>0.0</td></tr><tr><th>25</th><td>396.0</td><td>26359.9</td><td>1.05288e7</td><td>1.05551e7</td><td>2.2359e7</td><td>2.23327e7</td><td>0.0</td><td>0.0</td><td>1.0</td><td>0.0</td><td>0.0</td><td>0.0</td><td>0.0</td></tr><tr><th>26</th><td>161.0</td><td>1.74818e5</td><td>7.92805e5</td><td>9.67623e5</td><td>1.85517e7</td><td>1.83769e7</td><td>0.0</td><td>0.0</td><td>1.0</td><td>0.0</td><td>0.0</td><td>0.0</td><td>0.0</td></tr><tr><th>27</th><td>345.0</td><td>2.50516e5</td><td>0.0</td><td>0.0</td><td>1.86527e7</td><td>1.89032e7</td><td>0.0</td><td>0.0</td><td>0.0</td><td>1.0</td><td>0.0</td><td>0.0</td><td>0.0</td></tr><tr><th>28</th><td>380.0</td><td>2.46753e5</td><td>5.29739e6</td><td>5.54414e6</td><td>3.1439e7</td><td>3.11923e7</td><td>0.0</td><td>0.0</td><td>1.0</td><td>0.0</td><td>0.0</td><td>0.0</td><td>0.0</td></tr><tr><th>29</th><td>644.0</td><td>9.55467e5</td><td>1.29089e5</td><td>0.0</td><td>2.114e7</td><td>2.20955e7</td><td>0.0</td><td>0.0</td><td>0.0</td><td>0.0</td><td>0.0</td><td>0.0</td><td>1.0</td></tr><tr><th>30</th><td>375.0</td><td>23294.1</td><td>0.0</td><td>0.0</td><td>5.812e7</td><td>5.81433e7</td><td>0.0</td><td>0.0</td><td>0.0</td><td>1.0</td><td>0.0</td><td>0.0</td><td>0.0</td></tr><tr><th>&vellip;</th><td>&vellip;</td><td>&vellip;</td><td>&vellip;</td><td>&vellip;</td><td>&vellip;</td><td>&vellip;</td><td>&vellip;</td><td>&vellip;</td><td>&vellip;</td><td>&vellip;</td><td>&vellip;</td><td>&vellip;</td><td>&vellip;</td></tr></tbody></table>"
      ],
      "text/latex": [
       "\\begin{tabular}{r|ccccccccccccc}\n",
       "\t& step & amount & oldbalanceOrg & newbalanceOrig & oldbalanceDest & newbalanceDest & isFraud & isFlaggedFraud & CASH\\_IN & CASH\\_OUT & DEBIT & PAYMENT & TRANSFER\\\\\n",
       "\t\\hline\n",
       "\t& Float64⍰ & Float64⍰ & Float64⍰ & Float64⍰ & Float64⍰ & Float64⍰ & Float64⍰ & Float64⍰ & Float64⍰ & Float64⍰ & Float64⍰ & Float64⍰ & Float64⍰\\\\\n",
       "\t\\hline\n",
       "\t1 & 324.0 & 3.60408e6 & 0.0 & 0.0 & 1.90715e7 & 2.26756e7 & 0.0 & 0.0 & 0.0 & 0.0 & 0.0 & 0.0 & 1.0 \\\\\n",
       "\t2 & 297.0 & 1.00385e7 & 0.0 & 0.0 & 1.48123e7 & 2.48508e7 & 0.0 & 0.0 & 0.0 & 0.0 & 0.0 & 0.0 & 1.0 \\\\\n",
       "\t3 & 164.0 & 48899.4 & 5.9452e5 & 6.43419e5 & 2.06202e7 & 2.05713e7 & 0.0 & 0.0 & 1.0 & 0.0 & 0.0 & 0.0 & 0.0 \\\\\n",
       "\t4 & 228.0 & 63463.8 & 0.0 & 0.0 & 2.04009e7 & 2.04644e7 & 0.0 & 0.0 & 0.0 & 1.0 & 0.0 & 0.0 & 0.0 \\\\\n",
       "\t5 & 372.0 & 2.16955e5 & 51689.0 & 0.0 & 3.38761e7 & 3.40931e7 & 0.0 & 0.0 & 0.0 & 1.0 & 0.0 & 0.0 & 0.0 \\\\\n",
       "\t6 & 148.0 & 3.94886e5 & 3.94886e5 & 0.0 & 0.0 & 0.0 & 1.0 & 0.0 & 0.0 & 0.0 & 0.0 & 0.0 & 1.0 \\\\\n",
       "\t7 & 397.0 & 3.43814e5 & 7.46364e6 & 7.80745e6 & 1.80353e7 & 1.76915e7 & 0.0 & 0.0 & 1.0 & 0.0 & 0.0 & 0.0 & 0.0 \\\\\n",
       "\t8 & 359.0 & 86974.3 & 2.0978e7 & 2.10649e7 & 5.56062e7 & 5.55192e7 & 0.0 & 0.0 & 1.0 & 0.0 & 0.0 & 0.0 & 0.0 \\\\\n",
       "\t9 & 371.0 & 7.98773e6 & 0.0 & 0.0 & 3.10661e7 & 3.90538e7 & 0.0 & 0.0 & 0.0 & 0.0 & 0.0 & 0.0 & 1.0 \\\\\n",
       "\t10 & 304.0 & 4.73295e5 & 3.36654e6 & 3.83984e6 & 1.81947e7 & 1.77214e7 & 0.0 & 0.0 & 1.0 & 0.0 & 0.0 & 0.0 & 0.0 \\\\\n",
       "\t11 & 569.0 & 1.77991e5 & 0.0 & 0.0 & 1.78874e7 & 1.80654e7 & 0.0 & 0.0 & 0.0 & 0.0 & 0.0 & 0.0 & 1.0 \\\\\n",
       "\t12 & 43.0 & 6305.71 & 5.13931e5 & 5.20237e5 & 1.88137e7 & 1.88012e7 & 0.0 & 0.0 & 1.0 & 0.0 & 0.0 & 0.0 & 0.0 \\\\\n",
       "\t13 & 524.0 & 91911.4 & 0.0 & 0.0 & 4.53971e7 & 4.5489e7 & 0.0 & 0.0 & 0.0 & 1.0 & 0.0 & 0.0 & 0.0 \\\\\n",
       "\t14 & 308.0 & 3.42536e5 & 2.53545e5 & 5.96081e5 & 2.94772e7 & 2.91347e7 & 0.0 & 0.0 & 1.0 & 0.0 & 0.0 & 0.0 & 0.0 \\\\\n",
       "\t15 & 304.0 & 1.0e7 & 0.0 & 0.0 & 1.06027e7 & 3.05019e7 & 0.0 & 0.0 & 0.0 & 0.0 & 0.0 & 0.0 & 1.0 \\\\\n",
       "\t16 & 522.0 & 1.78131e5 & 1.65483e7 & 1.67264e7 & 2.18782e7 & 2.17e7 & 0.0 & 0.0 & 1.0 & 0.0 & 0.0 & 0.0 & 0.0 \\\\\n",
       "\t17 & 402.0 & 34473.5 & 1.65267e7 & 1.65612e7 & 5.04361e7 & 5.04017e7 & 0.0 & 0.0 & 1.0 & 0.0 & 0.0 & 0.0 & 0.0 \\\\\n",
       "\t18 & 357.0 & 178002.0 & 0.0 & 0.0 & 2.24875e7 & 2.26655e7 & 0.0 & 0.0 & 0.0 & 1.0 & 0.0 & 0.0 & 0.0 \\\\\n",
       "\t19 & 303.0 & 2.07501e7 & 34596.6 & 0.0 & 2.92139e7 & 4.9964e7 & 0.0 & 0.0 & 0.0 & 0.0 & 0.0 & 0.0 & 1.0 \\\\\n",
       "\t20 & 308.0 & 1.40711e5 & 20985.0 & 0.0 & 4.39965e7 & 4.41372e7 & 0.0 & 0.0 & 0.0 & 1.0 & 0.0 & 0.0 & 0.0 \\\\\n",
       "\t21 & 307.0 & 102782.0 & 0.0 & 0.0 & 1.89146e7 & 1.90174e7 & 0.0 & 0.0 & 0.0 & 1.0 & 0.0 & 0.0 & 0.0 \\\\\n",
       "\t22 & 491.0 & 1.26503e6 & 1.26503e6 & 0.0 & 0.0 & 0.0 & 1.0 & 0.0 & 0.0 & 0.0 & 0.0 & 0.0 & 1.0 \\\\\n",
       "\t23 & 304.0 & 1.46191e7 & 0.0 & 0.0 & 3.03413e7 & 4.49604e7 & 0.0 & 0.0 & 0.0 & 0.0 & 0.0 & 0.0 & 1.0 \\\\\n",
       "\t24 & 323.0 & 87034.4 & 2.63771e6 & 2.72474e6 & 1.99828e7 & 1.98958e7 & 0.0 & 0.0 & 1.0 & 0.0 & 0.0 & 0.0 & 0.0 \\\\\n",
       "\t25 & 396.0 & 26359.9 & 1.05288e7 & 1.05551e7 & 2.2359e7 & 2.23327e7 & 0.0 & 0.0 & 1.0 & 0.0 & 0.0 & 0.0 & 0.0 \\\\\n",
       "\t26 & 161.0 & 1.74818e5 & 7.92805e5 & 9.67623e5 & 1.85517e7 & 1.83769e7 & 0.0 & 0.0 & 1.0 & 0.0 & 0.0 & 0.0 & 0.0 \\\\\n",
       "\t27 & 345.0 & 2.50516e5 & 0.0 & 0.0 & 1.86527e7 & 1.89032e7 & 0.0 & 0.0 & 0.0 & 1.0 & 0.0 & 0.0 & 0.0 \\\\\n",
       "\t28 & 380.0 & 2.46753e5 & 5.29739e6 & 5.54414e6 & 3.1439e7 & 3.11923e7 & 0.0 & 0.0 & 1.0 & 0.0 & 0.0 & 0.0 & 0.0 \\\\\n",
       "\t29 & 644.0 & 9.55467e5 & 1.29089e5 & 0.0 & 2.114e7 & 2.20955e7 & 0.0 & 0.0 & 0.0 & 0.0 & 0.0 & 0.0 & 1.0 \\\\\n",
       "\t30 & 375.0 & 23294.1 & 0.0 & 0.0 & 5.812e7 & 5.81433e7 & 0.0 & 0.0 & 0.0 & 1.0 & 0.0 & 0.0 & 0.0 \\\\\n",
       "\t$\\dots$ & $\\dots$ & $\\dots$ & $\\dots$ & $\\dots$ & $\\dots$ & $\\dots$ & $\\dots$ & $\\dots$ & $\\dots$ & $\\dots$ & $\\dots$ & $\\dots$ & $\\dots$ \\\\\n",
       "\\end{tabular}\n"
      ],
      "text/plain": [
       "8213×13 DataFrame. Omitted printing of 9 columns\n",
       "│ Row  │ step     │ amount    │ oldbalanceOrg │ newbalanceOrig │\n",
       "│      │ \u001b[90mFloat64⍰\u001b[39m │ \u001b[90mFloat64⍰\u001b[39m  │ \u001b[90mFloat64⍰\u001b[39m      │ \u001b[90mFloat64⍰\u001b[39m       │\n",
       "├──────┼──────────┼───────────┼───────────────┼────────────────┤\n",
       "│ 1    │ 324.0    │ 3.60408e6 │ 0.0           │ 0.0            │\n",
       "│ 2    │ 297.0    │ 1.00385e7 │ 0.0           │ 0.0            │\n",
       "│ 3    │ 164.0    │ 48899.4   │ 5.9452e5      │ 6.43419e5      │\n",
       "│ 4    │ 228.0    │ 63463.8   │ 0.0           │ 0.0            │\n",
       "│ 5    │ 372.0    │ 2.16955e5 │ 51689.0       │ 0.0            │\n",
       "│ 6    │ 148.0    │ 3.94886e5 │ 3.94886e5     │ 0.0            │\n",
       "│ 7    │ 397.0    │ 3.43814e5 │ 7.46364e6     │ 7.80745e6      │\n",
       "│ 8    │ 359.0    │ 86974.3   │ 2.0978e7      │ 2.10649e7      │\n",
       "│ 9    │ 371.0    │ 7.98773e6 │ 0.0           │ 0.0            │\n",
       "│ 10   │ 304.0    │ 4.73295e5 │ 3.36654e6     │ 3.83984e6      │\n",
       "⋮\n",
       "│ 8203 │ 554.0    │ 9.42186e6 │ 9.42186e6     │ 0.0            │\n",
       "│ 8204 │ 304.0    │ 1.39968e7 │ 0.0           │ 0.0            │\n",
       "│ 8205 │ 394.0    │ 5.49504e5 │ 0.0           │ 0.0            │\n",
       "│ 8206 │ 354.0    │ 2.08688e5 │ 0.0           │ 0.0            │\n",
       "│ 8207 │ 408.0    │ 5.6711e6  │ 0.0           │ 0.0            │\n",
       "│ 8208 │ 304.0    │ 7.7123e5  │ 0.0           │ 0.0            │\n",
       "│ 8209 │ 666.0    │ 1.45945e5 │ 1.45945e5     │ 0.0            │\n",
       "│ 8210 │ 211.0    │ 9.66964e5 │ 0.0           │ 0.0            │\n",
       "│ 8211 │ 327.0    │ 2.84791e6 │ 0.0           │ 0.0            │\n",
       "│ 8212 │ 205.0    │ 1.50015e5 │ 0.0           │ 0.0            │\n",
       "│ 8213 │ 600.0    │ 5.40155e5 │ 5.40155e5     │ 0.0            │"
      ]
     },
     "execution_count": 47,
     "metadata": {},
     "output_type": "execute_result"
    }
   ],
   "source": [
    "sample1_c1 = CSV.read(\"sample1_c1.csv\")\n",
    "sample2_c1 = CSV.read(\"sample2_c1.csv\")\n",
    "sample3_c1 = CSV.read(\"sample3_c1.csv\")\n",
    "\n",
    "sample1_c2 = CSV.read(\"sample1_c2.csv\")\n",
    "sample2_c2 = CSV.read(\"sample2_c2.csv\")\n",
    "\n",
    "sample1_c3 = CSV.read(\"sample1_c3.csv\")\n",
    "sample2_c3 = CSV.read(\"sample2_c3.csv\")\n",
    "\n",
    "sample1_c4_test = CSV.read(\"sample1_c4_test.csv\")"
   ]
  },
  {
   "cell_type": "code",
   "execution_count": 48,
   "metadata": {},
   "outputs": [
    {
     "data": {
      "text/plain": [
       "2-element Named Array{Int64,1}\n",
       "Dim1  │ \n",
       "──────┼─────\n",
       "0.0   │ 8623\n",
       "1.0   │ 5749"
      ]
     },
     "execution_count": 48,
     "metadata": {},
     "output_type": "execute_result"
    }
   ],
   "source": [
    "frequency_isFraud = freqtable(sample1_c1[:isFraud])"
   ]
  },
  {
   "cell_type": "markdown",
   "metadata": {},
   "source": [
    "## Size of a sample for train "
   ]
  },
  {
   "cell_type": "code",
   "execution_count": 49,
   "metadata": {},
   "outputs": [
    {
     "name": "stdout",
     "output_type": "stream",
     "text": [
      "Number of Instances in training sub-sample: 14372\n",
      "Number of features  in training sub-sample: 13\n"
     ]
    }
   ],
   "source": [
    "row, col = size(sample1_c1)\n",
    "println(\"Number of Instances in training sub-sample: \", row)\n",
    "println(\"Number of features  in training sub-sample: \", col)"
   ]
  },
  {
   "cell_type": "markdown",
   "metadata": {},
   "source": [
    "## Freqency distribution of isFraud column variables\n",
    "0 represents non-fraudulant transaction \n",
    "1 represents fraud transaction"
   ]
  },
  {
   "cell_type": "code",
   "execution_count": 50,
   "metadata": {
    "scrolled": true
   },
   "outputs": [
    {
     "data": {
      "text/plain": [
       "2-element Named Array{Int64,1}\n",
       "Dim1  │ \n",
       "──────┼─────\n",
       "0.0   │ 8623\n",
       "1.0   │ 5749"
      ]
     },
     "execution_count": 50,
     "metadata": {},
     "output_type": "execute_result"
    }
   ],
   "source": [
    "frequency_isFraud = freqtable(sample1_c1[:isFraud])"
   ]
  },
  {
   "cell_type": "markdown",
   "metadata": {},
   "source": [
    "## Histogram showing frequency distribution of non-fraud and fraud instances in Training\n"
   ]
  },
  {
   "cell_type": "code",
   "execution_count": 51,
   "metadata": {},
   "outputs": [
    {
     "data": {
      "image/png": "[encoded data removed]",
      "text/plain": [
       "Figure(PyObject <Figure size 640x480 with 1 Axes>)"
      ]
     },
     "metadata": {},
     "output_type": "display_data"
    },
    {
     "data": {
      "text/plain": [
       "PyObject Text(24.0, 0.5, 'Frequency')"
      ]
     },
     "execution_count": 51,
     "metadata": {},
     "output_type": "execute_result"
    }
   ],
   "source": [
    "h = PyPlot.plt.hist(sample1_c1[:isFraud], 3) \n",
    "plt.title(\"Histogram of isFraud\")\n",
    "plt.xlabel(\"Nonfraud, fraud\")\n",
    "plt.ylabel(\"Frequency\")\n",
    "\n"
   ]
  },
  {
   "cell_type": "code",
   "execution_count": 52,
   "metadata": {},
   "outputs": [
    {
     "name": "stdout",
     "output_type": "stream",
     "text": [
      "Non-Fraud and Fraud ratio in training sub-sample: 600.0 : 400.0\n"
     ]
    }
   ],
   "source": [
    "# Ratio of non-fraud and fraud in training \n",
    "ratio = prop(frequency_isFraud)\n",
    "println(\"Non-Fraud and Fraud ratio in training sub-sample: \", round(ratio[1]*1000),\" : \", round(ratio[2]*1000))"
   ]
  },
  {
   "cell_type": "code",
   "execution_count": 53,
   "metadata": {},
   "outputs": [
    {
     "name": "stdout",
     "output_type": "stream",
     "text": [
      "Number of Instances in test sub-sample: 8213\n",
      "Number of features  in test sub-sample: 13\n"
     ]
    }
   ],
   "source": [
    "# Size of a sample for test set \n",
    "row, col = size(sample1_c4_test)\n",
    "println(\"Number of Instances in test sub-sample: \", row)\n",
    "println(\"Number of features  in test sub-sample: \", col)"
   ]
  },
  {
   "cell_type": "code",
   "execution_count": null,
   "metadata": {},
   "outputs": [],
   "source": []
  },
  {
   "cell_type": "code",
   "execution_count": 54,
   "metadata": {
    "scrolled": true
   },
   "outputs": [
    {
     "data": {
      "text/plain": [
       "2-element Named Array{Int64,1}\n",
       "Dim1  │ \n",
       "──────┼─────\n",
       "0.0   │ 5749\n",
       "1.0   │ 2464"
      ]
     },
     "execution_count": 54,
     "metadata": {},
     "output_type": "execute_result"
    }
   ],
   "source": [
    "frequency_isFraud = freqtable(sample1_c4_test[:isFraud])"
   ]
  },
  {
   "cell_type": "markdown",
   "metadata": {},
   "source": [
    "## Histogram showing frequency distribution of non-fraud and fraud instances in Training\n"
   ]
  },
  {
   "cell_type": "code",
   "execution_count": 55,
   "metadata": {},
   "outputs": [
    {
     "data": {
      "image/png": "[encoded data removed]",
      "text/plain": [
       "Figure(PyObject <Figure size 640x480 with 1 Axes>)"
      ]
     },
     "metadata": {},
     "output_type": "display_data"
    },
    {
     "data": {
      "text/plain": [
       "PyObject Text(24.0, 0.5, 'Frequency')"
      ]
     },
     "execution_count": 55,
     "metadata": {},
     "output_type": "execute_result"
    }
   ],
   "source": [
    "h = PyPlot.plt.hist(sample1_c4_test[:isFraud], 3) \n",
    "plt.title(\"Histogram of isFraud\")\n",
    "plt.xlabel(\"Nonfraud, fraud\")\n",
    "plt.ylabel(\"Frequency\")\n"
   ]
  },
  {
   "cell_type": "code",
   "execution_count": 56,
   "metadata": {
    "scrolled": true
   },
   "outputs": [
    {
     "name": "stdout",
     "output_type": "stream",
     "text": [
      "Non-Fraud and Fraud ratio in training sub-sample: 700.0 : 300.0\n"
     ]
    }
   ],
   "source": [
    "# Ratio of non-fraud and fraud in testing \n",
    "\n",
    "ratio = prop(frequency_isFraud)\n",
    "println(\"Non-Fraud and Fraud ratio in training sub-sample: \", round(ratio[1]*1000),\" : \", round(ratio[2]*1000))"
   ]
  },
  {
   "cell_type": "markdown",
   "metadata": {},
   "source": [
    "# Preparing samples for Classifiers\n",
    "    1. Seperate features from and target class \n",
    "    2. Convert dataframes into Matrix "
   ]
  },
  {
   "cell_type": "code",
   "execution_count": 57,
   "metadata": {},
   "outputs": [
    {
     "data": {
      "text/plain": [
       "8213×12 Array{Union{Missing, Float64},2}:\n",
       " 324.0      3.60408e6      0.0        …  0.0  0.0  0.0  0.0  0.0  1.0\n",
       " 297.0      1.00385e7      0.0           0.0  0.0  0.0  0.0  0.0  1.0\n",
       " 164.0  48899.4            5.9452e5      0.0  1.0  0.0  0.0  0.0  0.0\n",
       " 228.0  63463.8            0.0           0.0  0.0  1.0  0.0  0.0  0.0\n",
       " 372.0      2.16955e5  51689.0           0.0  0.0  1.0  0.0  0.0  0.0\n",
       " 148.0      3.94886e5      3.94886e5  …  0.0  0.0  0.0  0.0  0.0  1.0\n",
       " 397.0      3.43814e5      7.46364e6     0.0  1.0  0.0  0.0  0.0  0.0\n",
       " 359.0  86974.3            2.0978e7      0.0  1.0  0.0  0.0  0.0  0.0\n",
       " 371.0      7.98773e6      0.0           0.0  0.0  0.0  0.0  0.0  1.0\n",
       " 304.0      4.73295e5      3.36654e6     0.0  1.0  0.0  0.0  0.0  0.0\n",
       " 569.0      1.77991e5      0.0        …  0.0  0.0  0.0  0.0  0.0  1.0\n",
       "  43.0   6305.71           5.13931e5     0.0  1.0  0.0  0.0  0.0  0.0\n",
       " 524.0  91911.4            0.0           0.0  0.0  1.0  0.0  0.0  0.0\n",
       "   ⋮                                  ⋱                      ⋮       \n",
       " 615.0      3.68973e5      3.68973e5     0.0  0.0  0.0  0.0  0.0  1.0\n",
       " 554.0      9.42186e6      9.42186e6     0.0  0.0  1.0  0.0  0.0  0.0\n",
       " 304.0      1.39968e7      0.0           0.0  0.0  0.0  0.0  0.0  1.0\n",
       " 394.0      5.49504e5      0.0           0.0  0.0  1.0  0.0  0.0  0.0\n",
       " 354.0      2.08688e5      0.0        …  0.0  0.0  1.0  0.0  0.0  0.0\n",
       " 408.0      5.6711e6       0.0           0.0  0.0  0.0  0.0  0.0  1.0\n",
       " 304.0      7.7123e5       0.0           0.0  0.0  0.0  0.0  0.0  1.0\n",
       " 666.0      1.45945e5      1.45945e5     0.0  0.0  0.0  0.0  0.0  1.0\n",
       " 211.0      9.66964e5      0.0           0.0  0.0  0.0  0.0  0.0  1.0\n",
       " 327.0      2.84791e6      0.0        …  0.0  0.0  0.0  0.0  0.0  1.0\n",
       " 205.0      1.50015e5      0.0           0.0  0.0  1.0  0.0  0.0  0.0\n",
       " 600.0      5.40155e5      5.40155e5     0.0  0.0  1.0  0.0  0.0  0.0"
      ]
     },
     "execution_count": 57,
     "metadata": {},
     "output_type": "execute_result"
    }
   ],
   "source": [
    "# Features for Training\n",
    "features = [:step,:amount,:oldbalanceOrg,:newbalanceOrig,:oldbalanceDest,:newbalanceDest,\n",
    ":isFlaggedFraud,:CASH_IN,:CASH_OUT,:DEBIT,:PAYMENT, :TRANSFER,]\n",
    "\n",
    "Xfeat_samp1_c1 = convert(Matrix, sample1_c1[features])\n",
    "Xfeat_samp2_c1 = convert(Matrix, sample2_c1[features])\n",
    "Xfeat_samp3_c1 = convert(Matrix, sample3_c1[features])\n",
    "Xfeat_samp1_c2 = convert(Matrix,sample1_c2[features])\n",
    "Xfeat_samp2_c2 = convert(Matrix,sample2_c2[features])\n",
    "Xfeat_samp1_c3 = convert(Matrix, sample1_c3[features])\n",
    "Xfeat_samp2_c3 = convert(Matrix, sample2_c3[features])\n",
    "\n",
    "Xfeat_samp1_c4_test = convert(Matrix, sample1_c4_test[features])\n"
   ]
  },
  {
   "cell_type": "code",
   "execution_count": 58,
   "metadata": {},
   "outputs": [
    {
     "data": {
      "text/plain": [
       "8213-element Array{Union{Missing, Float64},1}:\n",
       " 0.0\n",
       " 0.0\n",
       " 0.0\n",
       " 0.0\n",
       " 0.0\n",
       " 1.0\n",
       " 0.0\n",
       " 0.0\n",
       " 0.0\n",
       " 0.0\n",
       " 0.0\n",
       " 0.0\n",
       " 0.0\n",
       " ⋮  \n",
       " 1.0\n",
       " 1.0\n",
       " 0.0\n",
       " 0.0\n",
       " 0.0\n",
       " 0.0\n",
       " 0.0\n",
       " 1.0\n",
       " 0.0\n",
       " 0.0\n",
       " 0.0\n",
       " 1.0"
      ]
     },
     "execution_count": 58,
     "metadata": {},
     "output_type": "execute_result"
    }
   ],
   "source": [
    "Ylabel_samp1_c1 = convert(Array, sample1_c1[:isFraud])\n",
    "Ylabel_samp2_c1 = convert(Array, sample2_c1[:isFraud])\n",
    "Ylabel_samp3_c1 = convert(Array, sample3_c1[:isFraud])\n",
    "Ylabel_samp1_c2  = convert(Array, sample1_c2[:isFraud])\n",
    "Ylabel_samp2_c2  = convert(Array, sample2_c2[:isFraud])\n",
    "Ylabel_samp1_c3 = convert(Array, sample1_c3[:isFraud])\n",
    "Ylabel_samp2_c3 = convert(Array, sample2_c3[:isFraud])\n",
    "\n",
    "Ylabel_samp1_c4_test = convert(Array, sample1_c4_test[:isFraud])"
   ]
  },
  {
   "cell_type": "markdown",
   "metadata": {},
   "source": [
    "## Building 7 Random Forest classifiers with 7 sample data \n",
    "\n",
    "model    =   build_forest(labels, features,\n",
    "                          n_subfeatures,\n",
    "                          n_trees,\n",
    "                          partial_sampling,\n",
    "                          max_depth,\n",
    "                          min_samples_leaf,\n",
    "                          min_samples_split,\n",
    "                          min_purity_increase)\n"
   ]
  },
  {
   "cell_type": "code",
   "execution_count": 59,
   "metadata": {},
   "outputs": [
    {
     "data": {
      "text/plain": [
       "Ensemble of Decision Trees\n",
       "Trees:      100\n",
       "Avg Leaves: 111.02\n",
       "Avg Depth:  10.0"
      ]
     },
     "execution_count": 59,
     "metadata": {},
     "output_type": "execute_result"
    }
   ],
   "source": [
    "model1 = build_forest(Ylabel_samp1_c1, Xfeat_samp1_c1, 5, 100, 0.5, 10)\n",
    "model2 = build_forest(Ylabel_samp2_c1, Xfeat_samp2_c1, 5, 100, 0.5, 10)\n",
    "model3 = build_forest(Ylabel_samp3_c1, Xfeat_samp3_c1, 5, 100, 0.5, 10)\n",
    "model4 = build_forest(Ylabel_samp1_c2, Xfeat_samp1_c2, 5, 100, 0.5, 10)\n",
    "model5 = build_forest(Ylabel_samp2_c2, Xfeat_samp2_c2, 5, 100, 0.5, 10)\n",
    "model6 = build_forest(Ylabel_samp1_c3, Xfeat_samp1_c3, 5, 100, 0.5, 10)\n",
    "model7 = build_forest(Ylabel_samp2_c3, Xfeat_samp1_c3, 5, 100, 0.5, 10)"
   ]
  },
  {
   "cell_type": "code",
   "execution_count": 60,
   "metadata": {},
   "outputs": [
    {
     "data": {
      "text/plain": [
       "(Ensemble of Decision Trees\n",
       "Trees:      100\n",
       "Avg Leaves: 65.19\n",
       "Avg Depth:  10.0, Ensemble of Decision Trees\n",
       "Trees:      100\n",
       "Avg Leaves: 66.87\n",
       "Avg Depth:  10.0, Ensemble of Decision Trees\n",
       "Trees:      100\n",
       "Avg Leaves: 65.87\n",
       "Avg Depth:  10.0, Ensemble of Decision Trees\n",
       "Trees:      100\n",
       "Avg Leaves: 3.58\n",
       "Avg Depth:  2.37, Ensemble of Decision Trees\n",
       "Trees:      100\n",
       "Avg Leaves: 4.38\n",
       "Avg Depth:  2.98, Ensemble of Decision Trees\n",
       "Trees:      100\n",
       "Avg Leaves: 35.05\n",
       "Avg Depth:  10.0, Ensemble of Decision Trees\n",
       "Trees:      100\n",
       "Avg Leaves: 111.02\n",
       "Avg Depth:  10.0)"
      ]
     },
     "execution_count": 60,
     "metadata": {},
     "output_type": "execute_result"
    }
   ],
   "source": [
    "# packing all the models into a tuple \n",
    "all_models = (model1, model2, model3, model4, model5, model6, model7)"
   ]
  },
  {
   "cell_type": "markdown",
   "metadata": {},
   "source": [
    "## Function for ensembler classifier, that applies 7 random forest on test data"
   ]
  },
  {
   "cell_type": "code",
   "execution_count": 61,
   "metadata": {},
   "outputs": [
    {
     "data": {
      "text/plain": [
       "ensemblerClassifier (generic function with 1 method)"
      ]
     },
     "execution_count": 61,
     "metadata": {},
     "output_type": "execute_result"
    }
   ],
   "source": [
    "function ensemblerClassifier(Xfeatures_test, models)\n",
    "    \n",
    "    model1, model2, model3, model4, model5, model6, model7 = models\n",
    "    predictions1 = apply_forest(model1, Xfeatures_test)\n",
    "    predictions2 = apply_forest(model2, Xfeatures_test)\n",
    "    predictions3 = apply_forest(model3, Xfeatures_test)\n",
    "    predictions4 = apply_forest(model4, Xfeatures_test)\n",
    "    predictions5 = apply_forest(model5, Xfeatures_test)\n",
    "    predictions6 = apply_forest(model6, Xfeatures_test)\n",
    "    predictions7 = apply_forest(model7, Xfeatures_test)\n",
    "\n",
    "\n",
    "    predictions = (predictions1, predictions2, predictions3, predictions4, predictions5, predictions6, predictions7)\n",
    "    \n",
    "    sz = size(predictions7)\n",
    "    prediction_rwo_sz = sz[1]\n",
    "\n",
    "    majorityVoted_predictions = calcualteMajorityVote(predictions, prediction_rwo_sz)\n",
    "    \n",
    "    return majorityVoted_predictions\n",
    "end"
   ]
  },
  {
   "cell_type": "markdown",
   "metadata": {},
   "source": [
    "## Function that clalucate majority vote for ensembler "
   ]
  },
  {
   "cell_type": "code",
   "execution_count": 62,
   "metadata": {},
   "outputs": [
    {
     "data": {
      "text/plain": [
       "calcualteMajorityVote (generic function with 1 method)"
      ]
     },
     "execution_count": 62,
     "metadata": {},
     "output_type": "execute_result"
    }
   ],
   "source": [
    "function calcualteMajorityVote(predictions, len)\n",
    "    majority_prediction = Float64[]\n",
    "    predictions1, predictions2, predictions3, predictions4, predictions5,predictions6, predictions7  = predictions\n",
    "    for i = 1 : len\n",
    "       temp = predictions1[i] + predictions2[i] + predictions3[i] + predictions4[i] + predictions5[i] + predictions6[i]+ predictions7[i] \n",
    "        if temp > 3\n",
    "            push!(majority_prediction, 1.0)\n",
    "        else\n",
    "            push!(majority_prediction, 0.0)\n",
    "        end\n",
    "        temp = 0\n",
    "    end\n",
    "    return majority_prediction\n",
    "end"
   ]
  },
  {
   "cell_type": "code",
   "execution_count": 63,
   "metadata": {
    "scrolled": true
   },
   "outputs": [
    {
     "data": {
      "text/plain": [
       "8213-element Array{Float64,1}:\n",
       " 0.0\n",
       " 0.0\n",
       " 0.0\n",
       " 0.0\n",
       " 0.0\n",
       " 1.0\n",
       " 0.0\n",
       " 0.0\n",
       " 0.0\n",
       " 0.0\n",
       " 0.0\n",
       " 0.0\n",
       " 0.0\n",
       " ⋮  \n",
       " 1.0\n",
       " 1.0\n",
       " 0.0\n",
       " 0.0\n",
       " 0.0\n",
       " 0.0\n",
       " 0.0\n",
       " 1.0\n",
       " 0.0\n",
       " 0.0\n",
       " 0.0\n",
       " 1.0"
      ]
     },
     "execution_count": 63,
     "metadata": {},
     "output_type": "execute_result"
    }
   ],
   "source": [
    "# ensemblerClassifier function takes test data, and traning models as argument and return votted prediction set. \n",
    "\n",
    "votted_prediction = ensemblerClassifier(Xfeat_samp1_c4_test, all_models)"
   ]
  },
  {
   "cell_type": "code",
   "execution_count": 64,
   "metadata": {},
   "outputs": [
    {
     "data": {
      "text/plain": [
       "ensembler_result (generic function with 1 method)"
      ]
     },
     "execution_count": 64,
     "metadata": {},
     "output_type": "execute_result"
    }
   ],
   "source": [
    "function ensembler_result(votted_prediction, Ylabel_samp1_c4_test)\n",
    "    acc = accuracy_score(votted_prediction, Ylabel_samp1_c4_test)\n",
    "    p_score  = precision_score( Ylabel_samp1_c4_test, votted_prediction)\n",
    "    r_score = recall_score(Ylabel_samp1_c4_test, votted_prediction)\n",
    "    f_score = f1_score( Ylabel_samp1_c4_test, votted_prediction)\n",
    "\n",
    "    return acc, p_score, r_score, f_score \n",
    "end"
   ]
  },
  {
   "cell_type": "markdown",
   "metadata": {},
   "source": [
    "# Classification Report   "
   ]
  },
  {
   "cell_type": "code",
   "execution_count": 65,
   "metadata": {},
   "outputs": [
    {
     "data": {
      "text/plain": [
       "(0.9755266041641301, 0.9274650547789951, 0.9963474025974026, 0.960673058109959)"
      ]
     },
     "execution_count": 65,
     "metadata": {},
     "output_type": "execute_result"
    }
   ],
   "source": [
    "all_result =  ensembler_result(votted_prediction, Ylabel_samp1_c4_test)"
   ]
  },
  {
   "cell_type": "code",
   "execution_count": 66,
   "metadata": {},
   "outputs": [
    {
     "name": "stdout",
     "output_type": "stream",
     "text": [
      "Accuracy: 97.552660416413\n",
      "Precision: 92.7465054778995\n",
      "Recall: 99.63474025974025\n",
      "f1-Score: 96.06730581099589\n"
     ]
    }
   ],
   "source": [
    "println(\"Accuracy: \",  all_result[1] * 100)\n",
    "println(\"Precision: \", all_result[2] * 100)\n",
    "println(\"Recall: \", all_result[3] * 100)\n",
    "println(\"f1-Score: \", all_result[4] * 100)"
   ]
  },
  {
   "cell_type": "markdown",
   "metadata": {},
   "source": [
    "## Confusion Matrix "
   ]
  },
  {
   "cell_type": "code",
   "execution_count": 67,
   "metadata": {},
   "outputs": [
    {
     "data": {
      "text/plain": [
       "2×2 Array{Int64,2}:\n",
       " 5557   192\n",
       "    9  2455"
      ]
     },
     "execution_count": 67,
     "metadata": {},
     "output_type": "execute_result"
    }
   ],
   "source": [
    "confusion_matrix(Ylabel_samp1_c4_test, votted_prediction)"
   ]
  }
 ],
 "metadata": {
  "@webio": {
   "lastCommId": null,
   "lastKernelId": null
  },
  "kernelspec": {
   "display_name": "Python 3",
   "language": "python",
   "name": "python3"
  },
  "language_info": {
   "codemirror_mode": {
    "name": "ipython",
    "version": 3
   },
   "file_extension": ".py",
   "mimetype": "text/x-python",
   "name": "python",
   "nbconvert_exporter": "python",
   "pygments_lexer": "ipython3",
   "version": "3.7.3"
  }
 },
 "nbformat": 4,
 "nbformat_minor": 2
}
